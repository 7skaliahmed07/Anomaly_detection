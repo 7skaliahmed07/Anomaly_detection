{
 "cells": [
  {
   "cell_type": "markdown",
   "metadata": {},
   "source": [
    "Title : Anomaly Detection"
   ]
  },
  {
   "cell_type": "markdown",
   "metadata": {},
   "source": [
    "This dataset is a list of 1,000 financial transactions from a bank or similar system. Each row is one transaction, labeled TX0 to TX999. It includes details like:\n",
    "\n",
    "- **Transaction info**: Amount (mostly $900–$1,100, with a few unusually high like over $2,700), volume (number of transactions), average amount, frequency (how often they happen), and time since the last one (in days).\n",
    "- **Timing**: Day of the week (e.g., Friday), time of day (e.g., 6:00), to spot patterns.\n",
    "- **Customer details**: Age (18–64 years), gender (Male or Female), income (varies widely, like $300K–$1.5M), and account type (Savings or Current).\n",
    "\n",
    "It seems designed to study customer behavior or detect odd transactions, like fraud, but it's just sample data with no real anomalies marked.\n"
   ]
  },
  {
   "cell_type": "code",
   "execution_count": 1,
   "metadata": {},
   "outputs": [],
   "source": [
    "import pandas as pd\n",
    "import numpy as np\n",
    "import plotly.express as px\n",
    "from sklearn.model_selection import train_test_split\n",
    "from sklearn.ensemble import IsolationForest\n",
    "from sklearn.metrics import classification_report, confusion_matrix"
   ]
  },
  {
   "cell_type": "code",
   "execution_count": 2,
   "metadata": {},
   "outputs": [
    {
     "data": {
      "text/html": [
       "<div>\n",
       "<style scoped>\n",
       "    .dataframe tbody tr th:only-of-type {\n",
       "        vertical-align: middle;\n",
       "    }\n",
       "\n",
       "    .dataframe tbody tr th {\n",
       "        vertical-align: top;\n",
       "    }\n",
       "\n",
       "    .dataframe thead th {\n",
       "        text-align: right;\n",
       "    }\n",
       "</style>\n",
       "<table border=\"1\" class=\"dataframe\">\n",
       "  <thead>\n",
       "    <tr style=\"text-align: right;\">\n",
       "      <th></th>\n",
       "      <th>Transaction_ID</th>\n",
       "      <th>Transaction_Amount</th>\n",
       "      <th>Transaction_Volume</th>\n",
       "      <th>Average_Transaction_Amount</th>\n",
       "      <th>Frequency_of_Transactions</th>\n",
       "      <th>Time_Since_Last_Transaction</th>\n",
       "      <th>Day_of_Week</th>\n",
       "      <th>Time_of_Day</th>\n",
       "      <th>Age</th>\n",
       "      <th>Gender</th>\n",
       "      <th>Income</th>\n",
       "      <th>Account_Type</th>\n",
       "    </tr>\n",
       "  </thead>\n",
       "  <tbody>\n",
       "    <tr>\n",
       "      <th>0</th>\n",
       "      <td>TX0</td>\n",
       "      <td>1024.835708</td>\n",
       "      <td>3</td>\n",
       "      <td>997.234714</td>\n",
       "      <td>12</td>\n",
       "      <td>29</td>\n",
       "      <td>Friday</td>\n",
       "      <td>6:00</td>\n",
       "      <td>36</td>\n",
       "      <td>Male</td>\n",
       "      <td>1436074</td>\n",
       "      <td>Savings</td>\n",
       "    </tr>\n",
       "    <tr>\n",
       "      <th>1</th>\n",
       "      <td>TX1</td>\n",
       "      <td>1013.952065</td>\n",
       "      <td>4</td>\n",
       "      <td>1020.210306</td>\n",
       "      <td>7</td>\n",
       "      <td>22</td>\n",
       "      <td>Friday</td>\n",
       "      <td>1:00</td>\n",
       "      <td>41</td>\n",
       "      <td>Female</td>\n",
       "      <td>627069</td>\n",
       "      <td>Savings</td>\n",
       "    </tr>\n",
       "    <tr>\n",
       "      <th>2</th>\n",
       "      <td>TX2</td>\n",
       "      <td>970.956093</td>\n",
       "      <td>1</td>\n",
       "      <td>989.496604</td>\n",
       "      <td>5</td>\n",
       "      <td>12</td>\n",
       "      <td>Tuesday</td>\n",
       "      <td>21:00</td>\n",
       "      <td>61</td>\n",
       "      <td>Male</td>\n",
       "      <td>786232</td>\n",
       "      <td>Savings</td>\n",
       "    </tr>\n",
       "    <tr>\n",
       "      <th>3</th>\n",
       "      <td>TX3</td>\n",
       "      <td>1040.822254</td>\n",
       "      <td>2</td>\n",
       "      <td>969.522480</td>\n",
       "      <td>16</td>\n",
       "      <td>28</td>\n",
       "      <td>Sunday</td>\n",
       "      <td>14:00</td>\n",
       "      <td>61</td>\n",
       "      <td>Male</td>\n",
       "      <td>619030</td>\n",
       "      <td>Savings</td>\n",
       "    </tr>\n",
       "    <tr>\n",
       "      <th>4</th>\n",
       "      <td>TX4</td>\n",
       "      <td>998.777241</td>\n",
       "      <td>1</td>\n",
       "      <td>1007.111026</td>\n",
       "      <td>7</td>\n",
       "      <td>7</td>\n",
       "      <td>Friday</td>\n",
       "      <td>8:00</td>\n",
       "      <td>56</td>\n",
       "      <td>Female</td>\n",
       "      <td>649457</td>\n",
       "      <td>Savings</td>\n",
       "    </tr>\n",
       "  </tbody>\n",
       "</table>\n",
       "</div>"
      ],
      "text/plain": [
       "  Transaction_ID  Transaction_Amount  Transaction_Volume  \\\n",
       "0            TX0         1024.835708                   3   \n",
       "1            TX1         1013.952065                   4   \n",
       "2            TX2          970.956093                   1   \n",
       "3            TX3         1040.822254                   2   \n",
       "4            TX4          998.777241                   1   \n",
       "\n",
       "   Average_Transaction_Amount  Frequency_of_Transactions  \\\n",
       "0                  997.234714                         12   \n",
       "1                 1020.210306                          7   \n",
       "2                  989.496604                          5   \n",
       "3                  969.522480                         16   \n",
       "4                 1007.111026                          7   \n",
       "\n",
       "   Time_Since_Last_Transaction Day_of_Week Time_of_Day  Age  Gender   Income  \\\n",
       "0                           29      Friday        6:00   36    Male  1436074   \n",
       "1                           22      Friday        1:00   41  Female   627069   \n",
       "2                           12     Tuesday       21:00   61    Male   786232   \n",
       "3                           28      Sunday       14:00   61    Male   619030   \n",
       "4                            7      Friday        8:00   56  Female   649457   \n",
       "\n",
       "  Account_Type  \n",
       "0      Savings  \n",
       "1      Savings  \n",
       "2      Savings  \n",
       "3      Savings  \n",
       "4      Savings  "
      ]
     },
     "execution_count": 2,
     "metadata": {},
     "output_type": "execute_result"
    }
   ],
   "source": [
    "data = pd.read_csv('./transaction_anomalies_dataset.csv')\n",
    "data.head()"
   ]
  },
  {
   "cell_type": "code",
   "execution_count": 3,
   "metadata": {},
   "outputs": [
    {
     "name": "stdout",
     "output_type": "stream",
     "text": [
      "<class 'pandas.core.frame.DataFrame'>\n",
      "RangeIndex: 1000 entries, 0 to 999\n",
      "Data columns (total 12 columns):\n",
      " #   Column                       Non-Null Count  Dtype  \n",
      "---  ------                       --------------  -----  \n",
      " 0   Transaction_ID               1000 non-null   object \n",
      " 1   Transaction_Amount           1000 non-null   float64\n",
      " 2   Transaction_Volume           1000 non-null   int64  \n",
      " 3   Average_Transaction_Amount   1000 non-null   float64\n",
      " 4   Frequency_of_Transactions    1000 non-null   int64  \n",
      " 5   Time_Since_Last_Transaction  1000 non-null   int64  \n",
      " 6   Day_of_Week                  1000 non-null   object \n",
      " 7   Time_of_Day                  1000 non-null   object \n",
      " 8   Age                          1000 non-null   int64  \n",
      " 9   Gender                       1000 non-null   object \n",
      " 10  Income                       1000 non-null   int64  \n",
      " 11  Account_Type                 1000 non-null   object \n",
      "dtypes: float64(2), int64(5), object(5)\n",
      "memory usage: 93.9+ KB\n",
      "None\n"
     ]
    }
   ],
   "source": [
    "print(data.info())"
   ]
  },
  {
   "cell_type": "code",
   "execution_count": 4,
   "metadata": {},
   "outputs": [
    {
     "name": "stdout",
     "output_type": "stream",
     "text": [
      "       Transaction_Amount  Transaction_Volume  Average_Transaction_Amount  \\\n",
      "count         1000.000000         1000.000000                 1000.000000   \n",
      "mean          1038.122511            2.498000                 1000.682506   \n",
      "std            283.580055            1.115006                   20.632334   \n",
      "min            849.024392            1.000000                  939.081423   \n",
      "25%            966.028796            1.000000                  986.800556   \n",
      "50%           1002.118678            3.000000                 1000.501903   \n",
      "75%           1033.143657            3.000000                 1015.155595   \n",
      "max           3227.459108            4.000000                 1073.154036   \n",
      "\n",
      "       Frequency_of_Transactions  Time_Since_Last_Transaction          Age  \\\n",
      "count                1000.000000                  1000.000000  1000.000000   \n",
      "mean                   12.078000                    15.341000    40.641000   \n",
      "std                     4.245225                     8.361258    13.819953   \n",
      "min                     5.000000                     1.000000    18.000000   \n",
      "25%                     8.000000                     8.000000    29.000000   \n",
      "50%                    12.000000                    16.000000    41.000000   \n",
      "75%                    16.000000                    22.000000    53.000000   \n",
      "max                    19.000000                    29.000000    64.000000   \n",
      "\n",
      "             Income  \n",
      "count  1.000000e+03  \n",
      "mean   8.948238e+05  \n",
      "std    3.453562e+05  \n",
      "min    3.001590e+05  \n",
      "25%    5.917308e+05  \n",
      "50%    8.876645e+05  \n",
      "75%    1.178102e+06  \n",
      "max    1.499670e+06  \n"
     ]
    }
   ],
   "source": [
    "print(data.describe())"
   ]
  },
  {
   "cell_type": "code",
   "execution_count": 5,
   "metadata": {},
   "outputs": [
    {
     "name": "stdout",
     "output_type": "stream",
     "text": [
      "Transaction_ID                 0\n",
      "Transaction_Amount             0\n",
      "Transaction_Volume             0\n",
      "Average_Transaction_Amount     0\n",
      "Frequency_of_Transactions      0\n",
      "Time_Since_Last_Transaction    0\n",
      "Day_of_Week                    0\n",
      "Time_of_Day                    0\n",
      "Age                            0\n",
      "Gender                         0\n",
      "Income                         0\n",
      "Account_Type                   0\n",
      "dtype: int64\n"
     ]
    }
   ],
   "source": [
    "print(data.isnull().sum())\n"
   ]
  },
  {
   "cell_type": "markdown",
   "metadata": {},
   "source": [
    "Transaction Amount Distribution :"
   ]
  },
  {
   "cell_type": "code",
   "execution_count": 6,
   "metadata": {},
   "outputs": [],
   "source": [
    "amount_figure = px.histogram(data, x='Transaction_Amount', nbins=20, title='Transaction Amount Distribution')"
   ]
  },
  {
   "cell_type": "code",
   "execution_count": 7,
   "metadata": {},
   "outputs": [
    {
     "data": {
      "application/vnd.plotly.v1+json": {
       "config": {
        "plotlyServerURL": "https://plot.ly"
       },
       "data": [
        {
         "bingroup": "x",
         "hovertemplate": "Transaction_Amount=%{x}<br>count=%{y}<extra></extra>",
         "legendgroup": "",
         "marker": {
          "color": "#636efa",
          "pattern": {
           "shape": ""
          }
         },
         "name": "",
         "nbinsx": 20,
         "orientation": "v",
         "showlegend": false,
         "type": "histogram",
         "x": {
          "bdata": "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",
          "dtype": "f8"
         },
         "xaxis": "x",
         "yaxis": "y"
        }
       ],
       "layout": {
        "barmode": "relative",
        "legend": {
         "tracegroupgap": 0
        },
        "template": {
         "data": {
          "bar": [
           {
            "error_x": {
             "color": "#2a3f5f"
            },
            "error_y": {
             "color": "#2a3f5f"
            },
            "marker": {
             "line": {
              "color": "#E5ECF6",
              "width": 0.5
             },
             "pattern": {
              "fillmode": "overlay",
              "size": 10,
              "solidity": 0.2
             }
            },
            "type": "bar"
           }
          ],
          "barpolar": [
           {
            "marker": {
             "line": {
              "color": "#E5ECF6",
              "width": 0.5
             },
             "pattern": {
              "fillmode": "overlay",
              "size": 10,
              "solidity": 0.2
             }
            },
            "type": "barpolar"
           }
          ],
          "carpet": [
           {
            "aaxis": {
             "endlinecolor": "#2a3f5f",
             "gridcolor": "white",
             "linecolor": "white",
             "minorgridcolor": "white",
             "startlinecolor": "#2a3f5f"
            },
            "baxis": {
             "endlinecolor": "#2a3f5f",
             "gridcolor": "white",
             "linecolor": "white",
             "minorgridcolor": "white",
             "startlinecolor": "#2a3f5f"
            },
            "type": "carpet"
           }
          ],
          "choropleth": [
           {
            "colorbar": {
             "outlinewidth": 0,
             "ticks": ""
            },
            "type": "choropleth"
           }
          ],
          "contour": [
           {
            "colorbar": {
             "outlinewidth": 0,
             "ticks": ""
            },
            "colorscale": [
             [
              0,
              "#0d0887"
             ],
             [
              0.1111111111111111,
              "#46039f"
             ],
             [
              0.2222222222222222,
              "#7201a8"
             ],
             [
              0.3333333333333333,
              "#9c179e"
             ],
             [
              0.4444444444444444,
              "#bd3786"
             ],
             [
              0.5555555555555556,
              "#d8576b"
             ],
             [
              0.6666666666666666,
              "#ed7953"
             ],
             [
              0.7777777777777778,
              "#fb9f3a"
             ],
             [
              0.8888888888888888,
              "#fdca26"
             ],
             [
              1,
              "#f0f921"
             ]
            ],
            "type": "contour"
           }
          ],
          "contourcarpet": [
           {
            "colorbar": {
             "outlinewidth": 0,
             "ticks": ""
            },
            "type": "contourcarpet"
           }
          ],
          "heatmap": [
           {
            "colorbar": {
             "outlinewidth": 0,
             "ticks": ""
            },
            "colorscale": [
             [
              0,
              "#0d0887"
             ],
             [
              0.1111111111111111,
              "#46039f"
             ],
             [
              0.2222222222222222,
              "#7201a8"
             ],
             [
              0.3333333333333333,
              "#9c179e"
             ],
             [
              0.4444444444444444,
              "#bd3786"
             ],
             [
              0.5555555555555556,
              "#d8576b"
             ],
             [
              0.6666666666666666,
              "#ed7953"
             ],
             [
              0.7777777777777778,
              "#fb9f3a"
             ],
             [
              0.8888888888888888,
              "#fdca26"
             ],
             [
              1,
              "#f0f921"
             ]
            ],
            "type": "heatmap"
           }
          ],
          "histogram": [
           {
            "marker": {
             "pattern": {
              "fillmode": "overlay",
              "size": 10,
              "solidity": 0.2
             }
            },
            "type": "histogram"
           }
          ],
          "histogram2d": [
           {
            "colorbar": {
             "outlinewidth": 0,
             "ticks": ""
            },
            "colorscale": [
             [
              0,
              "#0d0887"
             ],
             [
              0.1111111111111111,
              "#46039f"
             ],
             [
              0.2222222222222222,
              "#7201a8"
             ],
             [
              0.3333333333333333,
              "#9c179e"
             ],
             [
              0.4444444444444444,
              "#bd3786"
             ],
             [
              0.5555555555555556,
              "#d8576b"
             ],
             [
              0.6666666666666666,
              "#ed7953"
             ],
             [
              0.7777777777777778,
              "#fb9f3a"
             ],
             [
              0.8888888888888888,
              "#fdca26"
             ],
             [
              1,
              "#f0f921"
             ]
            ],
            "type": "histogram2d"
           }
          ],
          "histogram2dcontour": [
           {
            "colorbar": {
             "outlinewidth": 0,
             "ticks": ""
            },
            "colorscale": [
             [
              0,
              "#0d0887"
             ],
             [
              0.1111111111111111,
              "#46039f"
             ],
             [
              0.2222222222222222,
              "#7201a8"
             ],
             [
              0.3333333333333333,
              "#9c179e"
             ],
             [
              0.4444444444444444,
              "#bd3786"
             ],
             [
              0.5555555555555556,
              "#d8576b"
             ],
             [
              0.6666666666666666,
              "#ed7953"
             ],
             [
              0.7777777777777778,
              "#fb9f3a"
             ],
             [
              0.8888888888888888,
              "#fdca26"
             ],
             [
              1,
              "#f0f921"
             ]
            ],
            "type": "histogram2dcontour"
           }
          ],
          "mesh3d": [
           {
            "colorbar": {
             "outlinewidth": 0,
             "ticks": ""
            },
            "type": "mesh3d"
           }
          ],
          "parcoords": [
           {
            "line": {
             "colorbar": {
              "outlinewidth": 0,
              "ticks": ""
             }
            },
            "type": "parcoords"
           }
          ],
          "pie": [
           {
            "automargin": true,
            "type": "pie"
           }
          ],
          "scatter": [
           {
            "fillpattern": {
             "fillmode": "overlay",
             "size": 10,
             "solidity": 0.2
            },
            "type": "scatter"
           }
          ],
          "scatter3d": [
           {
            "line": {
             "colorbar": {
              "outlinewidth": 0,
              "ticks": ""
             }
            },
            "marker": {
             "colorbar": {
              "outlinewidth": 0,
              "ticks": ""
             }
            },
            "type": "scatter3d"
           }
          ],
          "scattercarpet": [
           {
            "marker": {
             "colorbar": {
              "outlinewidth": 0,
              "ticks": ""
             }
            },
            "type": "scattercarpet"
           }
          ],
          "scattergeo": [
           {
            "marker": {
             "colorbar": {
              "outlinewidth": 0,
              "ticks": ""
             }
            },
            "type": "scattergeo"
           }
          ],
          "scattergl": [
           {
            "marker": {
             "colorbar": {
              "outlinewidth": 0,
              "ticks": ""
             }
            },
            "type": "scattergl"
           }
          ],
          "scattermap": [
           {
            "marker": {
             "colorbar": {
              "outlinewidth": 0,
              "ticks": ""
             }
            },
            "type": "scattermap"
           }
          ],
          "scattermapbox": [
           {
            "marker": {
             "colorbar": {
              "outlinewidth": 0,
              "ticks": ""
             }
            },
            "type": "scattermapbox"
           }
          ],
          "scatterpolar": [
           {
            "marker": {
             "colorbar": {
              "outlinewidth": 0,
              "ticks": ""
             }
            },
            "type": "scatterpolar"
           }
          ],
          "scatterpolargl": [
           {
            "marker": {
             "colorbar": {
              "outlinewidth": 0,
              "ticks": ""
             }
            },
            "type": "scatterpolargl"
           }
          ],
          "scatterternary": [
           {
            "marker": {
             "colorbar": {
              "outlinewidth": 0,
              "ticks": ""
             }
            },
            "type": "scatterternary"
           }
          ],
          "surface": [
           {
            "colorbar": {
             "outlinewidth": 0,
             "ticks": ""
            },
            "colorscale": [
             [
              0,
              "#0d0887"
             ],
             [
              0.1111111111111111,
              "#46039f"
             ],
             [
              0.2222222222222222,
              "#7201a8"
             ],
             [
              0.3333333333333333,
              "#9c179e"
             ],
             [
              0.4444444444444444,
              "#bd3786"
             ],
             [
              0.5555555555555556,
              "#d8576b"
             ],
             [
              0.6666666666666666,
              "#ed7953"
             ],
             [
              0.7777777777777778,
              "#fb9f3a"
             ],
             [
              0.8888888888888888,
              "#fdca26"
             ],
             [
              1,
              "#f0f921"
             ]
            ],
            "type": "surface"
           }
          ],
          "table": [
           {
            "cells": {
             "fill": {
              "color": "#EBF0F8"
             },
             "line": {
              "color": "white"
             }
            },
            "header": {
             "fill": {
              "color": "#C8D4E3"
             },
             "line": {
              "color": "white"
             }
            },
            "type": "table"
           }
          ]
         },
         "layout": {
          "annotationdefaults": {
           "arrowcolor": "#2a3f5f",
           "arrowhead": 0,
           "arrowwidth": 1
          },
          "autotypenumbers": "strict",
          "coloraxis": {
           "colorbar": {
            "outlinewidth": 0,
            "ticks": ""
           }
          },
          "colorscale": {
           "diverging": [
            [
             0,
             "#8e0152"
            ],
            [
             0.1,
             "#c51b7d"
            ],
            [
             0.2,
             "#de77ae"
            ],
            [
             0.3,
             "#f1b6da"
            ],
            [
             0.4,
             "#fde0ef"
            ],
            [
             0.5,
             "#f7f7f7"
            ],
            [
             0.6,
             "#e6f5d0"
            ],
            [
             0.7,
             "#b8e186"
            ],
            [
             0.8,
             "#7fbc41"
            ],
            [
             0.9,
             "#4d9221"
            ],
            [
             1,
             "#276419"
            ]
           ],
           "sequential": [
            [
             0,
             "#0d0887"
            ],
            [
             0.1111111111111111,
             "#46039f"
            ],
            [
             0.2222222222222222,
             "#7201a8"
            ],
            [
             0.3333333333333333,
             "#9c179e"
            ],
            [
             0.4444444444444444,
             "#bd3786"
            ],
            [
             0.5555555555555556,
             "#d8576b"
            ],
            [
             0.6666666666666666,
             "#ed7953"
            ],
            [
             0.7777777777777778,
             "#fb9f3a"
            ],
            [
             0.8888888888888888,
             "#fdca26"
            ],
            [
             1,
             "#f0f921"
            ]
           ],
           "sequentialminus": [
            [
             0,
             "#0d0887"
            ],
            [
             0.1111111111111111,
             "#46039f"
            ],
            [
             0.2222222222222222,
             "#7201a8"
            ],
            [
             0.3333333333333333,
             "#9c179e"
            ],
            [
             0.4444444444444444,
             "#bd3786"
            ],
            [
             0.5555555555555556,
             "#d8576b"
            ],
            [
             0.6666666666666666,
             "#ed7953"
            ],
            [
             0.7777777777777778,
             "#fb9f3a"
            ],
            [
             0.8888888888888888,
             "#fdca26"
            ],
            [
             1,
             "#f0f921"
            ]
           ]
          },
          "colorway": [
           "#636efa",
           "#EF553B",
           "#00cc96",
           "#ab63fa",
           "#FFA15A",
           "#19d3f3",
           "#FF6692",
           "#B6E880",
           "#FF97FF",
           "#FECB52"
          ],
          "font": {
           "color": "#2a3f5f"
          },
          "geo": {
           "bgcolor": "white",
           "lakecolor": "white",
           "landcolor": "#E5ECF6",
           "showlakes": true,
           "showland": true,
           "subunitcolor": "white"
          },
          "hoverlabel": {
           "align": "left"
          },
          "hovermode": "closest",
          "mapbox": {
           "style": "light"
          },
          "paper_bgcolor": "white",
          "plot_bgcolor": "#E5ECF6",
          "polar": {
           "angularaxis": {
            "gridcolor": "white",
            "linecolor": "white",
            "ticks": ""
           },
           "bgcolor": "#E5ECF6",
           "radialaxis": {
            "gridcolor": "white",
            "linecolor": "white",
            "ticks": ""
           }
          },
          "scene": {
           "xaxis": {
            "backgroundcolor": "#E5ECF6",
            "gridcolor": "white",
            "gridwidth": 2,
            "linecolor": "white",
            "showbackground": true,
            "ticks": "",
            "zerolinecolor": "white"
           },
           "yaxis": {
            "backgroundcolor": "#E5ECF6",
            "gridcolor": "white",
            "gridwidth": 2,
            "linecolor": "white",
            "showbackground": true,
            "ticks": "",
            "zerolinecolor": "white"
           },
           "zaxis": {
            "backgroundcolor": "#E5ECF6",
            "gridcolor": "white",
            "gridwidth": 2,
            "linecolor": "white",
            "showbackground": true,
            "ticks": "",
            "zerolinecolor": "white"
           }
          },
          "shapedefaults": {
           "line": {
            "color": "#2a3f5f"
           }
          },
          "ternary": {
           "aaxis": {
            "gridcolor": "white",
            "linecolor": "white",
            "ticks": ""
           },
           "baxis": {
            "gridcolor": "white",
            "linecolor": "white",
            "ticks": ""
           },
           "bgcolor": "#E5ECF6",
           "caxis": {
            "gridcolor": "white",
            "linecolor": "white",
            "ticks": ""
           }
          },
          "title": {
           "x": 0.05
          },
          "xaxis": {
           "automargin": true,
           "gridcolor": "white",
           "linecolor": "white",
           "ticks": "",
           "title": {
            "standoff": 15
           },
           "zerolinecolor": "white",
           "zerolinewidth": 2
          },
          "yaxis": {
           "automargin": true,
           "gridcolor": "white",
           "linecolor": "white",
           "ticks": "",
           "title": {
            "standoff": 15
           },
           "zerolinecolor": "white",
           "zerolinewidth": 2
          }
         }
        },
        "title": {
         "text": "Transaction Amount Distribution"
        },
        "xaxis": {
         "anchor": "y",
         "domain": [
          0,
          1
         ],
         "title": {
          "text": "Transaction_Amount"
         }
        },
        "yaxis": {
         "anchor": "x",
         "domain": [
          0,
          1
         ],
         "title": {
          "text": "count"
         }
        }
       }
      }
     },
     "metadata": {},
     "output_type": "display_data"
    }
   ],
   "source": [
    "amount_figure.show()"
   ]
  },
  {
   "cell_type": "markdown",
   "metadata": {},
   "source": [
    "Distribution of transactions by Account Type : "
   ]
  },
  {
   "cell_type": "code",
   "execution_count": 8,
   "metadata": {},
   "outputs": [],
   "source": [
    "box_amount = px.box(data, x = \"Account_Type\",y = \"Transaction_Amount\", title = \"Transaction Amount by Account Type\")"
   ]
  },
  {
   "cell_type": "code",
   "execution_count": 9,
   "metadata": {},
   "outputs": [
    {
     "data": {
      "application/vnd.plotly.v1+json": {
       "config": {
        "plotlyServerURL": "https://plot.ly"
       },
       "data": [
        {
         "alignmentgroup": "True",
         "hovertemplate": "Account_Type=%{x}<br>Transaction_Amount=%{y}<extra></extra>",
         "legendgroup": "",
         "marker": {
          "color": "#636efa"
         },
         "name": "",
         "notched": false,
         "offsetgroup": "",
         "orientation": "v",
         "showlegend": false,
         "type": "box",
         "x": [
          "Savings",
          "Savings",
          "Savings",
          "Savings",
          "Savings",
          "Savings",
          "Savings",
          "Savings",
          "Savings",
          "Current",
          "Savings",
          "Current",
          "Savings",
          "Current",
          "Savings",
          "Savings",
          "Current",
          "Savings",
          "Savings",
          "Savings",
          "Current",
          "Savings",
          "Savings",
          "Savings",
          "Savings",
          "Current",
          "Current",
          "Current",
          "Savings",
          "Savings",
          "Savings",
          "Current",
          "Current",
          "Current",
          "Savings",
          "Current",
          "Current",
          "Savings",
          "Savings",
          "Current",
          "Savings",
          "Savings",
          "Current",
          "Current",
          "Savings",
          "Current",
          "Savings",
          "Savings",
          "Current",
          "Current",
          "Current",
          "Savings",
          "Current",
          "Savings",
          "Current",
          "Current",
          "Current",
          "Savings",
          "Savings",
          "Current",
          "Savings",
          "Current",
          "Savings",
          "Current",
          "Savings",
          "Savings",
          "Current",
          "Savings",
          "Current",
          "Current",
          "Savings",
          "Current",
          "Current",
          "Current",
          "Savings",
          "Savings",
          "Savings",
          "Savings",
          "Savings",
          "Savings",
          "Savings",
          "Savings",
          "Current",
          "Savings",
          "Current",
          "Current",
          "Savings",
          "Savings",
          "Current",
          "Current",
          "Savings",
          "Savings",
          "Current",
          "Savings",
          "Savings",
          "Savings",
          "Savings",
          "Current",
          "Savings",
          "Savings",
          "Savings",
          "Savings",
          "Current",
          "Current",
          "Current",
          "Savings",
          "Savings",
          "Current",
          "Current",
          "Current",
          "Savings",
          "Savings",
          "Savings",
          "Savings",
          "Current",
          "Savings",
          "Savings",
          "Savings",
          "Current",
          "Savings",
          "Savings",
          "Current",
          "Savings",
          "Savings",
          "Current",
          "Current",
          "Current",
          "Savings",
          "Savings",
          "Savings",
          "Savings",
          "Savings",
          "Current",
          "Savings",
          "Current",
          "Current",
          "Savings",
          "Savings",
          "Savings",
          "Current",
          "Current",
          "Current",
          "Current",
          "Savings",
          "Current",
          "Savings",
          "Savings",
          "Savings",
          "Current",
          "Savings",
          "Savings",
          "Current",
          "Current",
          "Savings",
          "Current",
          "Current",
          "Savings",
          "Current",
          "Savings",
          "Savings",
          "Current",
          "Savings",
          "Current",
          "Current",
          "Savings",
          "Savings",
          "Savings",
          "Current",
          "Current",
          "Savings",
          "Savings",
          "Current",
          "Savings",
          "Current",
          "Current",
          "Savings",
          "Savings",
          "Savings",
          "Current",
          "Current",
          "Savings",
          "Savings",
          "Savings",
          "Savings",
          "Current",
          "Savings",
          "Current",
          "Current",
          "Current",
          "Current",
          "Savings",
          "Current",
          "Savings",
          "Current",
          "Current",
          "Savings",
          "Current",
          "Current",
          "Savings",
          "Savings",
          "Current",
          "Savings",
          "Current",
          "Savings",
          "Savings",
          "Savings",
          "Savings",
          "Current",
          "Current",
          "Current",
          "Savings",
          "Savings",
          "Savings",
          "Current",
          "Savings",
          "Current",
          "Current",
          "Current",
          "Current",
          "Current",
          "Current",
          "Current",
          "Savings",
          "Current",
          "Current",
          "Current",
          "Current",
          "Savings",
          "Savings",
          "Savings",
          "Savings",
          "Current",
          "Current",
          "Savings",
          "Current",
          "Savings",
          "Current",
          "Current",
          "Current",
          "Savings",
          "Savings",
          "Current",
          "Savings",
          "Current",
          "Savings",
          "Savings",
          "Current",
          "Savings",
          "Savings",
          "Savings",
          "Current",
          "Current",
          "Current",
          "Current",
          "Current",
          "Current",
          "Current",
          "Savings",
          "Savings",
          "Savings",
          "Savings",
          "Savings",
          "Savings",
          "Current",
          "Savings",
          "Current",
          "Savings",
          "Savings",
          "Savings",
          "Current",
          "Current",
          "Savings",
          "Savings",
          "Savings",
          "Current",
          "Current",
          "Current",
          "Current",
          "Savings",
          "Current",
          "Savings",
          "Savings",
          "Current",
          "Current",
          "Current",
          "Savings",
          "Current",
          "Current",
          "Current",
          "Current",
          "Savings",
          "Savings",
          "Current",
          "Current",
          "Savings",
          "Savings",
          "Current",
          "Savings",
          "Current",
          "Savings",
          "Current",
          "Current",
          "Current",
          "Current",
          "Current",
          "Current",
          "Current",
          "Current",
          "Savings",
          "Current",
          "Savings",
          "Savings",
          "Current",
          "Savings",
          "Current",
          "Current",
          "Current",
          "Savings",
          "Savings",
          "Current",
          "Current",
          "Savings",
          "Current",
          "Current",
          "Savings",
          "Current",
          "Savings",
          "Current",
          "Savings",
          "Savings",
          "Current",
          "Savings",
          "Current",
          "Current",
          "Current",
          "Current",
          "Savings",
          "Savings",
          "Current",
          "Savings",
          "Savings",
          "Savings",
          "Current",
          "Current",
          "Savings",
          "Current",
          "Current",
          "Savings",
          "Savings",
          "Savings",
          "Savings",
          "Savings",
          "Savings",
          "Current",
          "Current",
          "Current",
          "Current",
          "Current",
          "Savings",
          "Current",
          "Current",
          "Savings",
          "Savings",
          "Savings",
          "Current",
          "Current",
          "Current",
          "Savings",
          "Current",
          "Current",
          "Savings",
          "Current",
          "Current",
          "Current",
          "Current",
          "Current",
          "Current",
          "Current",
          "Current",
          "Savings",
          "Current",
          "Current",
          "Savings",
          "Savings",
          "Current",
          "Savings",
          "Savings",
          "Current",
          "Current",
          "Savings",
          "Current",
          "Savings",
          "Current",
          "Current",
          "Current",
          "Current",
          "Current",
          "Savings",
          "Current",
          "Current",
          "Savings",
          "Current",
          "Savings",
          "Current",
          "Current",
          "Current",
          "Savings",
          "Current",
          "Current",
          "Current",
          "Current",
          "Savings",
          "Savings",
          "Current",
          "Current",
          "Current",
          "Savings",
          "Savings",
          "Current",
          "Current",
          "Savings",
          "Current",
          "Current",
          "Savings",
          "Current",
          "Savings",
          "Savings",
          "Current",
          "Current",
          "Savings",
          "Savings",
          "Current",
          "Current",
          "Savings",
          "Savings",
          "Savings",
          "Current",
          "Current",
          "Savings",
          "Current",
          "Current",
          "Current",
          "Savings",
          "Current",
          "Current",
          "Current",
          "Current",
          "Current",
          "Savings",
          "Current",
          "Current",
          "Savings",
          "Current",
          "Savings",
          "Current",
          "Current",
          "Savings",
          "Savings",
          "Savings",
          "Current",
          "Current",
          "Savings",
          "Current",
          "Savings",
          "Savings",
          "Current",
          "Current",
          "Current",
          "Savings",
          "Savings",
          "Savings",
          "Current",
          "Current",
          "Current",
          "Current",
          "Current",
          "Current",
          "Savings",
          "Savings",
          "Savings",
          "Current",
          "Current",
          "Savings",
          "Savings",
          "Current",
          "Savings",
          "Savings",
          "Current",
          "Current",
          "Current",
          "Current",
          "Current",
          "Current",
          "Current",
          "Savings",
          "Savings",
          "Current",
          "Current",
          "Savings",
          "Current",
          "Savings",
          "Savings",
          "Savings",
          "Savings",
          "Savings",
          "Savings",
          "Savings",
          "Current",
          "Savings",
          "Savings",
          "Savings",
          "Savings",
          "Savings",
          "Savings",
          "Current",
          "Savings",
          "Savings",
          "Current",
          "Current",
          "Current",
          "Savings",
          "Current",
          "Savings",
          "Current",
          "Savings",
          "Current",
          "Savings",
          "Savings",
          "Savings",
          "Current",
          "Current",
          "Current",
          "Savings",
          "Current",
          "Savings",
          "Current",
          "Current",
          "Savings",
          "Current",
          "Current",
          "Savings",
          "Savings",
          "Savings",
          "Current",
          "Current",
          "Savings",
          "Savings",
          "Current",
          "Savings",
          "Current",
          "Savings",
          "Savings",
          "Savings",
          "Current",
          "Savings",
          "Savings",
          "Savings",
          "Savings",
          "Current",
          "Current",
          "Savings",
          "Savings",
          "Savings",
          "Savings",
          "Savings",
          "Current",
          "Current",
          "Current",
          "Current",
          "Savings",
          "Savings",
          "Savings",
          "Current",
          "Current",
          "Current",
          "Savings",
          "Current",
          "Savings",
          "Current",
          "Savings",
          "Current",
          "Savings",
          "Current",
          "Savings",
          "Current",
          "Savings",
          "Current",
          "Savings",
          "Current",
          "Current",
          "Current",
          "Current",
          "Current",
          "Current",
          "Current",
          "Current",
          "Current",
          "Current",
          "Current",
          "Savings",
          "Savings",
          "Current",
          "Savings",
          "Current",
          "Savings",
          "Savings",
          "Savings",
          "Current",
          "Savings",
          "Savings",
          "Current",
          "Savings",
          "Savings",
          "Current",
          "Current",
          "Current",
          "Current",
          "Current",
          "Current",
          "Savings",
          "Savings",
          "Current",
          "Savings",
          "Current",
          "Savings",
          "Current",
          "Savings",
          "Savings",
          "Current",
          "Savings",
          "Savings",
          "Savings",
          "Savings",
          "Current",
          "Savings",
          "Current",
          "Current",
          "Current",
          "Current",
          "Current",
          "Current",
          "Current",
          "Current",
          "Savings",
          "Current",
          "Savings",
          "Current",
          "Current",
          "Savings",
          "Current",
          "Current",
          "Savings",
          "Current",
          "Savings",
          "Savings",
          "Savings",
          "Savings",
          "Current",
          "Current",
          "Savings",
          "Savings",
          "Savings",
          "Current",
          "Current",
          "Current",
          "Savings",
          "Current",
          "Current",
          "Current",
          "Current",
          "Savings",
          "Savings",
          "Savings",
          "Current",
          "Savings",
          "Savings",
          "Current",
          "Savings",
          "Savings",
          "Current",
          "Savings",
          "Savings",
          "Current",
          "Current",
          "Current",
          "Savings",
          "Savings",
          "Savings",
          "Savings",
          "Current",
          "Current",
          "Savings",
          "Savings",
          "Savings",
          "Current",
          "Current",
          "Current",
          "Savings",
          "Current",
          "Savings",
          "Current",
          "Savings",
          "Current",
          "Savings",
          "Savings",
          "Savings",
          "Current",
          "Savings",
          "Current",
          "Current",
          "Current",
          "Current",
          "Current",
          "Savings",
          "Savings",
          "Current",
          "Savings",
          "Current",
          "Savings",
          "Current",
          "Current",
          "Savings",
          "Savings",
          "Current",
          "Current",
          "Savings",
          "Current",
          "Savings",
          "Current",
          "Current",
          "Current",
          "Current",
          "Savings",
          "Current",
          "Current",
          "Current",
          "Current",
          "Current",
          "Savings",
          "Current",
          "Current",
          "Current",
          "Current",
          "Current",
          "Current",
          "Current",
          "Savings",
          "Current",
          "Savings",
          "Current",
          "Savings",
          "Savings",
          "Current",
          "Savings",
          "Current",
          "Current",
          "Savings",
          "Current",
          "Current",
          "Savings",
          "Savings",
          "Current",
          "Savings",
          "Current",
          "Savings",
          "Current",
          "Savings",
          "Savings",
          "Savings",
          "Savings",
          "Current",
          "Current",
          "Savings",
          "Current",
          "Savings",
          "Savings",
          "Current",
          "Current",
          "Current",
          "Savings",
          "Current",
          "Current",
          "Current",
          "Savings",
          "Savings",
          "Current",
          "Savings",
          "Savings",
          "Savings",
          "Savings",
          "Savings",
          "Current",
          "Current",
          "Savings",
          "Savings",
          "Savings",
          "Savings",
          "Savings",
          "Current",
          "Savings",
          "Savings",
          "Savings",
          "Savings",
          "Current",
          "Current",
          "Current",
          "Current",
          "Savings",
          "Current",
          "Current",
          "Savings",
          "Savings",
          "Current",
          "Current",
          "Current",
          "Current",
          "Current",
          "Current",
          "Savings",
          "Savings",
          "Current",
          "Current",
          "Savings",
          "Current",
          "Savings",
          "Current",
          "Current",
          "Savings",
          "Current",
          "Savings",
          "Current",
          "Savings",
          "Current",
          "Current",
          "Savings",
          "Savings",
          "Current",
          "Current",
          "Current",
          "Savings",
          "Current",
          "Current",
          "Current",
          "Savings",
          "Current",
          "Current",
          "Savings",
          "Current",
          "Savings",
          "Savings",
          "Current",
          "Savings",
          "Current",
          "Savings",
          "Current",
          "Current",
          "Current",
          "Current",
          "Savings",
          "Current",
          "Current",
          "Savings",
          "Current",
          "Current",
          "Savings",
          "Savings",
          "Savings",
          "Current",
          "Savings",
          "Savings",
          "Current",
          "Savings",
          "Current",
          "Current",
          "Savings",
          "Current",
          "Current",
          "Savings",
          "Current",
          "Savings",
          "Current",
          "Current",
          "Current",
          "Current",
          "Savings",
          "Current",
          "Savings",
          "Savings",
          "Savings",
          "Current",
          "Current",
          "Savings",
          "Current",
          "Savings",
          "Savings",
          "Savings",
          "Savings",
          "Current",
          "Current",
          "Savings",
          "Savings",
          "Current",
          "Savings",
          "Current",
          "Savings",
          "Savings",
          "Savings",
          "Savings",
          "Current",
          "Savings",
          "Savings",
          "Current",
          "Current",
          "Current",
          "Savings",
          "Current",
          "Savings",
          "Savings",
          "Current",
          "Savings",
          "Current",
          "Savings",
          "Current",
          "Savings",
          "Savings",
          "Savings",
          "Current",
          "Savings",
          "Current",
          "Current",
          "Current",
          "Savings",
          "Current",
          "Savings",
          "Current",
          "Savings",
          "Current",
          "Current",
          "Savings",
          "Savings",
          "Savings",
          "Current",
          "Current",
          "Savings",
          "Current",
          "Savings",
          "Savings",
          "Savings",
          "Current",
          "Savings",
          "Current",
          "Current",
          "Current",
          "Current",
          "Savings",
          "Current",
          "Current",
          "Savings",
          "Savings",
          "Current",
          "Savings",
          "Savings",
          "Savings",
          "Current",
          "Savings",
          "Current",
          "Current",
          "Current",
          "Savings",
          "Savings",
          "Current",
          "Savings",
          "Savings",
          "Current",
          "Current",
          "Savings",
          "Current",
          "Current",
          "Savings",
          "Current",
          "Savings",
          "Savings",
          "Savings",
          "Savings",
          "Savings",
          "Current",
          "Savings",
          "Savings",
          "Savings",
          "Current",
          "Current",
          "Savings",
          "Current",
          "Savings",
          "Current",
          "Savings",
          "Current",
          "Current",
          "Savings",
          "Current"
         ],
         "x0": " ",
         "xaxis": "x",
         "y": {
          "bdata": "BoTWw1cDkEBUNUHUna+PQGZ7PhSmV45ABdzz/ElDkEDbjC7KNzaPQMR8eQHmT45AMtzKXIpqjkDNwugD0xiNQMtJKH2xM5BABW1y+GSpj0DWVuwvOzGOQGPxm8Jq/o9AWNrzRnfZjUA00CEVOw6MQO1l22mrMY9ALh1zntFij0CBp9q4jwiNQBmbDH029YxAdO52vdRmj0AH/gEgKKOOQOw6rwwFNI1ARBfUtzwZkUCK1dXTfUCMQGuOvShLj45AgCxEh5CEkECvJ7ounJOQQJKjSt5qmY5AO/vKgzTrj0AjjivkwEWOQCodrP/zp49A1EhL5c3NjkB/g/bqg5qPQIfEPZbecZBAX5fhP/2GjkA1iTA0DRyNQAcHexNzOYxAprkVwspQj0AVVb/SORmQQD/G3LWEE49AluWQeel0jUAKnkKudOePQIFdTZ6SSY9AKChFK1dbj0AtpuN7wNqNQJiJIqTOfZFAQtsgSR8Vj0CB5EKKtgmPQGNHPgpCwI5APwEUI+vWj0CyBGOO/y+OQNeKkYBMZI5Au7ciMUHAkEChhJm2n4+PQLkgtk/ySY5Aj26ERQV2jUA4YtKEgtaMQCUKiKShNI9AchdhipJCkECVDtb/KeKQQLUbfczHo6VAOgK4WZy9jkDxuKgW0dyPQKInZVLDkI9A4BfyY1cojkCQLjatxBqQQDiCVIo9UZBAITjTKcT8jEDva8lPnyCOQG1ahL1kOI9A41RrYRbBj0DQX+gRo5mPQPHXZI06wpBAu7VMhsPSj0BAvb57HPCNQGMX+4HBLY1AYB1sVqLYjUBpNSTu0XiPQEnXTL55spBAnjzRGhhri0AaNV8lP8+QQGRA9nqX7I1AFzKyv9f0jUAQJO8caluQQA1RhT8TIZBAaaz9nR3ikEBaHIRvUH2OQCjv42hukpBA1SXjGImAkEDqWRDKW+KQQNjFI6e1tY1Aqi+m9KfhjkAf9GxW/VaPQPrGISyUVY1AeCHCZG8ZjkC9vnvsY0WOQEjdzr5yS49ARvWMM8z7jUD2X+embfGQQAT+8POf0JBA8pVASjxZkEDYuWkzvjuOQFj/5zB/P5BAaqZ7nUQRkEBB8WPMHSCQQDaTb7bZOJBADvj8MEJpkECxUGuaV2OLQCL7IMuiYo9AeozyzJvAjkCe76fG2/WQQB/axwpeR49AulecIGCsi0BpOGVujh6QQMA/pUr0zZBAfa1LjXBjkUB3K0t0FqqQQOqymNg8hI9AKG1gYXfUjkCeBgySvpaPQGoWaHcotI1A48RXO0pWj0CbuAuDKKuNQEz75v4aSJBAJlXbTaDjjkBJKlPMcdSOQHevpCbrHo1AYkeIl9wijkDt9e6PN5mQQOs6VFPCBpBAooGz70XZjkCjPPNyGASQQGaIY13cnY9As8OpIKBOjkBJgnAFdMKPQMsTCDsFaZBAlh2HZhNFjkB+calKCziPQJQ8jWpHAo5AOzjYmxhojkCy2CYVTeOPQOAUseN62I1AdPBMaMIAj0AvNq0U4nqPQH5Yyo09xI1An67uWGyxj0BuTbotATKPQFB4v8DixI5A/N8RFTLkpUCWtOIbikeQQDZJ4pvcw45AvajdrwLPj0Bj0AmhU6+QQCHehIwBn41A1xh0QgiWkEDlszwPri6QQH7lQXqKp5FA031K33VXjEDV1XhEIDKPQKn1fqOdEJBAtakVASkZj0Bgo/Zs50COQH40QXlUTI1AxEKtaS4/kED9TShEgNWQQPAZidBYBZBAmn0eozxSj0BGelG7f1WQQI/ecB/JFJBAPkFiu3sEkEC894H1WS+PQFwDWyV4049Aic4yi3CMj0D/WfPjn6OOQM0DWOQ3ho9AWW5pNQRsjEATC3xF19KPQB+ui5HrYY5A2xmmtpRjj0ADmmPU4D+NQBDK+zjK3YxAIWrsXGJLjUAxJCcTF8mPQJI5O74CPI5AE5Ydh7ajjUA49YHkPXOPQA+BfjrJ+o5AjC0EOfhbkEAo1NNHAFmPQIUIOISiLahAf8Fu2Fb0kEDDuYYZCp2QQPNV8rFLrpBAPrK5ag4ikEBq+BbWTe6QQGrBi74yBZBAqyFxjzV6kEASS8rdx5mPQEop6Pby+o5A8mCL3U7HkEBaoN0hhcGPQJM4K6JWCpFABAKdSYt9kEBdgMcB1QOPQMI5fgNe0YxAqKVeXE+xjEDy7V2DDm6QQGH2VzSiC49A2Eenrrx3j0DQudv1on2QQK0Yrg6giI5As6MnG6Uzj0Dvy5ntGn2QQPerAN8NuY9AZElvbjK6jkDOpiOAS1SQQLnDJjIzcI9A5dL4hfdOkEA+6xotZ+iQQLvYDwy7s4xA8guvJMk3kEAoT7QGahKOQFfNc0QeV49AhZSfVIuYjUDusfShe7eQQAVTzaw1nZFAEcMOY7K+j0Cp+L8j6guRQLvSMlKPBJBAdNNmnMZgkEBDl8uhwAGNQJeQD3pGgaVAQQaXM7CHjUBGQlvORUeOQASqfxAZIY1Abgvgd40zjECLyXYZubONQMQ+ARRDepBAkGYsmp6SkEC2MXbCK36PQBXHgVdr2YxAMBLacm7bj0AE/wAQ/FGLQBsN4C2wEZBAu+8YHluSjkAWiJ6UeVaQQOjOXVz0lY1APdLgtv6Ap0Bi9NxCJzGQQNALdy7MhJBAFubzQJpQjkBaLhudc1uQQEgYBizpXZBA9z3qr2c2jEArsozDX6OOQFXZd0XgOY9AHLG75a+OjkAsSZ7rO8aQQCy3tBoSwo9AdeYeEp6uj0AButStQ06OQPNMeb4A/41ANuED4KRLjkBWuyakNWeQQMVXO4qjqZBANbVsrR/DkEAhS9UsluCOQGi//6B/545Aal+KvCb9jkBBRkCFkySQQI+OBkvwZ45ACHb8F6iXkEAhsHJoEYGPQMPYQpDTC5BAMGR1q/cvkEDXbOUl/7yPQI1feCXZHpBAXrwft9+Zj0CjTR/LvN2MQI8aE2JuBpFAk6mCUTnhkEDOF3svLn+QQBWPi2rx4I1Af4Y3a/CLj0BMjdDPBEqQQJD2P8BaeI9AVSniGXkrjkB66BYVTH2OQNZx/FDpzY9AbosyG0RRkEBitgmckW2OQGylIfTdfoxA3GYqxKPYjkAYfQVpZvKPQF3MhYDyuYxAww5j0v/7j0B8f4P2ytePQAOV8e+z4Y9AZk0s8OVckECohTcQ536OQHICLiMAeY5AhQZi2ZzUjkD0IV6NYs6LQF38bU8gnpBAO1W+ZyRbj0D8bIkBF7qOQAGloUaBPJFA6BIOvQWqj0BuaMpO9+SnQBuIwOzZ/Y1A0bGDSmynkECdpirIaraMQGoTJ/dLo45AUtCSbMoWj0BFLc2tULGPQBdytsqNOYxARpT2Bq8okEDxKQDGgyaQQO8NdKPu2otA/MVsycrEj0CbVgqBLAyQQMZNDTTfEZBAJRet7bfTjUDys5HrhpqNQF3CobcosY5Agr+pWRF2jkDCCgEKD82NQBLBOLjUf41A/7nDgTuqjUAb2ZWWsemPQO49AbnJFY9ADJrxEeznjkDd09UdK7ePQLYWwVqwV45AmlVE8lqgjkBhwf2AZzqQQDhLyXLyeY9AsVBrmkfQkEBDdXPxR5WQQMyWrIqwko9Aj1N0JFdXj0DmstE5n7eRQJM4K6KWcZBAgRtz6D5fjkA6qj9nB9OOQLC6HwE9vo1AZ7Yr9MEDj0D3ksZo7c6QQC7GwDouS49AkSaDSHvYjkAwjKoVfCaLQIxl+iUi2IxA2sngKMlEjUDuj5zx4gSOQGtlwi9VhI9AxUoWQT1vjkB6xr5kIyiRQCY5YFfj7JBAwO86dkuvjkAtXiwMQdSNQDZLEwANaoxAkkfL3CfQi0BYDA16taaNQAHeAgmKMJBAuVD51/JfkUAapUv/YsGQQCpY42zakZBAulujL05IjkB2bW+3lPOOQKBSJco+3I9AMhTBSXT/jkCNnyF3bASOQMeA7PWOX49AOKqJ9DGIikCwARHimk6LQE5aXfPPKY5Ahm8GJIZFjkC8kuS5nuiNQNaNd0cGqY9AK9oc51Zfj0BVbMzrmPyOQAszI3LwSI5AGa/UDup1i0DMD7eeLA6NQLYPectVoY5A0EVDxpMmkEClZg+0oraOQKiPwB9eUI9Aeo8zTZiGj0CWzLG8SziPQGUC2Uan5Y1A0ZZzKR7ejEDC+Gncu2WQQNqtZTJ81I9AUn5S7dO8j0A/H2XEpXyPQAsqqn617Y5AXwmkxE7dj0ChYdYwqPuNQOoDyTvnfpBAgWK/gu+8jECq04Gsh1WRQMCxZ8+luI9AcFCxIFMPjkCY2lIHGYGPQPoNEw0yCZBAQwJGl2e/jUAGKuPfZ7qPQLOCOkC7KY5AwKlZsRk4j0BVwm4zQDyOQHWgmAYfloxAuOaO/odbjUDVer/RbgGQQBz63Souro5ACcVW0PT9jUBGQlvONbqQQLbaw144NZBA+xNLgFAui0ATm49rs3OQQFw7URISy49A9SudD/9mkEAzMzMzQyWQQKVMamjrJalASFM9mQ8AkEC0klZ8M86NQGAF+G5jeJBAzcmLTIgBp0CkVS3puB6QQLIsmPjTPpBAMg15utngjEAS290DxCuQQMXL07kCFJBAy4XKv7YokEDe6L73EqOOQO3BWmsO34xAEjNW9qjdjkBvMZrwZmCOQLL0oQvK6Y9AVYZxN7jOkEDWbrvQPNyPQHhha7aiZY1AELOXbbfLkECEu7N2+42QQPOv5ZVLDpBA9c1HYz7kjkAY7fFCejCQQG42sRtB8o1AoBUYsur9kECveVVn5XOQQLRFiOF53Y5A8vD5vL3wjEDlyX+SPKGMQFvQe2OIfY9A1CQditeXjkCWy0bnjHKNQLDV1GjYK45AWipvR9j9kEDbi2g7NkuQQB8dDZbwjY1AiuAkcuZ6jkDXTpSEFOSOQMDsnjxcWJBAUoziC1mfi0CRQ8TN6RuQQKEaipaXz45AlEhH3j40jkAdlDDTRmyQQDSaAdOu5I1AwfHGkx4vj0DqIoWysEuQQCk/qfaJbZBAmtGPhhMfkEDvagPB7aSOQMwHBDrzG49AeJs3TgJop0CRHtDjUU2OQLHqYomtE45AjyFb8bj2jkAS4iWTzqeMQPW+8bXn449AiHg1ilZ0jUBoIJbN7BSRQO+065TdSY1APV+zXLbXj0BKC5dVgLyoQGBvB4/L+o1AGF3eHM4akEBD0fLyOsSNQFeASvDxuo5AqRWm7yUmkEAUWWsoFSWOQIP3Vblw049Aevzept+Ej0A9nMB0WniQQBWrBmFOo41AN+lst3ODjECN8ieFZCKNQIC21axjz5BAJUG4AhodkEBJ/4EoPnCOQLlPjgKk4Y9AY5y/CYVekEBpUgq6TUmQQBqLprPTlY9A3gN0X66Nj0BrDDohBEKQQBf03hgio49ASrN5HBblkECn7iXo6hmMQKkZrf6DYo1AC1mCMYfZjkBRAHs7uF6NQDmeKjqNiY5AGK6zxnV8jkAfZFkwkZ6PQAtBDko4vY9Aih9j7jqXj0AHBrWEQWaNQCvU5HM4lo5AcgIuI2B7jkCpLuBlhnuQQO/73HUbNI5A8WPMXcvwj0AvwakPFMaOQL+CNGNx449AnLqXoKtXjkAk2uliLiKOQP6QyIiFOY5ALGLYYWyykEBWJTbE/aWOQDeKrDWkOZBARDS6g9ghkECtMeiE8JmPQAfvq3IBwo9A8eSJ1gBAjkDQhrKm6CaOQGU5CaWf25BA1B3V+kzSi0AX8Z2YNU+QQAM4YtI0sIxAuaXVkBggkEAxDFhyFWKPQOj0vBur+o9Ad1kC3wOijkD03Oed79OOQJOoF3yamo9AsjooFxlDjEC4SfvVEtGOQHeC/de5Wo9AManrmuoOj0CqKjQQ6zapQF9AL9wZp49AuZnAYy5ajkAmWk0ybQmNQPhzZatG3otAihgbX7Akj0CTbkvkwpuPQIMT0a9txo9AYwrWOIuNkEDdXWdDXl6PQJYGflRzM5BA716kBkmUjUBvK702+76PQJmfG5qyRY9AZqQ5DYy5i0Ci/Vk9gW2NQJXUCWhyMpBAC8Fg7c5ojEBp/pjWhs2QQLKeWn1VrZBA9pZyvog6p0BsGE9OvjqNQOmBj8EatpBAeJj2zb1xkEDwiArVPQKQQHDs2XMxM6VAIbE497K7jUCvtfepWkmQQOWqwxvzJI5ABK3AkGVIkEBtyhXeRdGPQHe/CvDdpI9ARYawdXT9jUCpF3yas8WNQLI7k+xXhI5A0igTbc2pjkApJJnVW6KPQFCgmXHkz45AZcdGIJ5Dj0CQTfIjHg+QQPX1fM0Sw41Aua2I9cGKjkBL6Zle0o+MQDdRS3MbspBA2epySgDUj0DU0XE1kl+PQHS366XpjpBAKT3TSyzaj0ABbatZh9aPQDFdiNVPHJFAt2UbE70Rj0AGLLmKhZKQQG+fVWbqkI9AQYNNnQfTkED2QgHbIXONQIDmvXuBjo5AMZNNXrkBjkBk7rX7MF2NQG0BofWQSJBAvyzt1DwAkUB7FK5H8cCQQLA9syRwKo9AeRlquWg2j0B63FyhdIGMQDOJesH33ZBAqifzj44EkEBm+iXiXR2QQELsTKFT649A6j2V0864jUAyagjYqPuNQBXhJqPqiJFA2WVTCQrvjkADjk6nRgyOQO0Raoa0C45AgQ5On3gjjEDw+WGEoOOOQIJmIUvAto1AQIaOHbQJkECI83ACczuMQHYzox+t45BAXNd5ZZh5jECoEUQntcaOQP0wQngUuJBAOW9Sh+ukjkANKIpGbYmLQMnH7gIl85BAmOzpNFwci0B/OKNB9bCMQIE37t771o5AP0xnzHmvjkA8g4b+CdKQQGdg5GU9A5BADoY6rKC+jkBivrwAiwSQQB5dWy7h+45AV+/L9MYBjkCz4I/su72NQK/bVmnRn41Af8bgvFNjjEAC+55Ha0mOQGzp0VTvkJBAEiOVc8OIjUDXprG9psyNQGfvjLaqWY9AxSCwcjjcjUBORpVhvJmPQPJ5xVMfW45A2DkXkHcsjkC7trdb8hmQQGpsrwWtdZBAKo9uhOV0kECbBMoBprqNQDAOLh0TQI9AGTvhJWgykUBG7X4V4GiQQPcrU4IEIo9A9q170Dg9jkCK5ZZWw2uPQDvyUZC55IxAjjwQWTSwjkC139qJsu6PQGMoJ9rlEo5A3gVKCoyOkECE9BQ55G2QQCRGzy3UC5BATdh+MobXj0AGfY40TVuOQD4D6s0IdZBAFTjZBg5Yj0AHwl/dogGNQEtIWuCRM45AFQVV/qDSjEDJZ8Or1rGNQOVk4lZRU5BAoHB2azkBjkD4GKw4hUWQQMWDdwMGEI9A62P0ksW5jUC7CWOwd++NQMRb59+ug5BAZISm2+hVjkA7rMuE2rmNQDQRNjw9bo9AHbCrycMBjEAwlchPxM+NQH8TChEAAZBAGYVuQNXujkCP2JNlXbeOQCWxpNxNS5FAuhPsv/4ikEBZWvxcM0aNQHvdIjBmP5BAJ4QOuvSmkEDnNAu0m9aQQPa3BOAfo49Arp/+s7YGkED8witJTjCQQMKPxZEibo5AIAw8924fjkDtP9djZx6OQEDUx42MwI5A9S7ej4skkECTwmEO54OOQDXuzW+Yt5FApZ9wduvajEA07nK2pVmOQKtZDMOMZ45A3V897tt/j0AVNgNc0O2QQAJhp1jVto9AC/Dd5s1ej0A/VvDb8FCPQF0WE5sPYJBAGY7nM4BRkEBQb0bNx6+mQNLuRtU1UY5A9eYmIGy8jkC09/O3LpOOQNOiPsmddY9AvhQeNFtcj0Af0397AyqOQOAeOvNRsI1AjGfQ0D9/kEBgHccPFQuNQOUK73KR649AYLr/fvcFjEAiADj2rOiQQK38MhgDGI9AdPES9zO/jkAiqBq9GkaMQMcuUb315Y5AFMVQ84owjkAkRPmCNrCPQGDiNOnb0I1AZWNvcxQ3j0DwiXWqfFqQQKs6UExDFo9Ah6dXylKYj0C++KI9HqSPQHFyv0Mxu4xANNqqJNK9j0BOSwdGqaSOQGKYuPoW44xA92S0RI2IjUDBVDNr+SWQQMMi0Kpg/45ALGdKRvkKj0BJGGHl2++OQPY/ZaHygo1ASDiIMQTfjUAz3euk3vCQQEqYafu3b49AgXaHFKNaj0ABzkGGtAuPQNY73A6tDY5A5UF6ijyZj0BjDoKOFvGPQOxxOiTgAo9AQCg5cVMsjUDPiC2YI7uNQAfsavIUJ5BA5X0czVHej0C1cFmFzYKnQHiazHibWo9AVYSbjMoOkECwcf27HvaNQMGRmzwgAI9A5X6HotC/jkD5oGezqi2RQMlZ2NNOlpFA1qnyPVOhkECFtMag84aPQJ2BkZcVSo9AXcDLDGtikEDyzdt9s4SNQDQPYJGPQJBAMjGnFZBmjkBI+x9gDeWPQGnvQinAJI9A6b9iaDAgj0Cou/yYYO6MQFmJeVZSkZBANv9UgY+WjkDHDipx/UOOQDjZBu7wApBA9XKO8Aw4j0CWIvlKQKiPQOW2fY9agI9Af/lkxUAGkUCTMHg9DS2PQP+R6dBpboxAP+Hs1uIhkECpaoKoyxORQO4ljdF63o9AAd9t3piMj0DwiXWqHLaPQPSxcbOePI1A1ljC2hj5j0AnM95WusOQQItKj0vRho5AYaWCiurMj0C0jqomWHiQQLadtkZUO5BAdJXurvMfkECTYja3aP2OQOk932CJd4xAO+ElOJWRjUDpJWt5CmGNQMzwn24g+I9AG6201kGhjkC1w1+Tpf2OQHIg2n19s4xADt3sDwRKkEA6AyMvW2SQQPdtLTiIh45AHv0v10otqEBX0LTEqoeOQLrTQm4b+I1A/VsTHOh0jkA8p7RZ4KWMQAdnpmpRLI9A32+04xZsjkDQPZBhmhaNQJjWS/jqfI5AKzQQyybpj0CyZI7lfTSQQExmYfRRS45Am6285N90j0CAqVWq+imNQBAEyNBRr49A7rWg94Znj0DnUIaq2AKPQP6pAv81oo5AcO1ESegikECi1F5EO0uPQPzEAfS74Y9AJ9JHKv0ajkDcaFsoNPGOQPTdrSyhT5BAevNlsySLjUDBbn399aSNQLvSMlLvW5BAx2KbVKRrkEAK/ad2Ed2NQACuZMc2e5BAuZvxx04wjkAhYjn4GJaNQLyyCwZ3H5BADycwndbSj0CEuHL2bqKPQFezzviuL5BAVtP1RLepkEBy3CkdTPuPQDwUBfo0xpBAhei1fm9DjUAktVAymbyPQEEtBg9juZBAW3G74ahMjkBseHqlrH2RQMkE/BrZSKhAM/ynGzhLkECcWQF0nrCOQLQSBNmsy4xA4Sqq2V5ijkCaB7DI7xSQQC16pwLus49AN/3Zj1SEjkDNzMzMXAOQQOS8/4/LTadA/OfEeYNSjkAfEynN9ieQQGTutfvg+4tA62ksBvQDj0A7Vik984aOQCJPkq6ZXpBAjS7Kx9kxjkC+9syS8KiQQPGk4IStAI9AkMGKU81hj0D7q2zEqKiOQNHP1Os2VI9AOltAaB2jj0AmcOtuvoqPQF929GRTZ45AtglBWOe6jUBhHFw6Jk6QQKezk8ExLY5A7U1ngnwpjUA09E9w0YmPQB7sA3/+245AxNLAj2pVj0AqLthXOFyOQHrkDwaefI9AYXqx5mbXjUDvuQLA9++OQE8Lua1ol45A0qjAyebgkEApQup2hmGNQEy8qILGO41ADQBV3OhhkEAVVFT9qtuPQK8+HvoOl5BAkPgVayi1kEBU/yCSwXOQQE03P7Q1kY1Ak2BgDLuWjUDikA2ka3mQQKzHfau1so9AuMmoMryEkEAWNfM/FBKPQK4RwThILpBARDS6g3gcjkC5cYv5ufqOQDfDDfgcUY9Arb1PVaH1jkBVwhN6naGQQEnW4ehqtI9AILQevpxwkEDV6UDWM++NQMsFeBwgOo9AicOIM7W9jkB0mZoE/1uQQEC+hAoueY9AO+pDck3cjUD3zf3Vg1CPQKsF9pgo2Y9AKLUX0e4jpkDALQ4doT+PQPmjqDN3QY1Azc6idwpXj0CsqwK1CLmQQIwxC0iGko1AYPqo0Aowj0Cr3FVZVa+NQJlho6zfO45AGXJsPbMVkED26053Xs2PQEc82c0Mio9Aqn06HvOkj0DwiXWqnD+QQFkxXB3gVo9AdZKtLrf5jUANtPEWbt+NQD5ZMVy97pBAWDEBZF03jUCAmlq2dpePQC6u8ZlsrI5A9/GG6lwYjkBoW806o1WOQAdhbveSJJBA+Z0mM95qj0AHt7WFR4GPQHXlszw/Wo5AElswp5rtjkCWKNYEbCGPQMKE0aysBpBA7CgY31HxjUAUjsXbr72NQHIVMCYCm45AN1SM8/esj0CzJ4HNeamPQBDoTNq0zI9A9KW3P/cZkEDO4VrtweOQQCTjYlaJ6YxArYVZaOcEjkCvXkVGR/6PQEqaP6Z1HZFARWugVLb9jkCBd/LpEYaPQEP+mUE8/o9AjiMxnHYjj0DUtfY+9VCPQJisQOMYFo5AcJnTZfFnkEChvmVON86QQPsioS0Hg49A8ZwtIMSFjUCgRmtW5/OOQEKIdfQZT41AX+tSI1RVj0BpUZ/kniaoQDDAmfNHyoxA0LaadbaQjUDf0EoQ9LGOQIw8/ywcKYxAJZNTO7MHjUDfY/pvX7eNQGZNLPBVKo1AUq+lkVBCjkA=",
          "dtype": "f8"
         },
         "y0": " ",
         "yaxis": "y"
        }
       ],
       "layout": {
        "boxmode": "group",
        "legend": {
         "tracegroupgap": 0
        },
        "template": {
         "data": {
          "bar": [
           {
            "error_x": {
             "color": "#2a3f5f"
            },
            "error_y": {
             "color": "#2a3f5f"
            },
            "marker": {
             "line": {
              "color": "#E5ECF6",
              "width": 0.5
             },
             "pattern": {
              "fillmode": "overlay",
              "size": 10,
              "solidity": 0.2
             }
            },
            "type": "bar"
           }
          ],
          "barpolar": [
           {
            "marker": {
             "line": {
              "color": "#E5ECF6",
              "width": 0.5
             },
             "pattern": {
              "fillmode": "overlay",
              "size": 10,
              "solidity": 0.2
             }
            },
            "type": "barpolar"
           }
          ],
          "carpet": [
           {
            "aaxis": {
             "endlinecolor": "#2a3f5f",
             "gridcolor": "white",
             "linecolor": "white",
             "minorgridcolor": "white",
             "startlinecolor": "#2a3f5f"
            },
            "baxis": {
             "endlinecolor": "#2a3f5f",
             "gridcolor": "white",
             "linecolor": "white",
             "minorgridcolor": "white",
             "startlinecolor": "#2a3f5f"
            },
            "type": "carpet"
           }
          ],
          "choropleth": [
           {
            "colorbar": {
             "outlinewidth": 0,
             "ticks": ""
            },
            "type": "choropleth"
           }
          ],
          "contour": [
           {
            "colorbar": {
             "outlinewidth": 0,
             "ticks": ""
            },
            "colorscale": [
             [
              0,
              "#0d0887"
             ],
             [
              0.1111111111111111,
              "#46039f"
             ],
             [
              0.2222222222222222,
              "#7201a8"
             ],
             [
              0.3333333333333333,
              "#9c179e"
             ],
             [
              0.4444444444444444,
              "#bd3786"
             ],
             [
              0.5555555555555556,
              "#d8576b"
             ],
             [
              0.6666666666666666,
              "#ed7953"
             ],
             [
              0.7777777777777778,
              "#fb9f3a"
             ],
             [
              0.8888888888888888,
              "#fdca26"
             ],
             [
              1,
              "#f0f921"
             ]
            ],
            "type": "contour"
           }
          ],
          "contourcarpet": [
           {
            "colorbar": {
             "outlinewidth": 0,
             "ticks": ""
            },
            "type": "contourcarpet"
           }
          ],
          "heatmap": [
           {
            "colorbar": {
             "outlinewidth": 0,
             "ticks": ""
            },
            "colorscale": [
             [
              0,
              "#0d0887"
             ],
             [
              0.1111111111111111,
              "#46039f"
             ],
             [
              0.2222222222222222,
              "#7201a8"
             ],
             [
              0.3333333333333333,
              "#9c179e"
             ],
             [
              0.4444444444444444,
              "#bd3786"
             ],
             [
              0.5555555555555556,
              "#d8576b"
             ],
             [
              0.6666666666666666,
              "#ed7953"
             ],
             [
              0.7777777777777778,
              "#fb9f3a"
             ],
             [
              0.8888888888888888,
              "#fdca26"
             ],
             [
              1,
              "#f0f921"
             ]
            ],
            "type": "heatmap"
           }
          ],
          "histogram": [
           {
            "marker": {
             "pattern": {
              "fillmode": "overlay",
              "size": 10,
              "solidity": 0.2
             }
            },
            "type": "histogram"
           }
          ],
          "histogram2d": [
           {
            "colorbar": {
             "outlinewidth": 0,
             "ticks": ""
            },
            "colorscale": [
             [
              0,
              "#0d0887"
             ],
             [
              0.1111111111111111,
              "#46039f"
             ],
             [
              0.2222222222222222,
              "#7201a8"
             ],
             [
              0.3333333333333333,
              "#9c179e"
             ],
             [
              0.4444444444444444,
              "#bd3786"
             ],
             [
              0.5555555555555556,
              "#d8576b"
             ],
             [
              0.6666666666666666,
              "#ed7953"
             ],
             [
              0.7777777777777778,
              "#fb9f3a"
             ],
             [
              0.8888888888888888,
              "#fdca26"
             ],
             [
              1,
              "#f0f921"
             ]
            ],
            "type": "histogram2d"
           }
          ],
          "histogram2dcontour": [
           {
            "colorbar": {
             "outlinewidth": 0,
             "ticks": ""
            },
            "colorscale": [
             [
              0,
              "#0d0887"
             ],
             [
              0.1111111111111111,
              "#46039f"
             ],
             [
              0.2222222222222222,
              "#7201a8"
             ],
             [
              0.3333333333333333,
              "#9c179e"
             ],
             [
              0.4444444444444444,
              "#bd3786"
             ],
             [
              0.5555555555555556,
              "#d8576b"
             ],
             [
              0.6666666666666666,
              "#ed7953"
             ],
             [
              0.7777777777777778,
              "#fb9f3a"
             ],
             [
              0.8888888888888888,
              "#fdca26"
             ],
             [
              1,
              "#f0f921"
             ]
            ],
            "type": "histogram2dcontour"
           }
          ],
          "mesh3d": [
           {
            "colorbar": {
             "outlinewidth": 0,
             "ticks": ""
            },
            "type": "mesh3d"
           }
          ],
          "parcoords": [
           {
            "line": {
             "colorbar": {
              "outlinewidth": 0,
              "ticks": ""
             }
            },
            "type": "parcoords"
           }
          ],
          "pie": [
           {
            "automargin": true,
            "type": "pie"
           }
          ],
          "scatter": [
           {
            "fillpattern": {
             "fillmode": "overlay",
             "size": 10,
             "solidity": 0.2
            },
            "type": "scatter"
           }
          ],
          "scatter3d": [
           {
            "line": {
             "colorbar": {
              "outlinewidth": 0,
              "ticks": ""
             }
            },
            "marker": {
             "colorbar": {
              "outlinewidth": 0,
              "ticks": ""
             }
            },
            "type": "scatter3d"
           }
          ],
          "scattercarpet": [
           {
            "marker": {
             "colorbar": {
              "outlinewidth": 0,
              "ticks": ""
             }
            },
            "type": "scattercarpet"
           }
          ],
          "scattergeo": [
           {
            "marker": {
             "colorbar": {
              "outlinewidth": 0,
              "ticks": ""
             }
            },
            "type": "scattergeo"
           }
          ],
          "scattergl": [
           {
            "marker": {
             "colorbar": {
              "outlinewidth": 0,
              "ticks": ""
             }
            },
            "type": "scattergl"
           }
          ],
          "scattermap": [
           {
            "marker": {
             "colorbar": {
              "outlinewidth": 0,
              "ticks": ""
             }
            },
            "type": "scattermap"
           }
          ],
          "scattermapbox": [
           {
            "marker": {
             "colorbar": {
              "outlinewidth": 0,
              "ticks": ""
             }
            },
            "type": "scattermapbox"
           }
          ],
          "scatterpolar": [
           {
            "marker": {
             "colorbar": {
              "outlinewidth": 0,
              "ticks": ""
             }
            },
            "type": "scatterpolar"
           }
          ],
          "scatterpolargl": [
           {
            "marker": {
             "colorbar": {
              "outlinewidth": 0,
              "ticks": ""
             }
            },
            "type": "scatterpolargl"
           }
          ],
          "scatterternary": [
           {
            "marker": {
             "colorbar": {
              "outlinewidth": 0,
              "ticks": ""
             }
            },
            "type": "scatterternary"
           }
          ],
          "surface": [
           {
            "colorbar": {
             "outlinewidth": 0,
             "ticks": ""
            },
            "colorscale": [
             [
              0,
              "#0d0887"
             ],
             [
              0.1111111111111111,
              "#46039f"
             ],
             [
              0.2222222222222222,
              "#7201a8"
             ],
             [
              0.3333333333333333,
              "#9c179e"
             ],
             [
              0.4444444444444444,
              "#bd3786"
             ],
             [
              0.5555555555555556,
              "#d8576b"
             ],
             [
              0.6666666666666666,
              "#ed7953"
             ],
             [
              0.7777777777777778,
              "#fb9f3a"
             ],
             [
              0.8888888888888888,
              "#fdca26"
             ],
             [
              1,
              "#f0f921"
             ]
            ],
            "type": "surface"
           }
          ],
          "table": [
           {
            "cells": {
             "fill": {
              "color": "#EBF0F8"
             },
             "line": {
              "color": "white"
             }
            },
            "header": {
             "fill": {
              "color": "#C8D4E3"
             },
             "line": {
              "color": "white"
             }
            },
            "type": "table"
           }
          ]
         },
         "layout": {
          "annotationdefaults": {
           "arrowcolor": "#2a3f5f",
           "arrowhead": 0,
           "arrowwidth": 1
          },
          "autotypenumbers": "strict",
          "coloraxis": {
           "colorbar": {
            "outlinewidth": 0,
            "ticks": ""
           }
          },
          "colorscale": {
           "diverging": [
            [
             0,
             "#8e0152"
            ],
            [
             0.1,
             "#c51b7d"
            ],
            [
             0.2,
             "#de77ae"
            ],
            [
             0.3,
             "#f1b6da"
            ],
            [
             0.4,
             "#fde0ef"
            ],
            [
             0.5,
             "#f7f7f7"
            ],
            [
             0.6,
             "#e6f5d0"
            ],
            [
             0.7,
             "#b8e186"
            ],
            [
             0.8,
             "#7fbc41"
            ],
            [
             0.9,
             "#4d9221"
            ],
            [
             1,
             "#276419"
            ]
           ],
           "sequential": [
            [
             0,
             "#0d0887"
            ],
            [
             0.1111111111111111,
             "#46039f"
            ],
            [
             0.2222222222222222,
             "#7201a8"
            ],
            [
             0.3333333333333333,
             "#9c179e"
            ],
            [
             0.4444444444444444,
             "#bd3786"
            ],
            [
             0.5555555555555556,
             "#d8576b"
            ],
            [
             0.6666666666666666,
             "#ed7953"
            ],
            [
             0.7777777777777778,
             "#fb9f3a"
            ],
            [
             0.8888888888888888,
             "#fdca26"
            ],
            [
             1,
             "#f0f921"
            ]
           ],
           "sequentialminus": [
            [
             0,
             "#0d0887"
            ],
            [
             0.1111111111111111,
             "#46039f"
            ],
            [
             0.2222222222222222,
             "#7201a8"
            ],
            [
             0.3333333333333333,
             "#9c179e"
            ],
            [
             0.4444444444444444,
             "#bd3786"
            ],
            [
             0.5555555555555556,
             "#d8576b"
            ],
            [
             0.6666666666666666,
             "#ed7953"
            ],
            [
             0.7777777777777778,
             "#fb9f3a"
            ],
            [
             0.8888888888888888,
             "#fdca26"
            ],
            [
             1,
             "#f0f921"
            ]
           ]
          },
          "colorway": [
           "#636efa",
           "#EF553B",
           "#00cc96",
           "#ab63fa",
           "#FFA15A",
           "#19d3f3",
           "#FF6692",
           "#B6E880",
           "#FF97FF",
           "#FECB52"
          ],
          "font": {
           "color": "#2a3f5f"
          },
          "geo": {
           "bgcolor": "white",
           "lakecolor": "white",
           "landcolor": "#E5ECF6",
           "showlakes": true,
           "showland": true,
           "subunitcolor": "white"
          },
          "hoverlabel": {
           "align": "left"
          },
          "hovermode": "closest",
          "mapbox": {
           "style": "light"
          },
          "paper_bgcolor": "white",
          "plot_bgcolor": "#E5ECF6",
          "polar": {
           "angularaxis": {
            "gridcolor": "white",
            "linecolor": "white",
            "ticks": ""
           },
           "bgcolor": "#E5ECF6",
           "radialaxis": {
            "gridcolor": "white",
            "linecolor": "white",
            "ticks": ""
           }
          },
          "scene": {
           "xaxis": {
            "backgroundcolor": "#E5ECF6",
            "gridcolor": "white",
            "gridwidth": 2,
            "linecolor": "white",
            "showbackground": true,
            "ticks": "",
            "zerolinecolor": "white"
           },
           "yaxis": {
            "backgroundcolor": "#E5ECF6",
            "gridcolor": "white",
            "gridwidth": 2,
            "linecolor": "white",
            "showbackground": true,
            "ticks": "",
            "zerolinecolor": "white"
           },
           "zaxis": {
            "backgroundcolor": "#E5ECF6",
            "gridcolor": "white",
            "gridwidth": 2,
            "linecolor": "white",
            "showbackground": true,
            "ticks": "",
            "zerolinecolor": "white"
           }
          },
          "shapedefaults": {
           "line": {
            "color": "#2a3f5f"
           }
          },
          "ternary": {
           "aaxis": {
            "gridcolor": "white",
            "linecolor": "white",
            "ticks": ""
           },
           "baxis": {
            "gridcolor": "white",
            "linecolor": "white",
            "ticks": ""
           },
           "bgcolor": "#E5ECF6",
           "caxis": {
            "gridcolor": "white",
            "linecolor": "white",
            "ticks": ""
           }
          },
          "title": {
           "x": 0.05
          },
          "xaxis": {
           "automargin": true,
           "gridcolor": "white",
           "linecolor": "white",
           "ticks": "",
           "title": {
            "standoff": 15
           },
           "zerolinecolor": "white",
           "zerolinewidth": 2
          },
          "yaxis": {
           "automargin": true,
           "gridcolor": "white",
           "linecolor": "white",
           "ticks": "",
           "title": {
            "standoff": 15
           },
           "zerolinecolor": "white",
           "zerolinewidth": 2
          }
         }
        },
        "title": {
         "text": "Transaction Amount by Account Type"
        },
        "xaxis": {
         "anchor": "y",
         "domain": [
          0,
          1
         ],
         "title": {
          "text": "Account_Type"
         }
        },
        "yaxis": {
         "anchor": "x",
         "domain": [
          0,
          1
         ],
         "title": {
          "text": "Transaction_Amount"
         }
        }
       }
      }
     },
     "metadata": {},
     "output_type": "display_data"
    }
   ],
   "source": [
    "box_amount.show()\n"
   ]
  },
  {
   "cell_type": "code",
   "execution_count": 10,
   "metadata": {},
   "outputs": [
    {
     "data": {
      "text/plain": [
       "<Axes: title={'center': 'Account Type Distribution'}, xlabel='Account_Type'>"
      ]
     },
     "execution_count": 10,
     "metadata": {},
     "output_type": "execute_result"
    },
    {
     "data": {
      "image/png": "[encoded data removed]",
      "text/plain": [
       "<Figure size 640x480 with 1 Axes>"
      ]
     },
     "metadata": {},
     "output_type": "display_data"
    }
   ],
   "source": [
    "data[\"Account_Type\"].value_counts().plot(kind='bar', title='Account Type Distribution')\n"
   ]
  },
  {
   "cell_type": "markdown",
   "metadata": {},
   "source": [
    "Transaction Amount vs Age :"
   ]
  },
  {
   "cell_type": "code",
   "execution_count": 11,
   "metadata": {},
   "outputs": [
    {
     "data": {
      "application/vnd.plotly.v1+json": {
       "config": {
        "plotlyServerURL": "https://plot.ly"
       },
       "data": [
        {
         "hovertemplate": "Account_Type=Savings<br>Age=%{x}<br>Average_Transaction_Amount=%{y}<extra></extra>",
         "legendgroup": "Savings",
         "marker": {
          "color": "#636efa",
          "symbol": "circle"
         },
         "mode": "markers",
         "name": "Savings",
         "orientation": "v",
         "showlegend": true,
         "type": "scatter",
         "x": {
          "bdata": "JCk9PTgYFSsmGT0eKD0yFx0TPTMTIRkZJhQqGTtAIRUSKSg1KDkkKyMlFhIeLSYxFDMXISsnKxg0ODYyFDcaHxMgMh4cPDUoGikmOC1AHx8WHxU1MjQbIicuNCozPjs3HiwvEy9ANEA/GD8aKiEkFTUfMCU9Hx8dFiocOzY0KTkiHSg2NBQVKDAYMz4+JDEUIDE/LRk8NSk+HDUpJjobMRMXJicUKj8cJjkZJDs6HzQwNzw8O0A6OyY3HhQ0MThANic0HjsxMC4cPCgzIDM3IjgdOSEsMjgdEz87OS4WKRoyMxgSPCAxLRsrHiUUPCwnMisrJSw7HBsoLTcxMzgqFz4oLS4cOjEdKyA3KSodOCcrHzQXGBUTEzcaKD48IhguQBUTNRUzNBISGi0kLBgyPBw2LhUXGiAmPCgmLTI8GioWOxo0IjcxIjAeEh82IywzHhc0IhgXMjwrQCogLRkhLRQ8NxwoGBgsORgUNBVAMDUzLCI/Oj4jMBoVOxUzHT01QDghMywuIzglEyE3Kj4SIBITIzsrNjgvLBYoHTkSFCg+HR4yORQwLBkVGzg9NCktMxQ5Gj0UGichFioVNTAxPh0nHzQoNik2MCEVNS85LCsSEyYSOB0jFSo2ICE4HiIbGRsuOg==",
          "dtype": "i1"
         },
         "xaxis": "x",
         "y": {
          "bdata": "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",
          "dtype": "f8"
         },
         "yaxis": "y"
        },
        {
         "hovertemplate": "<b>OLS trendline</b><br>Average_Transaction_Amount = -0.0102589 * Age + 1000.71<br>R<sup>2</sup>=0.000048<br><br>Account_Type=Savings<br>Age=%{x}<br>Average_Transaction_Amount=%{y} <b>(trend)</b><extra></extra>",
         "legendgroup": "Savings",
         "marker": {
          "color": "#636efa",
          "symbol": "circle"
         },
         "mode": "lines",
         "name": "Savings",
         "showlegend": false,
         "type": "scatter",
         "x": {
          "bdata": "EhISEhISEhISEhITExMTExMTExMTExMUFBQUFBQUFBQUFBQUFBUVFRUVFRUVFRUVFRUVFRUWFhYWFhYWFxcXFxcXFxcYGBgYGBgYGBgYGBgZGRkZGRkZGRkaGhoaGhoaGhoaGhobGxsbGxsbHBwcHBwcHBwcHR0dHR0dHR0dHR0dHh4eHh4eHh4eHh4fHx8fHx8fHx8fHyAgICAgICAgICEhISEhISEhISEhIiIiIiIiIiIiIyMjIyMjJCQkJCQkJSUlJSUmJiYmJiYmJiYmJicnJycnJycnKCgoKCgoKCgoKCgoKCgoKSkpKSkpKSkpKSoqKioqKioqKioqKisrKysrKysrKysrKywsLCwsLCwsLCwsLC0tLS0tLS0tLS0tLi4uLi4uLi4vLy8vMDAwMDAwMDAwMDExMTExMTExMTExMjIyMjIyMjIyMjIzMzMzMzMzMzMzMzMzMzQ0NDQ0NDQ0NDQ0NDQ0NDQ1NTU1NTU1NTU1NTY2NjY2NjY2NjY3Nzc3Nzc3Nzc3Nzg4ODg4ODg4ODg4ODg4OTk5OTk5OTk5OTo6Ojo6Ojs7Ozs7Ozs7Ozs7Ozw8PDw8PDw8PDw8PDw9PT09PT09PT0+Pj4+Pj4+Pj4+Pz8/Pz8/QEBAQEBAQEBAQA==",
          "dtype": "i1"
         },
         "xaxis": "x",
         "y": {
          "bdata": "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",
          "dtype": "f8"
         },
         "yaxis": "y"
        },
        {
         "hovertemplate": "Account_Type=Current<br>Age=%{x}<br>Average_Transaction_Amount=%{y}<extra></extra>",
         "legendgroup": "Current",
         "marker": {
          "color": "#EF553B",
          "symbol": "circle"
         },
         "mode": "markers",
         "name": "Current",
         "orientation": "v",
         "showlegend": true,
         "type": "scatter",
         "x": {
          "bdata": "OhorLSAhJSg/Hx0kFzknPSsrFhYdEysuOiEuFS0qFC0tQDcuMSMSNT03GzYqNxUuGBIuLSQWPTsYPDgzIDQVLiU2F0AUOhY+Jx9AICIxKzkZHz00Ex00LygSKzcYNyY/FT8TQDskFhM9HjkZMjsqJTg0EzgrLhobJzAUJUA4GCRAFDQ1JhcVKjs4ORcdQBM8Py0zFCE/Mh8aNy0hNB0eOhktNRMoLTMWHjkiJh0iPjkSFTcUMCUvMykaHUAiIz0iEhg5PRwrMBwXMCIZKTYsNCw0Kz4oFyobNTU5NiMlIiclFy8kGyA+IT82HBI7OiggGxIhExMtJRwmHBQXFxkwIRwpMxUbJSg9FRctKjI5Lz45JDY/GSUvJj4gHiI/MTwnOiYcGTU/LxomKS0VITs+HRMTPzUiMBk7OyopOjIgEjYrIx0YKhYsFCpANCQnKDk+NxsVGiglQDQjLD4gGCYhNRUVJBItNiAuPzwpIhsfPRIlLz0vNh0wJxkdJScXMRMjHCMpHhMWFS03MDodORQgMhtAExYqMRInEykmMyg6LBYcHCY+NisYPx47KD45MzQ1NSIjIyo9FDQeFxoyLTI3LiAUHiAcOiUdOiEvNCw0NUAwNhMwMRU3JDIyGjM/FR08Ii41NCgYNyQdHR4SIyseKTIbMCAjNyETJRITOxsaKEAVOjof",
          "dtype": "i1"
         },
         "xaxis": "x",
         "y": {
          "bdata": "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",
          "dtype": "f8"
         },
         "yaxis": "y"
        },
        {
         "hovertemplate": "<b>OLS trendline</b><br>Average_Transaction_Amount = -0.0402788 * Age + 1002.68<br>R<sup>2</sup>=0.000711<br><br>Account_Type=Current<br>Age=%{x}<br>Average_Transaction_Amount=%{y} <b>(trend)</b><extra></extra>",
         "legendgroup": "Current",
         "marker": {
          "color": "#EF553B",
          "symbol": "circle"
         },
         "mode": "lines",
         "name": "Current",
         "showlegend": false,
         "type": "scatter",
         "x": {
          "bdata": "EhISEhISEhISEhISEhMTExMTExMTExMTExMTExMTExQUFBQUFBQUFBQUFRUVFRUVFRUVFRUVFRUVFRYWFhYWFhYWFhYXFxcXFxcXFxcXFxcYGBgYGBgYGBgZGRkZGRkZGRkaGhoaGhoaGhobGxsbGxsbGxsbGxwcHBwcHBwcHBwcHR0dHR0dHR0dHR0dHR0dHR4eHh4eHh4eHh4fHx8fHx8gICAgICAgICAgICAgISEhISEhISEhISEiIiIiIiIiIiIiIiIjIyMjIyMjIyMjIyQkJCQkJCQkJCQlJSUlJSUlJSUlJSUlJSUmJiYmJiYmJiYmJycnJycnJycnKCgoKCgoKCgoKCgoKSkpKSkpKSkpKioqKioqKioqKiorKysrKysrKysrKyssLCwsLCwtLS0tLS0tLS0tLS0tLS0uLi4uLi4uLi4uLy8vLy8vLy8vMDAwMDAwMDAwMDAxMTExMTEyMjIyMjIyMjIyMzMzMzMzMzM0NDQ0NDQ0NDQ0NDQ0NDQ1NTU1NTU1NTU1NTU2NjY2NjY2NjY2Njc3Nzc3Nzc3Nzc3Nzc4ODg4ODk5OTk5OTk5OTk5OTk6Ojo6Ojo6Ojo6Ojo6Ozs7Ozs7Ozs7Ozw8PDw8PT09PT09PT09PT0+Pj4+Pj4+Pj4+Pj8/Pz8/Pz8/Pz8/Pz9AQEBAQEBAQEBAQEBA",
          "dtype": "i1"
         },
         "xaxis": "x",
         "y": {
          "bdata": "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",
          "dtype": "f8"
         },
         "yaxis": "y"
        }
       ],
       "layout": {
        "legend": {
         "title": {
          "text": "Account_Type"
         },
         "tracegroupgap": 0
        },
        "template": {
         "data": {
          "bar": [
           {
            "error_x": {
             "color": "#2a3f5f"
            },
            "error_y": {
             "color": "#2a3f5f"
            },
            "marker": {
             "line": {
              "color": "#E5ECF6",
              "width": 0.5
             },
             "pattern": {
              "fillmode": "overlay",
              "size": 10,
              "solidity": 0.2
             }
            },
            "type": "bar"
           }
          ],
          "barpolar": [
           {
            "marker": {
             "line": {
              "color": "#E5ECF6",
              "width": 0.5
             },
             "pattern": {
              "fillmode": "overlay",
              "size": 10,
              "solidity": 0.2
             }
            },
            "type": "barpolar"
           }
          ],
          "carpet": [
           {
            "aaxis": {
             "endlinecolor": "#2a3f5f",
             "gridcolor": "white",
             "linecolor": "white",
             "minorgridcolor": "white",
             "startlinecolor": "#2a3f5f"
            },
            "baxis": {
             "endlinecolor": "#2a3f5f",
             "gridcolor": "white",
             "linecolor": "white",
             "minorgridcolor": "white",
             "startlinecolor": "#2a3f5f"
            },
            "type": "carpet"
           }
          ],
          "choropleth": [
           {
            "colorbar": {
             "outlinewidth": 0,
             "ticks": ""
            },
            "type": "choropleth"
           }
          ],
          "contour": [
           {
            "colorbar": {
             "outlinewidth": 0,
             "ticks": ""
            },
            "colorscale": [
             [
              0,
              "#0d0887"
             ],
             [
              0.1111111111111111,
              "#46039f"
             ],
             [
              0.2222222222222222,
              "#7201a8"
             ],
             [
              0.3333333333333333,
              "#9c179e"
             ],
             [
              0.4444444444444444,
              "#bd3786"
             ],
             [
              0.5555555555555556,
              "#d8576b"
             ],
             [
              0.6666666666666666,
              "#ed7953"
             ],
             [
              0.7777777777777778,
              "#fb9f3a"
             ],
             [
              0.8888888888888888,
              "#fdca26"
             ],
             [
              1,
              "#f0f921"
             ]
            ],
            "type": "contour"
           }
          ],
          "contourcarpet": [
           {
            "colorbar": {
             "outlinewidth": 0,
             "ticks": ""
            },
            "type": "contourcarpet"
           }
          ],
          "heatmap": [
           {
            "colorbar": {
             "outlinewidth": 0,
             "ticks": ""
            },
            "colorscale": [
             [
              0,
              "#0d0887"
             ],
             [
              0.1111111111111111,
              "#46039f"
             ],
             [
              0.2222222222222222,
              "#7201a8"
             ],
             [
              0.3333333333333333,
              "#9c179e"
             ],
             [
              0.4444444444444444,
              "#bd3786"
             ],
             [
              0.5555555555555556,
              "#d8576b"
             ],
             [
              0.6666666666666666,
              "#ed7953"
             ],
             [
              0.7777777777777778,
              "#fb9f3a"
             ],
             [
              0.8888888888888888,
              "#fdca26"
             ],
             [
              1,
              "#f0f921"
             ]
            ],
            "type": "heatmap"
           }
          ],
          "histogram": [
           {
            "marker": {
             "pattern": {
              "fillmode": "overlay",
              "size": 10,
              "solidity": 0.2
             }
            },
            "type": "histogram"
           }
          ],
          "histogram2d": [
           {
            "colorbar": {
             "outlinewidth": 0,
             "ticks": ""
            },
            "colorscale": [
             [
              0,
              "#0d0887"
             ],
             [
              0.1111111111111111,
              "#46039f"
             ],
             [
              0.2222222222222222,
              "#7201a8"
             ],
             [
              0.3333333333333333,
              "#9c179e"
             ],
             [
              0.4444444444444444,
              "#bd3786"
             ],
             [
              0.5555555555555556,
              "#d8576b"
             ],
             [
              0.6666666666666666,
              "#ed7953"
             ],
             [
              0.7777777777777778,
              "#fb9f3a"
             ],
             [
              0.8888888888888888,
              "#fdca26"
             ],
             [
              1,
              "#f0f921"
             ]
            ],
            "type": "histogram2d"
           }
          ],
          "histogram2dcontour": [
           {
            "colorbar": {
             "outlinewidth": 0,
             "ticks": ""
            },
            "colorscale": [
             [
              0,
              "#0d0887"
             ],
             [
              0.1111111111111111,
              "#46039f"
             ],
             [
              0.2222222222222222,
              "#7201a8"
             ],
             [
              0.3333333333333333,
              "#9c179e"
             ],
             [
              0.4444444444444444,
              "#bd3786"
             ],
             [
              0.5555555555555556,
              "#d8576b"
             ],
             [
              0.6666666666666666,
              "#ed7953"
             ],
             [
              0.7777777777777778,
              "#fb9f3a"
             ],
             [
              0.8888888888888888,
              "#fdca26"
             ],
             [
              1,
              "#f0f921"
             ]
            ],
            "type": "histogram2dcontour"
           }
          ],
          "mesh3d": [
           {
            "colorbar": {
             "outlinewidth": 0,
             "ticks": ""
            },
            "type": "mesh3d"
           }
          ],
          "parcoords": [
           {
            "line": {
             "colorbar": {
              "outlinewidth": 0,
              "ticks": ""
             }
            },
            "type": "parcoords"
           }
          ],
          "pie": [
           {
            "automargin": true,
            "type": "pie"
           }
          ],
          "scatter": [
           {
            "fillpattern": {
             "fillmode": "overlay",
             "size": 10,
             "solidity": 0.2
            },
            "type": "scatter"
           }
          ],
          "scatter3d": [
           {
            "line": {
             "colorbar": {
              "outlinewidth": 0,
              "ticks": ""
             }
            },
            "marker": {
             "colorbar": {
              "outlinewidth": 0,
              "ticks": ""
             }
            },
            "type": "scatter3d"
           }
          ],
          "scattercarpet": [
           {
            "marker": {
             "colorbar": {
              "outlinewidth": 0,
              "ticks": ""
             }
            },
            "type": "scattercarpet"
           }
          ],
          "scattergeo": [
           {
            "marker": {
             "colorbar": {
              "outlinewidth": 0,
              "ticks": ""
             }
            },
            "type": "scattergeo"
           }
          ],
          "scattergl": [
           {
            "marker": {
             "colorbar": {
              "outlinewidth": 0,
              "ticks": ""
             }
            },
            "type": "scattergl"
           }
          ],
          "scattermap": [
           {
            "marker": {
             "colorbar": {
              "outlinewidth": 0,
              "ticks": ""
             }
            },
            "type": "scattermap"
           }
          ],
          "scattermapbox": [
           {
            "marker": {
             "colorbar": {
              "outlinewidth": 0,
              "ticks": ""
             }
            },
            "type": "scattermapbox"
           }
          ],
          "scatterpolar": [
           {
            "marker": {
             "colorbar": {
              "outlinewidth": 0,
              "ticks": ""
             }
            },
            "type": "scatterpolar"
           }
          ],
          "scatterpolargl": [
           {
            "marker": {
             "colorbar": {
              "outlinewidth": 0,
              "ticks": ""
             }
            },
            "type": "scatterpolargl"
           }
          ],
          "scatterternary": [
           {
            "marker": {
             "colorbar": {
              "outlinewidth": 0,
              "ticks": ""
             }
            },
            "type": "scatterternary"
           }
          ],
          "surface": [
           {
            "colorbar": {
             "outlinewidth": 0,
             "ticks": ""
            },
            "colorscale": [
             [
              0,
              "#0d0887"
             ],
             [
              0.1111111111111111,
              "#46039f"
             ],
             [
              0.2222222222222222,
              "#7201a8"
             ],
             [
              0.3333333333333333,
              "#9c179e"
             ],
             [
              0.4444444444444444,
              "#bd3786"
             ],
             [
              0.5555555555555556,
              "#d8576b"
             ],
             [
              0.6666666666666666,
              "#ed7953"
             ],
             [
              0.7777777777777778,
              "#fb9f3a"
             ],
             [
              0.8888888888888888,
              "#fdca26"
             ],
             [
              1,
              "#f0f921"
             ]
            ],
            "type": "surface"
           }
          ],
          "table": [
           {
            "cells": {
             "fill": {
              "color": "#EBF0F8"
             },
             "line": {
              "color": "white"
             }
            },
            "header": {
             "fill": {
              "color": "#C8D4E3"
             },
             "line": {
              "color": "white"
             }
            },
            "type": "table"
           }
          ]
         },
         "layout": {
          "annotationdefaults": {
           "arrowcolor": "#2a3f5f",
           "arrowhead": 0,
           "arrowwidth": 1
          },
          "autotypenumbers": "strict",
          "coloraxis": {
           "colorbar": {
            "outlinewidth": 0,
            "ticks": ""
           }
          },
          "colorscale": {
           "diverging": [
            [
             0,
             "#8e0152"
            ],
            [
             0.1,
             "#c51b7d"
            ],
            [
             0.2,
             "#de77ae"
            ],
            [
             0.3,
             "#f1b6da"
            ],
            [
             0.4,
             "#fde0ef"
            ],
            [
             0.5,
             "#f7f7f7"
            ],
            [
             0.6,
             "#e6f5d0"
            ],
            [
             0.7,
             "#b8e186"
            ],
            [
             0.8,
             "#7fbc41"
            ],
            [
             0.9,
             "#4d9221"
            ],
            [
             1,
             "#276419"
            ]
           ],
           "sequential": [
            [
             0,
             "#0d0887"
            ],
            [
             0.1111111111111111,
             "#46039f"
            ],
            [
             0.2222222222222222,
             "#7201a8"
            ],
            [
             0.3333333333333333,
             "#9c179e"
            ],
            [
             0.4444444444444444,
             "#bd3786"
            ],
            [
             0.5555555555555556,
             "#d8576b"
            ],
            [
             0.6666666666666666,
             "#ed7953"
            ],
            [
             0.7777777777777778,
             "#fb9f3a"
            ],
            [
             0.8888888888888888,
             "#fdca26"
            ],
            [
             1,
             "#f0f921"
            ]
           ],
           "sequentialminus": [
            [
             0,
             "#0d0887"
            ],
            [
             0.1111111111111111,
             "#46039f"
            ],
            [
             0.2222222222222222,
             "#7201a8"
            ],
            [
             0.3333333333333333,
             "#9c179e"
            ],
            [
             0.4444444444444444,
             "#bd3786"
            ],
            [
             0.5555555555555556,
             "#d8576b"
            ],
            [
             0.6666666666666666,
             "#ed7953"
            ],
            [
             0.7777777777777778,
             "#fb9f3a"
            ],
            [
             0.8888888888888888,
             "#fdca26"
            ],
            [
             1,
             "#f0f921"
            ]
           ]
          },
          "colorway": [
           "#636efa",
           "#EF553B",
           "#00cc96",
           "#ab63fa",
           "#FFA15A",
           "#19d3f3",
           "#FF6692",
           "#B6E880",
           "#FF97FF",
           "#FECB52"
          ],
          "font": {
           "color": "#2a3f5f"
          },
          "geo": {
           "bgcolor": "white",
           "lakecolor": "white",
           "landcolor": "#E5ECF6",
           "showlakes": true,
           "showland": true,
           "subunitcolor": "white"
          },
          "hoverlabel": {
           "align": "left"
          },
          "hovermode": "closest",
          "mapbox": {
           "style": "light"
          },
          "paper_bgcolor": "white",
          "plot_bgcolor": "#E5ECF6",
          "polar": {
           "angularaxis": {
            "gridcolor": "white",
            "linecolor": "white",
            "ticks": ""
           },
           "bgcolor": "#E5ECF6",
           "radialaxis": {
            "gridcolor": "white",
            "linecolor": "white",
            "ticks": ""
           }
          },
          "scene": {
           "xaxis": {
            "backgroundcolor": "#E5ECF6",
            "gridcolor": "white",
            "gridwidth": 2,
            "linecolor": "white",
            "showbackground": true,
            "ticks": "",
            "zerolinecolor": "white"
           },
           "yaxis": {
            "backgroundcolor": "#E5ECF6",
            "gridcolor": "white",
            "gridwidth": 2,
            "linecolor": "white",
            "showbackground": true,
            "ticks": "",
            "zerolinecolor": "white"
           },
           "zaxis": {
            "backgroundcolor": "#E5ECF6",
            "gridcolor": "white",
            "gridwidth": 2,
            "linecolor": "white",
            "showbackground": true,
            "ticks": "",
            "zerolinecolor": "white"
           }
          },
          "shapedefaults": {
           "line": {
            "color": "#2a3f5f"
           }
          },
          "ternary": {
           "aaxis": {
            "gridcolor": "white",
            "linecolor": "white",
            "ticks": ""
           },
           "baxis": {
            "gridcolor": "white",
            "linecolor": "white",
            "ticks": ""
           },
           "bgcolor": "#E5ECF6",
           "caxis": {
            "gridcolor": "white",
            "linecolor": "white",
            "ticks": ""
           }
          },
          "title": {
           "x": 0.05
          },
          "xaxis": {
           "automargin": true,
           "gridcolor": "white",
           "linecolor": "white",
           "ticks": "",
           "title": {
            "standoff": 15
           },
           "zerolinecolor": "white",
           "zerolinewidth": 2
          },
          "yaxis": {
           "automargin": true,
           "gridcolor": "white",
           "linecolor": "white",
           "ticks": "",
           "title": {
            "standoff": 15
           },
           "zerolinecolor": "white",
           "zerolinewidth": 2
          }
         }
        },
        "title": {
         "text": "Average Transaction Amount vs. Age"
        },
        "xaxis": {
         "anchor": "y",
         "domain": [
          0,
          1
         ],
         "title": {
          "text": "Age"
         }
        },
        "yaxis": {
         "anchor": "x",
         "domain": [
          0,
          1
         ],
         "title": {
          "text": "Average_Transaction_Amount"
         }
        }
       }
      }
     },
     "metadata": {},
     "output_type": "display_data"
    }
   ],
   "source": [
    "fig_scatter_avg_amount_age = px.scatter(data, x='Age',\n",
    "                                        y='Average_Transaction_Amount',\n",
    "                                        color='Account_Type',\n",
    "                                        title='Average Transaction Amount vs. Age',\n",
    "                                        trendline='ols')\n",
    "fig_scatter_avg_amount_age.show()"
   ]
  },
  {
   "cell_type": "markdown",
   "metadata": {},
   "source": [
    "Transactions by Day of the Week :"
   ]
  },
  {
   "cell_type": "code",
   "execution_count": 12,
   "metadata": {},
   "outputs": [
    {
     "data": {
      "application/vnd.plotly.v1+json": {
       "config": {
        "plotlyServerURL": "https://plot.ly"
       },
       "data": [
        {
         "hovertemplate": "Day_of_Week=%{x}<br>count=%{y}<extra></extra>",
         "legendgroup": "",
         "marker": {
          "color": "#636efa",
          "pattern": {
           "shape": ""
          }
         },
         "name": "",
         "orientation": "v",
         "showlegend": false,
         "textposition": "auto",
         "type": "bar",
         "x": [
          "Friday",
          "Friday",
          "Tuesday",
          "Sunday",
          "Friday",
          "Thursday",
          "Tuesday",
          "Sunday",
          "Thursday",
          "Thursday",
          "Wednesday",
          "Monday",
          "Friday",
          "Monday",
          "Tuesday",
          "Saturday",
          "Wednesday",
          "Thursday",
          "Monday",
          "Wednesday",
          "Thursday",
          "Tuesday",
          "Wednesday",
          "Wednesday",
          "Friday",
          "Thursday",
          "Wednesday",
          "Thursday",
          "Thursday",
          "Wednesday",
          "Wednesday",
          "Wednesday",
          "Thursday",
          "Monday",
          "Saturday",
          "Monday",
          "Saturday",
          "Monday",
          "Sunday",
          "Tuesday",
          "Sunday",
          "Thursday",
          "Wednesday",
          "Thursday",
          "Friday",
          "Sunday",
          "Tuesday",
          "Friday",
          "Wednesday",
          "Saturday",
          "Sunday",
          "Friday",
          "Thursday",
          "Thursday",
          "Sunday",
          "Tuesday",
          "Friday",
          "Friday",
          "Sunday",
          "Monday",
          "Wednesday",
          "Tuesday",
          "Thursday",
          "Wednesday",
          "Saturday",
          "Friday",
          "Monday",
          "Sunday",
          "Saturday",
          "Thursday",
          "Wednesday",
          "Saturday",
          "Thursday",
          "Thursday",
          "Monday",
          "Saturday",
          "Monday",
          "Wednesday",
          "Sunday",
          "Wednesday",
          "Monday",
          "Saturday",
          "Monday",
          "Sunday",
          "Sunday",
          "Monday",
          "Friday",
          "Sunday",
          "Monday",
          "Friday",
          "Monday",
          "Tuesday",
          "Tuesday",
          "Saturday",
          "Wednesday",
          "Tuesday",
          "Sunday",
          "Tuesday",
          "Tuesday",
          "Saturday",
          "Sunday",
          "Monday",
          "Wednesday",
          "Tuesday",
          "Monday",
          "Monday",
          "Friday",
          "Wednesday",
          "Saturday",
          "Saturday",
          "Sunday",
          "Tuesday",
          "Friday",
          "Saturday",
          "Friday",
          "Friday",
          "Tuesday",
          "Thursday",
          "Sunday",
          "Thursday",
          "Sunday",
          "Saturday",
          "Thursday",
          "Tuesday",
          "Monday",
          "Monday",
          "Tuesday",
          "Friday",
          "Sunday",
          "Sunday",
          "Wednesday",
          "Saturday",
          "Sunday",
          "Monday",
          "Thursday",
          "Thursday",
          "Wednesday",
          "Wednesday",
          "Friday",
          "Thursday",
          "Thursday",
          "Saturday",
          "Wednesday",
          "Saturday",
          "Friday",
          "Monday",
          "Friday",
          "Sunday",
          "Monday",
          "Sunday",
          "Wednesday",
          "Sunday",
          "Sunday",
          "Thursday",
          "Saturday",
          "Tuesday",
          "Saturday",
          "Thursday",
          "Wednesday",
          "Sunday",
          "Tuesday",
          "Tuesday",
          "Saturday",
          "Wednesday",
          "Thursday",
          "Friday",
          "Tuesday",
          "Monday",
          "Saturday",
          "Tuesday",
          "Thursday",
          "Thursday",
          "Tuesday",
          "Monday",
          "Tuesday",
          "Monday",
          "Thursday",
          "Thursday",
          "Thursday",
          "Tuesday",
          "Wednesday",
          "Tuesday",
          "Wednesday",
          "Thursday",
          "Wednesday",
          "Wednesday",
          "Monday",
          "Friday",
          "Sunday",
          "Thursday",
          "Wednesday",
          "Thursday",
          "Friday",
          "Sunday",
          "Tuesday",
          "Thursday",
          "Tuesday",
          "Tuesday",
          "Tuesday",
          "Thursday",
          "Wednesday",
          "Sunday",
          "Tuesday",
          "Monday",
          "Monday",
          "Thursday",
          "Monday",
          "Sunday",
          "Tuesday",
          "Tuesday",
          "Sunday",
          "Saturday",
          "Monday",
          "Thursday",
          "Wednesday",
          "Monday",
          "Wednesday",
          "Monday",
          "Sunday",
          "Wednesday",
          "Friday",
          "Saturday",
          "Friday",
          "Friday",
          "Tuesday",
          "Tuesday",
          "Tuesday",
          "Monday",
          "Friday",
          "Wednesday",
          "Saturday",
          "Friday",
          "Tuesday",
          "Tuesday",
          "Thursday",
          "Sunday",
          "Sunday",
          "Saturday",
          "Saturday",
          "Wednesday",
          "Sunday",
          "Wednesday",
          "Sunday",
          "Tuesday",
          "Saturday",
          "Friday",
          "Sunday",
          "Saturday",
          "Tuesday",
          "Monday",
          "Monday",
          "Tuesday",
          "Saturday",
          "Sunday",
          "Wednesday",
          "Wednesday",
          "Monday",
          "Friday",
          "Sunday",
          "Wednesday",
          "Thursday",
          "Saturday",
          "Sunday",
          "Sunday",
          "Wednesday",
          "Monday",
          "Friday",
          "Saturday",
          "Wednesday",
          "Wednesday",
          "Friday",
          "Tuesday",
          "Tuesday",
          "Friday",
          "Tuesday",
          "Friday",
          "Saturday",
          "Monday",
          "Thursday",
          "Monday",
          "Wednesday",
          "Wednesday",
          "Thursday",
          "Thursday",
          "Wednesday",
          "Tuesday",
          "Monday",
          "Monday",
          "Monday",
          "Wednesday",
          "Wednesday",
          "Saturday",
          "Wednesday",
          "Friday",
          "Tuesday",
          "Tuesday",
          "Tuesday",
          "Tuesday",
          "Sunday",
          "Tuesday",
          "Thursday",
          "Wednesday",
          "Sunday",
          "Saturday",
          "Thursday",
          "Thursday",
          "Tuesday",
          "Monday",
          "Saturday",
          "Tuesday",
          "Saturday",
          "Wednesday",
          "Monday",
          "Sunday",
          "Monday",
          "Tuesday",
          "Saturday",
          "Wednesday",
          "Monday",
          "Sunday",
          "Saturday",
          "Thursday",
          "Wednesday",
          "Sunday",
          "Saturday",
          "Monday",
          "Friday",
          "Thursday",
          "Monday",
          "Saturday",
          "Friday",
          "Friday",
          "Wednesday",
          "Wednesday",
          "Tuesday",
          "Thursday",
          "Wednesday",
          "Friday",
          "Saturday",
          "Monday",
          "Saturday",
          "Sunday",
          "Sunday",
          "Sunday",
          "Tuesday",
          "Friday",
          "Friday",
          "Wednesday",
          "Tuesday",
          "Monday",
          "Friday",
          "Wednesday",
          "Sunday",
          "Friday",
          "Thursday",
          "Thursday",
          "Thursday",
          "Monday",
          "Tuesday",
          "Wednesday",
          "Thursday",
          "Wednesday",
          "Saturday",
          "Monday",
          "Tuesday",
          "Friday",
          "Saturday",
          "Friday",
          "Tuesday",
          "Tuesday",
          "Friday",
          "Wednesday",
          "Saturday",
          "Sunday",
          "Tuesday",
          "Monday",
          "Wednesday",
          "Saturday",
          "Sunday",
          "Monday",
          "Friday",
          "Sunday",
          "Friday",
          "Saturday",
          "Thursday",
          "Thursday",
          "Tuesday",
          "Sunday",
          "Tuesday",
          "Wednesday",
          "Friday",
          "Wednesday",
          "Saturday",
          "Sunday",
          "Thursday",
          "Sunday",
          "Thursday",
          "Saturday",
          "Thursday",
          "Saturday",
          "Saturday",
          "Tuesday",
          "Wednesday",
          "Friday",
          "Friday",
          "Monday",
          "Friday",
          "Wednesday",
          "Thursday",
          "Saturday",
          "Thursday",
          "Thursday",
          "Monday",
          "Wednesday",
          "Sunday",
          "Tuesday",
          "Monday",
          "Sunday",
          "Sunday",
          "Thursday",
          "Thursday",
          "Saturday",
          "Sunday",
          "Tuesday",
          "Monday",
          "Sunday",
          "Wednesday",
          "Tuesday",
          "Thursday",
          "Saturday",
          "Wednesday",
          "Saturday",
          "Sunday",
          "Wednesday",
          "Friday",
          "Tuesday",
          "Friday",
          "Tuesday",
          "Monday",
          "Tuesday",
          "Wednesday",
          "Saturday",
          "Wednesday",
          "Thursday",
          "Monday",
          "Saturday",
          "Sunday",
          "Tuesday",
          "Sunday",
          "Monday",
          "Thursday",
          "Wednesday",
          "Thursday",
          "Thursday",
          "Tuesday",
          "Thursday",
          "Friday",
          "Wednesday",
          "Monday",
          "Saturday",
          "Sunday",
          "Sunday",
          "Sunday",
          "Tuesday",
          "Wednesday",
          "Saturday",
          "Wednesday",
          "Friday",
          "Tuesday",
          "Sunday",
          "Sunday",
          "Monday",
          "Wednesday",
          "Tuesday",
          "Thursday",
          "Saturday",
          "Sunday",
          "Monday",
          "Friday",
          "Wednesday",
          "Sunday",
          "Friday",
          "Saturday",
          "Thursday",
          "Monday",
          "Friday",
          "Saturday",
          "Friday",
          "Saturday",
          "Tuesday",
          "Thursday",
          "Sunday",
          "Wednesday",
          "Sunday",
          "Tuesday",
          "Friday",
          "Wednesday",
          "Thursday",
          "Wednesday",
          "Monday",
          "Thursday",
          "Tuesday",
          "Wednesday",
          "Thursday",
          "Tuesday",
          "Friday",
          "Thursday",
          "Saturday",
          "Wednesday",
          "Saturday",
          "Thursday",
          "Tuesday",
          "Thursday",
          "Thursday",
          "Wednesday",
          "Tuesday",
          "Sunday",
          "Monday",
          "Sunday",
          "Monday",
          "Sunday",
          "Saturday",
          "Sunday",
          "Sunday",
          "Thursday",
          "Saturday",
          "Wednesday",
          "Friday",
          "Friday",
          "Sunday",
          "Sunday",
          "Thursday",
          "Saturday",
          "Friday",
          "Saturday",
          "Tuesday",
          "Saturday",
          "Tuesday",
          "Thursday",
          "Sunday",
          "Sunday",
          "Tuesday",
          "Wednesday",
          "Sunday",
          "Monday",
          "Monday",
          "Monday",
          "Wednesday",
          "Tuesday",
          "Friday",
          "Thursday",
          "Saturday",
          "Thursday",
          "Tuesday",
          "Monday",
          "Wednesday",
          "Monday",
          "Tuesday",
          "Saturday",
          "Thursday",
          "Friday",
          "Sunday",
          "Tuesday",
          "Sunday",
          "Wednesday",
          "Friday",
          "Sunday",
          "Tuesday",
          "Saturday",
          "Tuesday",
          "Monday",
          "Saturday",
          "Tuesday",
          "Wednesday",
          "Tuesday",
          "Saturday",
          "Tuesday",
          "Friday",
          "Tuesday",
          "Saturday",
          "Thursday",
          "Sunday",
          "Saturday",
          "Thursday",
          "Sunday",
          "Friday",
          "Saturday",
          "Tuesday",
          "Friday",
          "Monday",
          "Tuesday",
          "Saturday",
          "Friday",
          "Saturday",
          "Tuesday",
          "Thursday",
          "Sunday",
          "Friday",
          "Thursday",
          "Monday",
          "Wednesday",
          "Thursday",
          "Sunday",
          "Wednesday",
          "Friday",
          "Thursday",
          "Saturday",
          "Thursday",
          "Friday",
          "Friday",
          "Thursday",
          "Monday",
          "Tuesday",
          "Saturday",
          "Sunday",
          "Friday",
          "Wednesday",
          "Friday",
          "Friday",
          "Monday",
          "Wednesday",
          "Tuesday",
          "Wednesday",
          "Sunday",
          "Thursday",
          "Friday",
          "Saturday",
          "Friday",
          "Friday",
          "Wednesday",
          "Tuesday",
          "Sunday",
          "Wednesday",
          "Wednesday",
          "Sunday",
          "Saturday",
          "Saturday",
          "Saturday",
          "Thursday",
          "Monday",
          "Friday",
          "Friday",
          "Wednesday",
          "Monday",
          "Sunday",
          "Saturday",
          "Sunday",
          "Sunday",
          "Sunday",
          "Wednesday",
          "Wednesday",
          "Friday",
          "Saturday",
          "Friday",
          "Thursday",
          "Monday",
          "Tuesday",
          "Sunday",
          "Monday",
          "Sunday",
          "Friday",
          "Sunday",
          "Thursday",
          "Sunday",
          "Sunday",
          "Saturday",
          "Wednesday",
          "Thursday",
          "Wednesday",
          "Friday",
          "Friday",
          "Wednesday",
          "Wednesday",
          "Wednesday",
          "Friday",
          "Thursday",
          "Tuesday",
          "Saturday",
          "Monday",
          "Tuesday",
          "Monday",
          "Saturday",
          "Tuesday",
          "Friday",
          "Monday",
          "Saturday",
          "Friday",
          "Saturday",
          "Tuesday",
          "Saturday",
          "Saturday",
          "Tuesday",
          "Sunday",
          "Tuesday",
          "Wednesday",
          "Monday",
          "Tuesday",
          "Thursday",
          "Friday",
          "Sunday",
          "Friday",
          "Friday",
          "Wednesday",
          "Sunday",
          "Tuesday",
          "Tuesday",
          "Saturday",
          "Friday",
          "Tuesday",
          "Monday",
          "Monday",
          "Friday",
          "Monday",
          "Monday",
          "Tuesday",
          "Wednesday",
          "Tuesday",
          "Friday",
          "Sunday",
          "Monday",
          "Saturday",
          "Thursday",
          "Thursday",
          "Wednesday",
          "Thursday",
          "Thursday",
          "Friday",
          "Friday",
          "Saturday",
          "Monday",
          "Tuesday",
          "Tuesday",
          "Tuesday",
          "Friday",
          "Tuesday",
          "Friday",
          "Friday",
          "Thursday",
          "Tuesday",
          "Monday",
          "Tuesday",
          "Sunday",
          "Tuesday",
          "Monday",
          "Saturday",
          "Sunday",
          "Sunday",
          "Friday",
          "Sunday",
          "Saturday",
          "Friday",
          "Sunday",
          "Thursday",
          "Friday",
          "Monday",
          "Saturday",
          "Thursday",
          "Sunday",
          "Tuesday",
          "Wednesday",
          "Wednesday",
          "Sunday",
          "Tuesday",
          "Saturday",
          "Thursday",
          "Friday",
          "Saturday",
          "Friday",
          "Tuesday",
          "Monday",
          "Thursday",
          "Thursday",
          "Sunday",
          "Friday",
          "Friday",
          "Thursday",
          "Monday",
          "Wednesday",
          "Thursday",
          "Saturday",
          "Monday",
          "Thursday",
          "Saturday",
          "Thursday",
          "Sunday",
          "Thursday",
          "Saturday",
          "Friday",
          "Tuesday",
          "Saturday",
          "Wednesday",
          "Tuesday",
          "Friday",
          "Sunday",
          "Saturday",
          "Wednesday",
          "Thursday",
          "Monday",
          "Tuesday",
          "Sunday",
          "Friday",
          "Sunday",
          "Friday",
          "Thursday",
          "Saturday",
          "Thursday",
          "Friday",
          "Saturday",
          "Monday",
          "Wednesday",
          "Wednesday",
          "Friday",
          "Thursday",
          "Saturday",
          "Monday",
          "Wednesday",
          "Monday",
          "Thursday",
          "Tuesday",
          "Friday",
          "Monday",
          "Sunday",
          "Tuesday",
          "Tuesday",
          "Wednesday",
          "Saturday",
          "Thursday",
          "Tuesday",
          "Wednesday",
          "Friday",
          "Monday",
          "Tuesday",
          "Friday",
          "Tuesday",
          "Monday",
          "Wednesday",
          "Wednesday",
          "Thursday",
          "Friday",
          "Wednesday",
          "Tuesday",
          "Friday",
          "Tuesday",
          "Saturday",
          "Sunday",
          "Tuesday",
          "Sunday",
          "Wednesday",
          "Tuesday",
          "Thursday",
          "Monday",
          "Wednesday",
          "Sunday",
          "Thursday",
          "Sunday",
          "Friday",
          "Saturday",
          "Monday",
          "Saturday",
          "Sunday",
          "Wednesday",
          "Sunday",
          "Tuesday",
          "Friday",
          "Sunday",
          "Sunday",
          "Monday",
          "Monday",
          "Wednesday",
          "Tuesday",
          "Tuesday",
          "Wednesday",
          "Wednesday",
          "Tuesday",
          "Sunday",
          "Saturday",
          "Thursday",
          "Sunday",
          "Saturday",
          "Monday",
          "Wednesday",
          "Friday",
          "Sunday",
          "Tuesday",
          "Friday",
          "Friday",
          "Saturday",
          "Friday",
          "Monday",
          "Wednesday",
          "Sunday",
          "Thursday",
          "Thursday",
          "Saturday",
          "Thursday",
          "Thursday",
          "Monday",
          "Monday",
          "Sunday",
          "Saturday",
          "Friday",
          "Friday",
          "Monday",
          "Sunday",
          "Thursday",
          "Thursday",
          "Tuesday",
          "Thursday",
          "Tuesday",
          "Saturday",
          "Thursday",
          "Friday",
          "Wednesday",
          "Tuesday",
          "Tuesday",
          "Wednesday",
          "Thursday",
          "Tuesday",
          "Monday",
          "Monday",
          "Monday",
          "Wednesday",
          "Tuesday",
          "Friday",
          "Thursday",
          "Sunday",
          "Sunday",
          "Saturday",
          "Monday",
          "Thursday",
          "Friday",
          "Sunday",
          "Thursday",
          "Monday",
          "Thursday",
          "Thursday",
          "Tuesday",
          "Monday",
          "Wednesday",
          "Monday",
          "Tuesday",
          "Friday",
          "Wednesday",
          "Friday",
          "Wednesday",
          "Wednesday",
          "Sunday",
          "Wednesday",
          "Saturday",
          "Tuesday",
          "Monday",
          "Thursday",
          "Thursday",
          "Thursday",
          "Monday",
          "Friday",
          "Monday",
          "Sunday",
          "Wednesday",
          "Monday",
          "Sunday",
          "Monday",
          "Wednesday",
          "Wednesday",
          "Monday",
          "Sunday",
          "Sunday",
          "Wednesday",
          "Wednesday",
          "Thursday",
          "Saturday",
          "Friday",
          "Tuesday",
          "Friday",
          "Monday",
          "Monday",
          "Friday",
          "Friday",
          "Thursday",
          "Tuesday",
          "Sunday",
          "Wednesday",
          "Thursday",
          "Saturday",
          "Tuesday",
          "Friday",
          "Thursday",
          "Friday",
          "Sunday",
          "Wednesday",
          "Monday",
          "Thursday",
          "Tuesday",
          "Tuesday",
          "Saturday",
          "Monday",
          "Wednesday",
          "Friday",
          "Tuesday",
          "Sunday"
         ],
         "xaxis": "x",
         "y": {
          "bdata": "AQEBAQEBAQEBAQEBAQEBAQEBAQEBAQEBAQEBAQEBAQEBAQEBAQEBAQEBAQEBAQEBAQEBAQEBAQEBAQEBAQEBAQEBAQEBAQEBAQEBAQEBAQEBAQEBAQEBAQEBAQEBAQEBAQEBAQEBAQEBAQEBAQEBAQEBAQEBAQEBAQEBAQEBAQEBAQEBAQEBAQEBAQEBAQEBAQEBAQEBAQEBAQEBAQEBAQEBAQEBAQEBAQEBAQEBAQEBAQEBAQEBAQEBAQEBAQEBAQEBAQEBAQEBAQEBAQEBAQEBAQEBAQEBAQEBAQEBAQEBAQEBAQEBAQEBAQEBAQEBAQEBAQEBAQEBAQEBAQEBAQEBAQEBAQEBAQEBAQEBAQEBAQEBAQEBAQEBAQEBAQEBAQEBAQEBAQEBAQEBAQEBAQEBAQEBAQEBAQEBAQEBAQEBAQEBAQEBAQEBAQEBAQEBAQEBAQEBAQEBAQEBAQEBAQEBAQEBAQEBAQEBAQEBAQEBAQEBAQEBAQEBAQEBAQEBAQEBAQEBAQEBAQEBAQEBAQEBAQEBAQEBAQEBAQEBAQEBAQEBAQEBAQEBAQEBAQEBAQEBAQEBAQEBAQEBAQEBAQEBAQEBAQEBAQEBAQEBAQEBAQEBAQEBAQEBAQEBAQEBAQEBAQEBAQEBAQEBAQEBAQEBAQEBAQEBAQEBAQEBAQEBAQEBAQEBAQEBAQEBAQEBAQEBAQEBAQEBAQEBAQEBAQEBAQEBAQEBAQEBAQEBAQEBAQEBAQEBAQEBAQEBAQEBAQEBAQEBAQEBAQEBAQEBAQEBAQEBAQEBAQEBAQEBAQEBAQEBAQEBAQEBAQEBAQEBAQEBAQEBAQEBAQEBAQEBAQEBAQEBAQEBAQEBAQEBAQEBAQEBAQEBAQEBAQEBAQEBAQEBAQEBAQEBAQEBAQEBAQEBAQEBAQEBAQEBAQEBAQEBAQEBAQEBAQEBAQEBAQEBAQEBAQEBAQEBAQEBAQEBAQEBAQEBAQEBAQEBAQEBAQEBAQEBAQEBAQEBAQEBAQEBAQEBAQEBAQEBAQEBAQEBAQEBAQEBAQEBAQEBAQEBAQEBAQEBAQEBAQEBAQEBAQEBAQEBAQEBAQEBAQEBAQEBAQEBAQEBAQEBAQEBAQEBAQEBAQEBAQEBAQEBAQEBAQEBAQEBAQEBAQEBAQEBAQEBAQEBAQEBAQEBAQEBAQEBAQEBAQEBAQEBAQEBAQEBAQEBAQEBAQEBAQEBAQEBAQEBAQEBAQEBAQEBAQEBAQEBAQEBAQEBAQEBAQEBAQEBAQEBAQEBAQEBAQEBAQEBAQEBAQEBAQEBAQEBAQEBAQEBAQEBAQEBAQEBAQ==",
          "dtype": "i1"
         },
         "yaxis": "y"
        }
       ],
       "layout": {
        "barmode": "relative",
        "legend": {
         "tracegroupgap": 0
        },
        "template": {
         "data": {
          "bar": [
           {
            "error_x": {
             "color": "#2a3f5f"
            },
            "error_y": {
             "color": "#2a3f5f"
            },
            "marker": {
             "line": {
              "color": "#E5ECF6",
              "width": 0.5
             },
             "pattern": {
              "fillmode": "overlay",
              "size": 10,
              "solidity": 0.2
             }
            },
            "type": "bar"
           }
          ],
          "barpolar": [
           {
            "marker": {
             "line": {
              "color": "#E5ECF6",
              "width": 0.5
             },
             "pattern": {
              "fillmode": "overlay",
              "size": 10,
              "solidity": 0.2
             }
            },
            "type": "barpolar"
           }
          ],
          "carpet": [
           {
            "aaxis": {
             "endlinecolor": "#2a3f5f",
             "gridcolor": "white",
             "linecolor": "white",
             "minorgridcolor": "white",
             "startlinecolor": "#2a3f5f"
            },
            "baxis": {
             "endlinecolor": "#2a3f5f",
             "gridcolor": "white",
             "linecolor": "white",
             "minorgridcolor": "white",
             "startlinecolor": "#2a3f5f"
            },
            "type": "carpet"
           }
          ],
          "choropleth": [
           {
            "colorbar": {
             "outlinewidth": 0,
             "ticks": ""
            },
            "type": "choropleth"
           }
          ],
          "contour": [
           {
            "colorbar": {
             "outlinewidth": 0,
             "ticks": ""
            },
            "colorscale": [
             [
              0,
              "#0d0887"
             ],
             [
              0.1111111111111111,
              "#46039f"
             ],
             [
              0.2222222222222222,
              "#7201a8"
             ],
             [
              0.3333333333333333,
              "#9c179e"
             ],
             [
              0.4444444444444444,
              "#bd3786"
             ],
             [
              0.5555555555555556,
              "#d8576b"
             ],
             [
              0.6666666666666666,
              "#ed7953"
             ],
             [
              0.7777777777777778,
              "#fb9f3a"
             ],
             [
              0.8888888888888888,
              "#fdca26"
             ],
             [
              1,
              "#f0f921"
             ]
            ],
            "type": "contour"
           }
          ],
          "contourcarpet": [
           {
            "colorbar": {
             "outlinewidth": 0,
             "ticks": ""
            },
            "type": "contourcarpet"
           }
          ],
          "heatmap": [
           {
            "colorbar": {
             "outlinewidth": 0,
             "ticks": ""
            },
            "colorscale": [
             [
              0,
              "#0d0887"
             ],
             [
              0.1111111111111111,
              "#46039f"
             ],
             [
              0.2222222222222222,
              "#7201a8"
             ],
             [
              0.3333333333333333,
              "#9c179e"
             ],
             [
              0.4444444444444444,
              "#bd3786"
             ],
             [
              0.5555555555555556,
              "#d8576b"
             ],
             [
              0.6666666666666666,
              "#ed7953"
             ],
             [
              0.7777777777777778,
              "#fb9f3a"
             ],
             [
              0.8888888888888888,
              "#fdca26"
             ],
             [
              1,
              "#f0f921"
             ]
            ],
            "type": "heatmap"
           }
          ],
          "histogram": [
           {
            "marker": {
             "pattern": {
              "fillmode": "overlay",
              "size": 10,
              "solidity": 0.2
             }
            },
            "type": "histogram"
           }
          ],
          "histogram2d": [
           {
            "colorbar": {
             "outlinewidth": 0,
             "ticks": ""
            },
            "colorscale": [
             [
              0,
              "#0d0887"
             ],
             [
              0.1111111111111111,
              "#46039f"
             ],
             [
              0.2222222222222222,
              "#7201a8"
             ],
             [
              0.3333333333333333,
              "#9c179e"
             ],
             [
              0.4444444444444444,
              "#bd3786"
             ],
             [
              0.5555555555555556,
              "#d8576b"
             ],
             [
              0.6666666666666666,
              "#ed7953"
             ],
             [
              0.7777777777777778,
              "#fb9f3a"
             ],
             [
              0.8888888888888888,
              "#fdca26"
             ],
             [
              1,
              "#f0f921"
             ]
            ],
            "type": "histogram2d"
           }
          ],
          "histogram2dcontour": [
           {
            "colorbar": {
             "outlinewidth": 0,
             "ticks": ""
            },
            "colorscale": [
             [
              0,
              "#0d0887"
             ],
             [
              0.1111111111111111,
              "#46039f"
             ],
             [
              0.2222222222222222,
              "#7201a8"
             ],
             [
              0.3333333333333333,
              "#9c179e"
             ],
             [
              0.4444444444444444,
              "#bd3786"
             ],
             [
              0.5555555555555556,
              "#d8576b"
             ],
             [
              0.6666666666666666,
              "#ed7953"
             ],
             [
              0.7777777777777778,
              "#fb9f3a"
             ],
             [
              0.8888888888888888,
              "#fdca26"
             ],
             [
              1,
              "#f0f921"
             ]
            ],
            "type": "histogram2dcontour"
           }
          ],
          "mesh3d": [
           {
            "colorbar": {
             "outlinewidth": 0,
             "ticks": ""
            },
            "type": "mesh3d"
           }
          ],
          "parcoords": [
           {
            "line": {
             "colorbar": {
              "outlinewidth": 0,
              "ticks": ""
             }
            },
            "type": "parcoords"
           }
          ],
          "pie": [
           {
            "automargin": true,
            "type": "pie"
           }
          ],
          "scatter": [
           {
            "fillpattern": {
             "fillmode": "overlay",
             "size": 10,
             "solidity": 0.2
            },
            "type": "scatter"
           }
          ],
          "scatter3d": [
           {
            "line": {
             "colorbar": {
              "outlinewidth": 0,
              "ticks": ""
             }
            },
            "marker": {
             "colorbar": {
              "outlinewidth": 0,
              "ticks": ""
             }
            },
            "type": "scatter3d"
           }
          ],
          "scattercarpet": [
           {
            "marker": {
             "colorbar": {
              "outlinewidth": 0,
              "ticks": ""
             }
            },
            "type": "scattercarpet"
           }
          ],
          "scattergeo": [
           {
            "marker": {
             "colorbar": {
              "outlinewidth": 0,
              "ticks": ""
             }
            },
            "type": "scattergeo"
           }
          ],
          "scattergl": [
           {
            "marker": {
             "colorbar": {
              "outlinewidth": 0,
              "ticks": ""
             }
            },
            "type": "scattergl"
           }
          ],
          "scattermap": [
           {
            "marker": {
             "colorbar": {
              "outlinewidth": 0,
              "ticks": ""
             }
            },
            "type": "scattermap"
           }
          ],
          "scattermapbox": [
           {
            "marker": {
             "colorbar": {
              "outlinewidth": 0,
              "ticks": ""
             }
            },
            "type": "scattermapbox"
           }
          ],
          "scatterpolar": [
           {
            "marker": {
             "colorbar": {
              "outlinewidth": 0,
              "ticks": ""
             }
            },
            "type": "scatterpolar"
           }
          ],
          "scatterpolargl": [
           {
            "marker": {
             "colorbar": {
              "outlinewidth": 0,
              "ticks": ""
             }
            },
            "type": "scatterpolargl"
           }
          ],
          "scatterternary": [
           {
            "marker": {
             "colorbar": {
              "outlinewidth": 0,
              "ticks": ""
             }
            },
            "type": "scatterternary"
           }
          ],
          "surface": [
           {
            "colorbar": {
             "outlinewidth": 0,
             "ticks": ""
            },
            "colorscale": [
             [
              0,
              "#0d0887"
             ],
             [
              0.1111111111111111,
              "#46039f"
             ],
             [
              0.2222222222222222,
              "#7201a8"
             ],
             [
              0.3333333333333333,
              "#9c179e"
             ],
             [
              0.4444444444444444,
              "#bd3786"
             ],
             [
              0.5555555555555556,
              "#d8576b"
             ],
             [
              0.6666666666666666,
              "#ed7953"
             ],
             [
              0.7777777777777778,
              "#fb9f3a"
             ],
             [
              0.8888888888888888,
              "#fdca26"
             ],
             [
              1,
              "#f0f921"
             ]
            ],
            "type": "surface"
           }
          ],
          "table": [
           {
            "cells": {
             "fill": {
              "color": "#EBF0F8"
             },
             "line": {
              "color": "white"
             }
            },
            "header": {
             "fill": {
              "color": "#C8D4E3"
             },
             "line": {
              "color": "white"
             }
            },
            "type": "table"
           }
          ]
         },
         "layout": {
          "annotationdefaults": {
           "arrowcolor": "#2a3f5f",
           "arrowhead": 0,
           "arrowwidth": 1
          },
          "autotypenumbers": "strict",
          "coloraxis": {
           "colorbar": {
            "outlinewidth": 0,
            "ticks": ""
           }
          },
          "colorscale": {
           "diverging": [
            [
             0,
             "#8e0152"
            ],
            [
             0.1,
             "#c51b7d"
            ],
            [
             0.2,
             "#de77ae"
            ],
            [
             0.3,
             "#f1b6da"
            ],
            [
             0.4,
             "#fde0ef"
            ],
            [
             0.5,
             "#f7f7f7"
            ],
            [
             0.6,
             "#e6f5d0"
            ],
            [
             0.7,
             "#b8e186"
            ],
            [
             0.8,
             "#7fbc41"
            ],
            [
             0.9,
             "#4d9221"
            ],
            [
             1,
             "#276419"
            ]
           ],
           "sequential": [
            [
             0,
             "#0d0887"
            ],
            [
             0.1111111111111111,
             "#46039f"
            ],
            [
             0.2222222222222222,
             "#7201a8"
            ],
            [
             0.3333333333333333,
             "#9c179e"
            ],
            [
             0.4444444444444444,
             "#bd3786"
            ],
            [
             0.5555555555555556,
             "#d8576b"
            ],
            [
             0.6666666666666666,
             "#ed7953"
            ],
            [
             0.7777777777777778,
             "#fb9f3a"
            ],
            [
             0.8888888888888888,
             "#fdca26"
            ],
            [
             1,
             "#f0f921"
            ]
           ],
           "sequentialminus": [
            [
             0,
             "#0d0887"
            ],
            [
             0.1111111111111111,
             "#46039f"
            ],
            [
             0.2222222222222222,
             "#7201a8"
            ],
            [
             0.3333333333333333,
             "#9c179e"
            ],
            [
             0.4444444444444444,
             "#bd3786"
            ],
            [
             0.5555555555555556,
             "#d8576b"
            ],
            [
             0.6666666666666666,
             "#ed7953"
            ],
            [
             0.7777777777777778,
             "#fb9f3a"
            ],
            [
             0.8888888888888888,
             "#fdca26"
            ],
            [
             1,
             "#f0f921"
            ]
           ]
          },
          "colorway": [
           "#636efa",
           "#EF553B",
           "#00cc96",
           "#ab63fa",
           "#FFA15A",
           "#19d3f3",
           "#FF6692",
           "#B6E880",
           "#FF97FF",
           "#FECB52"
          ],
          "font": {
           "color": "#2a3f5f"
          },
          "geo": {
           "bgcolor": "white",
           "lakecolor": "white",
           "landcolor": "#E5ECF6",
           "showlakes": true,
           "showland": true,
           "subunitcolor": "white"
          },
          "hoverlabel": {
           "align": "left"
          },
          "hovermode": "closest",
          "mapbox": {
           "style": "light"
          },
          "paper_bgcolor": "white",
          "plot_bgcolor": "#E5ECF6",
          "polar": {
           "angularaxis": {
            "gridcolor": "white",
            "linecolor": "white",
            "ticks": ""
           },
           "bgcolor": "#E5ECF6",
           "radialaxis": {
            "gridcolor": "white",
            "linecolor": "white",
            "ticks": ""
           }
          },
          "scene": {
           "xaxis": {
            "backgroundcolor": "#E5ECF6",
            "gridcolor": "white",
            "gridwidth": 2,
            "linecolor": "white",
            "showbackground": true,
            "ticks": "",
            "zerolinecolor": "white"
           },
           "yaxis": {
            "backgroundcolor": "#E5ECF6",
            "gridcolor": "white",
            "gridwidth": 2,
            "linecolor": "white",
            "showbackground": true,
            "ticks": "",
            "zerolinecolor": "white"
           },
           "zaxis": {
            "backgroundcolor": "#E5ECF6",
            "gridcolor": "white",
            "gridwidth": 2,
            "linecolor": "white",
            "showbackground": true,
            "ticks": "",
            "zerolinecolor": "white"
           }
          },
          "shapedefaults": {
           "line": {
            "color": "#2a3f5f"
           }
          },
          "ternary": {
           "aaxis": {
            "gridcolor": "white",
            "linecolor": "white",
            "ticks": ""
           },
           "baxis": {
            "gridcolor": "white",
            "linecolor": "white",
            "ticks": ""
           },
           "bgcolor": "#E5ECF6",
           "caxis": {
            "gridcolor": "white",
            "linecolor": "white",
            "ticks": ""
           }
          },
          "title": {
           "x": 0.05
          },
          "xaxis": {
           "automargin": true,
           "gridcolor": "white",
           "linecolor": "white",
           "ticks": "",
           "title": {
            "standoff": 15
           },
           "zerolinecolor": "white",
           "zerolinewidth": 2
          },
          "yaxis": {
           "automargin": true,
           "gridcolor": "white",
           "linecolor": "white",
           "ticks": "",
           "title": {
            "standoff": 15
           },
           "zerolinecolor": "white",
           "zerolinewidth": 2
          }
         }
        },
        "title": {
         "text": "Count of Transactions by Day of the Week"
        },
        "xaxis": {
         "anchor": "y",
         "domain": [
          0,
          1
         ],
         "title": {
          "text": "Day_of_Week"
         }
        },
        "yaxis": {
         "anchor": "x",
         "domain": [
          0,
          1
         ],
         "title": {
          "text": "count"
         }
        }
       }
      }
     },
     "metadata": {},
     "output_type": "display_data"
    }
   ],
   "source": [
    "fig_day_of_week = px.bar(data, x='Day_of_Week',\n",
    "                         title='Count of Transactions by Day of the Week')\n",
    "fig_day_of_week.show()"
   ]
  },
  {
   "cell_type": "markdown",
   "metadata": {},
   "source": [
    "Correlation Between Columns :"
   ]
  },
  {
   "cell_type": "code",
   "execution_count": 14,
   "metadata": {},
   "outputs": [
    {
     "data": {
      "application/vnd.plotly.v1+json": {
       "config": {
        "plotlyServerURL": "https://plot.ly"
       },
       "data": [
        {
         "coloraxis": "coloraxis",
         "hovertemplate": "x: %{x}<br>y: %{y}<br>color: %{z}<extra></extra>",
         "name": "0",
         "type": "heatmap",
         "x": [
          "Transaction_Amount",
          "Transaction_Volume",
          "Average_Transaction_Amount",
          "Frequency_of_Transactions",
          "Time_Since_Last_Transaction",
          "Age",
          "Income"
         ],
         "xaxis": "x",
         "y": [
          "Transaction_Amount",
          "Transaction_Volume",
          "Average_Transaction_Amount",
          "Frequency_of_Transactions",
          "Time_Since_Last_Transaction",
          "Age",
          "Income"
         ],
         "yaxis": "y",
         "z": {
          "bdata": "AAAAAAAA8D8rfZy7TeyvP3sEuzuB4oQ/fKK4NtiDpr+DZSV32mibP4GFXA+Jnpk/XYyXR+8ZmD8rfZy7TeyvPwAAAAAAAPA/ehNaVgWZbT/cUjmEmc2ZPyZYGa2bjKY/V7YEM4lRnj8QJXy1R/iwP3sEuzuB4oQ/ehNaVgWZbT8AAAAAAADwPyAm9X0Z76I/7NdlkSgJmL8jWM6tkh+SvwCBAQVeR6M/fKK4NtiDpr/cUjmEmc2ZPyAm9X0Z76I/AAAAAAAA8D9bWtTurr93v3bpAwNqUKG/wznIOfqkkr+DZSV32mibPyZYGa2bjKY/7NdlkSgJmL9bWtTurr93vwAAAAAAAPA/aX5QZ6BhkT/E32KBN8mrP4GFXA+Jnpk/V7YEM4lRnj8jWM6tkh+Sv3bpAwNqUKG/aX5QZ6BhkT8AAAAAAADwPwZGsSyHs3i/XYyXR+8ZmD8QJXy1R/iwPwCBAQVeR6M/wznIOfqkkr/E32KBN8mrPwZGsSyHs3i/AAAAAAAA8D8=",
          "dtype": "f8",
          "shape": "7, 7"
         }
        }
       ],
       "layout": {
        "coloraxis": {
         "colorscale": [
          [
           0,
           "#0d0887"
          ],
          [
           0.1111111111111111,
           "#46039f"
          ],
          [
           0.2222222222222222,
           "#7201a8"
          ],
          [
           0.3333333333333333,
           "#9c179e"
          ],
          [
           0.4444444444444444,
           "#bd3786"
          ],
          [
           0.5555555555555556,
           "#d8576b"
          ],
          [
           0.6666666666666666,
           "#ed7953"
          ],
          [
           0.7777777777777778,
           "#fb9f3a"
          ],
          [
           0.8888888888888888,
           "#fdca26"
          ],
          [
           1,
           "#f0f921"
          ]
         ]
        },
        "template": {
         "data": {
          "bar": [
           {
            "error_x": {
             "color": "#2a3f5f"
            },
            "error_y": {
             "color": "#2a3f5f"
            },
            "marker": {
             "line": {
              "color": "#E5ECF6",
              "width": 0.5
             },
             "pattern": {
              "fillmode": "overlay",
              "size": 10,
              "solidity": 0.2
             }
            },
            "type": "bar"
           }
          ],
          "barpolar": [
           {
            "marker": {
             "line": {
              "color": "#E5ECF6",
              "width": 0.5
             },
             "pattern": {
              "fillmode": "overlay",
              "size": 10,
              "solidity": 0.2
             }
            },
            "type": "barpolar"
           }
          ],
          "carpet": [
           {
            "aaxis": {
             "endlinecolor": "#2a3f5f",
             "gridcolor": "white",
             "linecolor": "white",
             "minorgridcolor": "white",
             "startlinecolor": "#2a3f5f"
            },
            "baxis": {
             "endlinecolor": "#2a3f5f",
             "gridcolor": "white",
             "linecolor": "white",
             "minorgridcolor": "white",
             "startlinecolor": "#2a3f5f"
            },
            "type": "carpet"
           }
          ],
          "choropleth": [
           {
            "colorbar": {
             "outlinewidth": 0,
             "ticks": ""
            },
            "type": "choropleth"
           }
          ],
          "contour": [
           {
            "colorbar": {
             "outlinewidth": 0,
             "ticks": ""
            },
            "colorscale": [
             [
              0,
              "#0d0887"
             ],
             [
              0.1111111111111111,
              "#46039f"
             ],
             [
              0.2222222222222222,
              "#7201a8"
             ],
             [
              0.3333333333333333,
              "#9c179e"
             ],
             [
              0.4444444444444444,
              "#bd3786"
             ],
             [
              0.5555555555555556,
              "#d8576b"
             ],
             [
              0.6666666666666666,
              "#ed7953"
             ],
             [
              0.7777777777777778,
              "#fb9f3a"
             ],
             [
              0.8888888888888888,
              "#fdca26"
             ],
             [
              1,
              "#f0f921"
             ]
            ],
            "type": "contour"
           }
          ],
          "contourcarpet": [
           {
            "colorbar": {
             "outlinewidth": 0,
             "ticks": ""
            },
            "type": "contourcarpet"
           }
          ],
          "heatmap": [
           {
            "colorbar": {
             "outlinewidth": 0,
             "ticks": ""
            },
            "colorscale": [
             [
              0,
              "#0d0887"
             ],
             [
              0.1111111111111111,
              "#46039f"
             ],
             [
              0.2222222222222222,
              "#7201a8"
             ],
             [
              0.3333333333333333,
              "#9c179e"
             ],
             [
              0.4444444444444444,
              "#bd3786"
             ],
             [
              0.5555555555555556,
              "#d8576b"
             ],
             [
              0.6666666666666666,
              "#ed7953"
             ],
             [
              0.7777777777777778,
              "#fb9f3a"
             ],
             [
              0.8888888888888888,
              "#fdca26"
             ],
             [
              1,
              "#f0f921"
             ]
            ],
            "type": "heatmap"
           }
          ],
          "histogram": [
           {
            "marker": {
             "pattern": {
              "fillmode": "overlay",
              "size": 10,
              "solidity": 0.2
             }
            },
            "type": "histogram"
           }
          ],
          "histogram2d": [
           {
            "colorbar": {
             "outlinewidth": 0,
             "ticks": ""
            },
            "colorscale": [
             [
              0,
              "#0d0887"
             ],
             [
              0.1111111111111111,
              "#46039f"
             ],
             [
              0.2222222222222222,
              "#7201a8"
             ],
             [
              0.3333333333333333,
              "#9c179e"
             ],
             [
              0.4444444444444444,
              "#bd3786"
             ],
             [
              0.5555555555555556,
              "#d8576b"
             ],
             [
              0.6666666666666666,
              "#ed7953"
             ],
             [
              0.7777777777777778,
              "#fb9f3a"
             ],
             [
              0.8888888888888888,
              "#fdca26"
             ],
             [
              1,
              "#f0f921"
             ]
            ],
            "type": "histogram2d"
           }
          ],
          "histogram2dcontour": [
           {
            "colorbar": {
             "outlinewidth": 0,
             "ticks": ""
            },
            "colorscale": [
             [
              0,
              "#0d0887"
             ],
             [
              0.1111111111111111,
              "#46039f"
             ],
             [
              0.2222222222222222,
              "#7201a8"
             ],
             [
              0.3333333333333333,
              "#9c179e"
             ],
             [
              0.4444444444444444,
              "#bd3786"
             ],
             [
              0.5555555555555556,
              "#d8576b"
             ],
             [
              0.6666666666666666,
              "#ed7953"
             ],
             [
              0.7777777777777778,
              "#fb9f3a"
             ],
             [
              0.8888888888888888,
              "#fdca26"
             ],
             [
              1,
              "#f0f921"
             ]
            ],
            "type": "histogram2dcontour"
           }
          ],
          "mesh3d": [
           {
            "colorbar": {
             "outlinewidth": 0,
             "ticks": ""
            },
            "type": "mesh3d"
           }
          ],
          "parcoords": [
           {
            "line": {
             "colorbar": {
              "outlinewidth": 0,
              "ticks": ""
             }
            },
            "type": "parcoords"
           }
          ],
          "pie": [
           {
            "automargin": true,
            "type": "pie"
           }
          ],
          "scatter": [
           {
            "fillpattern": {
             "fillmode": "overlay",
             "size": 10,
             "solidity": 0.2
            },
            "type": "scatter"
           }
          ],
          "scatter3d": [
           {
            "line": {
             "colorbar": {
              "outlinewidth": 0,
              "ticks": ""
             }
            },
            "marker": {
             "colorbar": {
              "outlinewidth": 0,
              "ticks": ""
             }
            },
            "type": "scatter3d"
           }
          ],
          "scattercarpet": [
           {
            "marker": {
             "colorbar": {
              "outlinewidth": 0,
              "ticks": ""
             }
            },
            "type": "scattercarpet"
           }
          ],
          "scattergeo": [
           {
            "marker": {
             "colorbar": {
              "outlinewidth": 0,
              "ticks": ""
             }
            },
            "type": "scattergeo"
           }
          ],
          "scattergl": [
           {
            "marker": {
             "colorbar": {
              "outlinewidth": 0,
              "ticks": ""
             }
            },
            "type": "scattergl"
           }
          ],
          "scattermap": [
           {
            "marker": {
             "colorbar": {
              "outlinewidth": 0,
              "ticks": ""
             }
            },
            "type": "scattermap"
           }
          ],
          "scattermapbox": [
           {
            "marker": {
             "colorbar": {
              "outlinewidth": 0,
              "ticks": ""
             }
            },
            "type": "scattermapbox"
           }
          ],
          "scatterpolar": [
           {
            "marker": {
             "colorbar": {
              "outlinewidth": 0,
              "ticks": ""
             }
            },
            "type": "scatterpolar"
           }
          ],
          "scatterpolargl": [
           {
            "marker": {
             "colorbar": {
              "outlinewidth": 0,
              "ticks": ""
             }
            },
            "type": "scatterpolargl"
           }
          ],
          "scatterternary": [
           {
            "marker": {
             "colorbar": {
              "outlinewidth": 0,
              "ticks": ""
             }
            },
            "type": "scatterternary"
           }
          ],
          "surface": [
           {
            "colorbar": {
             "outlinewidth": 0,
             "ticks": ""
            },
            "colorscale": [
             [
              0,
              "#0d0887"
             ],
             [
              0.1111111111111111,
              "#46039f"
             ],
             [
              0.2222222222222222,
              "#7201a8"
             ],
             [
              0.3333333333333333,
              "#9c179e"
             ],
             [
              0.4444444444444444,
              "#bd3786"
             ],
             [
              0.5555555555555556,
              "#d8576b"
             ],
             [
              0.6666666666666666,
              "#ed7953"
             ],
             [
              0.7777777777777778,
              "#fb9f3a"
             ],
             [
              0.8888888888888888,
              "#fdca26"
             ],
             [
              1,
              "#f0f921"
             ]
            ],
            "type": "surface"
           }
          ],
          "table": [
           {
            "cells": {
             "fill": {
              "color": "#EBF0F8"
             },
             "line": {
              "color": "white"
             }
            },
            "header": {
             "fill": {
              "color": "#C8D4E3"
             },
             "line": {
              "color": "white"
             }
            },
            "type": "table"
           }
          ]
         },
         "layout": {
          "annotationdefaults": {
           "arrowcolor": "#2a3f5f",
           "arrowhead": 0,
           "arrowwidth": 1
          },
          "autotypenumbers": "strict",
          "coloraxis": {
           "colorbar": {
            "outlinewidth": 0,
            "ticks": ""
           }
          },
          "colorscale": {
           "diverging": [
            [
             0,
             "#8e0152"
            ],
            [
             0.1,
             "#c51b7d"
            ],
            [
             0.2,
             "#de77ae"
            ],
            [
             0.3,
             "#f1b6da"
            ],
            [
             0.4,
             "#fde0ef"
            ],
            [
             0.5,
             "#f7f7f7"
            ],
            [
             0.6,
             "#e6f5d0"
            ],
            [
             0.7,
             "#b8e186"
            ],
            [
             0.8,
             "#7fbc41"
            ],
            [
             0.9,
             "#4d9221"
            ],
            [
             1,
             "#276419"
            ]
           ],
           "sequential": [
            [
             0,
             "#0d0887"
            ],
            [
             0.1111111111111111,
             "#46039f"
            ],
            [
             0.2222222222222222,
             "#7201a8"
            ],
            [
             0.3333333333333333,
             "#9c179e"
            ],
            [
             0.4444444444444444,
             "#bd3786"
            ],
            [
             0.5555555555555556,
             "#d8576b"
            ],
            [
             0.6666666666666666,
             "#ed7953"
            ],
            [
             0.7777777777777778,
             "#fb9f3a"
            ],
            [
             0.8888888888888888,
             "#fdca26"
            ],
            [
             1,
             "#f0f921"
            ]
           ],
           "sequentialminus": [
            [
             0,
             "#0d0887"
            ],
            [
             0.1111111111111111,
             "#46039f"
            ],
            [
             0.2222222222222222,
             "#7201a8"
            ],
            [
             0.3333333333333333,
             "#9c179e"
            ],
            [
             0.4444444444444444,
             "#bd3786"
            ],
            [
             0.5555555555555556,
             "#d8576b"
            ],
            [
             0.6666666666666666,
             "#ed7953"
            ],
            [
             0.7777777777777778,
             "#fb9f3a"
            ],
            [
             0.8888888888888888,
             "#fdca26"
            ],
            [
             1,
             "#f0f921"
            ]
           ]
          },
          "colorway": [
           "#636efa",
           "#EF553B",
           "#00cc96",
           "#ab63fa",
           "#FFA15A",
           "#19d3f3",
           "#FF6692",
           "#B6E880",
           "#FF97FF",
           "#FECB52"
          ],
          "font": {
           "color": "#2a3f5f"
          },
          "geo": {
           "bgcolor": "white",
           "lakecolor": "white",
           "landcolor": "#E5ECF6",
           "showlakes": true,
           "showland": true,
           "subunitcolor": "white"
          },
          "hoverlabel": {
           "align": "left"
          },
          "hovermode": "closest",
          "mapbox": {
           "style": "light"
          },
          "paper_bgcolor": "white",
          "plot_bgcolor": "#E5ECF6",
          "polar": {
           "angularaxis": {
            "gridcolor": "white",
            "linecolor": "white",
            "ticks": ""
           },
           "bgcolor": "#E5ECF6",
           "radialaxis": {
            "gridcolor": "white",
            "linecolor": "white",
            "ticks": ""
           }
          },
          "scene": {
           "xaxis": {
            "backgroundcolor": "#E5ECF6",
            "gridcolor": "white",
            "gridwidth": 2,
            "linecolor": "white",
            "showbackground": true,
            "ticks": "",
            "zerolinecolor": "white"
           },
           "yaxis": {
            "backgroundcolor": "#E5ECF6",
            "gridcolor": "white",
            "gridwidth": 2,
            "linecolor": "white",
            "showbackground": true,
            "ticks": "",
            "zerolinecolor": "white"
           },
           "zaxis": {
            "backgroundcolor": "#E5ECF6",
            "gridcolor": "white",
            "gridwidth": 2,
            "linecolor": "white",
            "showbackground": true,
            "ticks": "",
            "zerolinecolor": "white"
           }
          },
          "shapedefaults": {
           "line": {
            "color": "#2a3f5f"
           }
          },
          "ternary": {
           "aaxis": {
            "gridcolor": "white",
            "linecolor": "white",
            "ticks": ""
           },
           "baxis": {
            "gridcolor": "white",
            "linecolor": "white",
            "ticks": ""
           },
           "bgcolor": "#E5ECF6",
           "caxis": {
            "gridcolor": "white",
            "linecolor": "white",
            "ticks": ""
           }
          },
          "title": {
           "x": 0.05
          },
          "xaxis": {
           "automargin": true,
           "gridcolor": "white",
           "linecolor": "white",
           "ticks": "",
           "title": {
            "standoff": 15
           },
           "zerolinecolor": "white",
           "zerolinewidth": 2
          },
          "yaxis": {
           "automargin": true,
           "gridcolor": "white",
           "linecolor": "white",
           "ticks": "",
           "title": {
            "standoff": 15
           },
           "zerolinecolor": "white",
           "zerolinewidth": 2
          }
         }
        },
        "title": {
         "text": "Correlation Heatmap"
        },
        "xaxis": {
         "anchor": "y",
         "constrain": "domain",
         "domain": [
          0,
          1
         ],
         "scaleanchor": "y"
        },
        "yaxis": {
         "anchor": "x",
         "autorange": "reversed",
         "constrain": "domain",
         "domain": [
          0,
          1
         ]
        }
       }
      }
     },
     "metadata": {},
     "output_type": "display_data"
    }
   ],
   "source": [
    "# Correlation Heatmap\n",
    "\n",
    "numerical_data = data.select_dtypes(include=['number'])\n",
    "\n",
    "correlation_matrix = numerical_data.corr()\n",
    "fig_corr_heatmap = px.imshow(correlation_matrix,\n",
    "                             title='Correlation Heatmap')\n",
    "fig_corr_heatmap.show()"
   ]
  },
  {
   "cell_type": "markdown",
   "metadata": {},
   "source": [
    "Visualize Anomalies in Data : "
   ]
  },
  {
   "cell_type": "code",
   "execution_count": 15,
   "metadata": {},
   "outputs": [
    {
     "data": {
      "application/vnd.plotly.v1+json": {
       "config": {
        "plotlyServerURL": "https://plot.ly"
       },
       "data": [
        {
         "hovertemplate": "Is_Anomaly=False<br>Transaction_Amount=%{x}<br>Average_Transaction_Amount=%{y}<extra></extra>",
         "legendgroup": "False",
         "marker": {
          "color": "#636efa",
          "symbol": "circle"
         },
         "mode": "markers",
         "name": "False",
         "orientation": "v",
         "showlegend": true,
         "type": "scatter",
         "x": {
          "bdata": "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",
          "dtype": "f8"
         },
         "xaxis": "x",
         "y": {
          "bdata": "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",
          "dtype": "f8"
         },
         "yaxis": "y"
        },
        {
         "hovertemplate": "Is_Anomaly=True<br>Transaction_Amount=%{x}<br>Average_Transaction_Amount=%{y}<extra></extra>",
         "legendgroup": "True",
         "marker": {
          "color": "#EF553B",
          "symbol": "circle"
         },
         "mode": "markers",
         "name": "True",
         "orientation": "v",
         "showlegend": true,
         "type": "scatter",
         "x": {
          "bdata": "tRt9zMejpUD83xEVMuSlQIUIOISiLahAl5APekaBpUA90uC2/oCnQG5oyk735KdApUxqaOslqUDNyYtMiAGnQHibN04CaKdASguXVYC8qECqKjQQ6zapQPaWcr6IOqdAcOzZczEzpUBQb0bNx6+mQLVwWYXNgqdAHv0v10otqEDJBPwa2UioQOS8/4/LTadAKLUX0e4jpkBpUZ/kniaoQA==",
          "dtype": "f8"
         },
         "xaxis": "x",
         "y": {
          "bdata": "fVuwVBd6j0DKA+z+zBuPQIblz7dlo45AbXTOT1Hnj0CH3Aw3wJSPQAihzbtrxI5AaD18mcgsjkBojeZtcfaOQKE9qNXh4Y5Ac4I2OXyfj0CzQ/zDVqCPQF/ldWm4ZY5AVDvD1HYJkECg+Zy7ncSQQB7/BYJgTo9AH3S/+aPajkBMGw5L41GPQBBu1/AJY45A6gQ0EQY9kEC7e4Du2+aOQA==",
          "dtype": "f8"
         },
         "yaxis": "y"
        }
       ],
       "layout": {
        "legend": {
         "title": {
          "text": "Is_Anomaly"
         },
         "tracegroupgap": 0
        },
        "template": {
         "data": {
          "bar": [
           {
            "error_x": {
             "color": "#2a3f5f"
            },
            "error_y": {
             "color": "#2a3f5f"
            },
            "marker": {
             "line": {
              "color": "#E5ECF6",
              "width": 0.5
             },
             "pattern": {
              "fillmode": "overlay",
              "size": 10,
              "solidity": 0.2
             }
            },
            "type": "bar"
           }
          ],
          "barpolar": [
           {
            "marker": {
             "line": {
              "color": "#E5ECF6",
              "width": 0.5
             },
             "pattern": {
              "fillmode": "overlay",
              "size": 10,
              "solidity": 0.2
             }
            },
            "type": "barpolar"
           }
          ],
          "carpet": [
           {
            "aaxis": {
             "endlinecolor": "#2a3f5f",
             "gridcolor": "white",
             "linecolor": "white",
             "minorgridcolor": "white",
             "startlinecolor": "#2a3f5f"
            },
            "baxis": {
             "endlinecolor": "#2a3f5f",
             "gridcolor": "white",
             "linecolor": "white",
             "minorgridcolor": "white",
             "startlinecolor": "#2a3f5f"
            },
            "type": "carpet"
           }
          ],
          "choropleth": [
           {
            "colorbar": {
             "outlinewidth": 0,
             "ticks": ""
            },
            "type": "choropleth"
           }
          ],
          "contour": [
           {
            "colorbar": {
             "outlinewidth": 0,
             "ticks": ""
            },
            "colorscale": [
             [
              0,
              "#0d0887"
             ],
             [
              0.1111111111111111,
              "#46039f"
             ],
             [
              0.2222222222222222,
              "#7201a8"
             ],
             [
              0.3333333333333333,
              "#9c179e"
             ],
             [
              0.4444444444444444,
              "#bd3786"
             ],
             [
              0.5555555555555556,
              "#d8576b"
             ],
             [
              0.6666666666666666,
              "#ed7953"
             ],
             [
              0.7777777777777778,
              "#fb9f3a"
             ],
             [
              0.8888888888888888,
              "#fdca26"
             ],
             [
              1,
              "#f0f921"
             ]
            ],
            "type": "contour"
           }
          ],
          "contourcarpet": [
           {
            "colorbar": {
             "outlinewidth": 0,
             "ticks": ""
            },
            "type": "contourcarpet"
           }
          ],
          "heatmap": [
           {
            "colorbar": {
             "outlinewidth": 0,
             "ticks": ""
            },
            "colorscale": [
             [
              0,
              "#0d0887"
             ],
             [
              0.1111111111111111,
              "#46039f"
             ],
             [
              0.2222222222222222,
              "#7201a8"
             ],
             [
              0.3333333333333333,
              "#9c179e"
             ],
             [
              0.4444444444444444,
              "#bd3786"
             ],
             [
              0.5555555555555556,
              "#d8576b"
             ],
             [
              0.6666666666666666,
              "#ed7953"
             ],
             [
              0.7777777777777778,
              "#fb9f3a"
             ],
             [
              0.8888888888888888,
              "#fdca26"
             ],
             [
              1,
              "#f0f921"
             ]
            ],
            "type": "heatmap"
           }
          ],
          "histogram": [
           {
            "marker": {
             "pattern": {
              "fillmode": "overlay",
              "size": 10,
              "solidity": 0.2
             }
            },
            "type": "histogram"
           }
          ],
          "histogram2d": [
           {
            "colorbar": {
             "outlinewidth": 0,
             "ticks": ""
            },
            "colorscale": [
             [
              0,
              "#0d0887"
             ],
             [
              0.1111111111111111,
              "#46039f"
             ],
             [
              0.2222222222222222,
              "#7201a8"
             ],
             [
              0.3333333333333333,
              "#9c179e"
             ],
             [
              0.4444444444444444,
              "#bd3786"
             ],
             [
              0.5555555555555556,
              "#d8576b"
             ],
             [
              0.6666666666666666,
              "#ed7953"
             ],
             [
              0.7777777777777778,
              "#fb9f3a"
             ],
             [
              0.8888888888888888,
              "#fdca26"
             ],
             [
              1,
              "#f0f921"
             ]
            ],
            "type": "histogram2d"
           }
          ],
          "histogram2dcontour": [
           {
            "colorbar": {
             "outlinewidth": 0,
             "ticks": ""
            },
            "colorscale": [
             [
              0,
              "#0d0887"
             ],
             [
              0.1111111111111111,
              "#46039f"
             ],
             [
              0.2222222222222222,
              "#7201a8"
             ],
             [
              0.3333333333333333,
              "#9c179e"
             ],
             [
              0.4444444444444444,
              "#bd3786"
             ],
             [
              0.5555555555555556,
              "#d8576b"
             ],
             [
              0.6666666666666666,
              "#ed7953"
             ],
             [
              0.7777777777777778,
              "#fb9f3a"
             ],
             [
              0.8888888888888888,
              "#fdca26"
             ],
             [
              1,
              "#f0f921"
             ]
            ],
            "type": "histogram2dcontour"
           }
          ],
          "mesh3d": [
           {
            "colorbar": {
             "outlinewidth": 0,
             "ticks": ""
            },
            "type": "mesh3d"
           }
          ],
          "parcoords": [
           {
            "line": {
             "colorbar": {
              "outlinewidth": 0,
              "ticks": ""
             }
            },
            "type": "parcoords"
           }
          ],
          "pie": [
           {
            "automargin": true,
            "type": "pie"
           }
          ],
          "scatter": [
           {
            "fillpattern": {
             "fillmode": "overlay",
             "size": 10,
             "solidity": 0.2
            },
            "type": "scatter"
           }
          ],
          "scatter3d": [
           {
            "line": {
             "colorbar": {
              "outlinewidth": 0,
              "ticks": ""
             }
            },
            "marker": {
             "colorbar": {
              "outlinewidth": 0,
              "ticks": ""
             }
            },
            "type": "scatter3d"
           }
          ],
          "scattercarpet": [
           {
            "marker": {
             "colorbar": {
              "outlinewidth": 0,
              "ticks": ""
             }
            },
            "type": "scattercarpet"
           }
          ],
          "scattergeo": [
           {
            "marker": {
             "colorbar": {
              "outlinewidth": 0,
              "ticks": ""
             }
            },
            "type": "scattergeo"
           }
          ],
          "scattergl": [
           {
            "marker": {
             "colorbar": {
              "outlinewidth": 0,
              "ticks": ""
             }
            },
            "type": "scattergl"
           }
          ],
          "scattermap": [
           {
            "marker": {
             "colorbar": {
              "outlinewidth": 0,
              "ticks": ""
             }
            },
            "type": "scattermap"
           }
          ],
          "scattermapbox": [
           {
            "marker": {
             "colorbar": {
              "outlinewidth": 0,
              "ticks": ""
             }
            },
            "type": "scattermapbox"
           }
          ],
          "scatterpolar": [
           {
            "marker": {
             "colorbar": {
              "outlinewidth": 0,
              "ticks": ""
             }
            },
            "type": "scatterpolar"
           }
          ],
          "scatterpolargl": [
           {
            "marker": {
             "colorbar": {
              "outlinewidth": 0,
              "ticks": ""
             }
            },
            "type": "scatterpolargl"
           }
          ],
          "scatterternary": [
           {
            "marker": {
             "colorbar": {
              "outlinewidth": 0,
              "ticks": ""
             }
            },
            "type": "scatterternary"
           }
          ],
          "surface": [
           {
            "colorbar": {
             "outlinewidth": 0,
             "ticks": ""
            },
            "colorscale": [
             [
              0,
              "#0d0887"
             ],
             [
              0.1111111111111111,
              "#46039f"
             ],
             [
              0.2222222222222222,
              "#7201a8"
             ],
             [
              0.3333333333333333,
              "#9c179e"
             ],
             [
              0.4444444444444444,
              "#bd3786"
             ],
             [
              0.5555555555555556,
              "#d8576b"
             ],
             [
              0.6666666666666666,
              "#ed7953"
             ],
             [
              0.7777777777777778,
              "#fb9f3a"
             ],
             [
              0.8888888888888888,
              "#fdca26"
             ],
             [
              1,
              "#f0f921"
             ]
            ],
            "type": "surface"
           }
          ],
          "table": [
           {
            "cells": {
             "fill": {
              "color": "#EBF0F8"
             },
             "line": {
              "color": "white"
             }
            },
            "header": {
             "fill": {
              "color": "#C8D4E3"
             },
             "line": {
              "color": "white"
             }
            },
            "type": "table"
           }
          ]
         },
         "layout": {
          "annotationdefaults": {
           "arrowcolor": "#2a3f5f",
           "arrowhead": 0,
           "arrowwidth": 1
          },
          "autotypenumbers": "strict",
          "coloraxis": {
           "colorbar": {
            "outlinewidth": 0,
            "ticks": ""
           }
          },
          "colorscale": {
           "diverging": [
            [
             0,
             "#8e0152"
            ],
            [
             0.1,
             "#c51b7d"
            ],
            [
             0.2,
             "#de77ae"
            ],
            [
             0.3,
             "#f1b6da"
            ],
            [
             0.4,
             "#fde0ef"
            ],
            [
             0.5,
             "#f7f7f7"
            ],
            [
             0.6,
             "#e6f5d0"
            ],
            [
             0.7,
             "#b8e186"
            ],
            [
             0.8,
             "#7fbc41"
            ],
            [
             0.9,
             "#4d9221"
            ],
            [
             1,
             "#276419"
            ]
           ],
           "sequential": [
            [
             0,
             "#0d0887"
            ],
            [
             0.1111111111111111,
             "#46039f"
            ],
            [
             0.2222222222222222,
             "#7201a8"
            ],
            [
             0.3333333333333333,
             "#9c179e"
            ],
            [
             0.4444444444444444,
             "#bd3786"
            ],
            [
             0.5555555555555556,
             "#d8576b"
            ],
            [
             0.6666666666666666,
             "#ed7953"
            ],
            [
             0.7777777777777778,
             "#fb9f3a"
            ],
            [
             0.8888888888888888,
             "#fdca26"
            ],
            [
             1,
             "#f0f921"
            ]
           ],
           "sequentialminus": [
            [
             0,
             "#0d0887"
            ],
            [
             0.1111111111111111,
             "#46039f"
            ],
            [
             0.2222222222222222,
             "#7201a8"
            ],
            [
             0.3333333333333333,
             "#9c179e"
            ],
            [
             0.4444444444444444,
             "#bd3786"
            ],
            [
             0.5555555555555556,
             "#d8576b"
            ],
            [
             0.6666666666666666,
             "#ed7953"
            ],
            [
             0.7777777777777778,
             "#fb9f3a"
            ],
            [
             0.8888888888888888,
             "#fdca26"
            ],
            [
             1,
             "#f0f921"
            ]
           ]
          },
          "colorway": [
           "#636efa",
           "#EF553B",
           "#00cc96",
           "#ab63fa",
           "#FFA15A",
           "#19d3f3",
           "#FF6692",
           "#B6E880",
           "#FF97FF",
           "#FECB52"
          ],
          "font": {
           "color": "#2a3f5f"
          },
          "geo": {
           "bgcolor": "white",
           "lakecolor": "white",
           "landcolor": "#E5ECF6",
           "showlakes": true,
           "showland": true,
           "subunitcolor": "white"
          },
          "hoverlabel": {
           "align": "left"
          },
          "hovermode": "closest",
          "mapbox": {
           "style": "light"
          },
          "paper_bgcolor": "white",
          "plot_bgcolor": "#E5ECF6",
          "polar": {
           "angularaxis": {
            "gridcolor": "white",
            "linecolor": "white",
            "ticks": ""
           },
           "bgcolor": "#E5ECF6",
           "radialaxis": {
            "gridcolor": "white",
            "linecolor": "white",
            "ticks": ""
           }
          },
          "scene": {
           "xaxis": {
            "backgroundcolor": "#E5ECF6",
            "gridcolor": "white",
            "gridwidth": 2,
            "linecolor": "white",
            "showbackground": true,
            "ticks": "",
            "zerolinecolor": "white"
           },
           "yaxis": {
            "backgroundcolor": "#E5ECF6",
            "gridcolor": "white",
            "gridwidth": 2,
            "linecolor": "white",
            "showbackground": true,
            "ticks": "",
            "zerolinecolor": "white"
           },
           "zaxis": {
            "backgroundcolor": "#E5ECF6",
            "gridcolor": "white",
            "gridwidth": 2,
            "linecolor": "white",
            "showbackground": true,
            "ticks": "",
            "zerolinecolor": "white"
           }
          },
          "shapedefaults": {
           "line": {
            "color": "#2a3f5f"
           }
          },
          "ternary": {
           "aaxis": {
            "gridcolor": "white",
            "linecolor": "white",
            "ticks": ""
           },
           "baxis": {
            "gridcolor": "white",
            "linecolor": "white",
            "ticks": ""
           },
           "bgcolor": "#E5ECF6",
           "caxis": {
            "gridcolor": "white",
            "linecolor": "white",
            "ticks": ""
           }
          },
          "title": {
           "x": 0.05
          },
          "xaxis": {
           "automargin": true,
           "gridcolor": "white",
           "linecolor": "white",
           "ticks": "",
           "title": {
            "standoff": 15
           },
           "zerolinecolor": "white",
           "zerolinewidth": 2
          },
          "yaxis": {
           "automargin": true,
           "gridcolor": "white",
           "linecolor": "white",
           "ticks": "",
           "title": {
            "standoff": 15
           },
           "zerolinecolor": "white",
           "zerolinewidth": 2
          }
         }
        },
        "title": {
         "text": "Anomalies in Transaction Amount"
        },
        "xaxis": {
         "anchor": "y",
         "domain": [
          0,
          1
         ],
         "title": {
          "text": "Transaction_Amount"
         }
        },
        "yaxis": {
         "anchor": "x",
         "domain": [
          0,
          1
         ],
         "title": {
          "text": "Average_Transaction_Amount"
         }
        }
       }
      }
     },
     "metadata": {},
     "output_type": "display_data"
    }
   ],
   "source": [
    "# Calculate mean and standard deviation of Transaction Amount\n",
    "mean_amount = data['Transaction_Amount'].mean()\n",
    "std_amount = data['Transaction_Amount'].std()\n",
    "\n",
    "# Define the anomaly threshold (2 standard deviations from the mean)\n",
    "anomaly_threshold = mean_amount + 2 * std_amount\n",
    "\n",
    "# Flag anomalies\n",
    "data['Is_Anomaly'] = data['Transaction_Amount'] > anomaly_threshold\n",
    "\n",
    "# Scatter plot of Transaction Amount with anomalies highlighted\n",
    "fig_anomalies = px.scatter(data, x='Transaction_Amount', y='Average_Transaction_Amount',\n",
    "                           color='Is_Anomaly', title='Anomalies in Transaction Amount')\n",
    "fig_anomalies.update_traces(marker=dict(size=12), \n",
    "                            selector=dict(mode='markers', marker_size=1))\n",
    "fig_anomalies.show()"
   ]
  },
  {
   "cell_type": "markdown",
   "metadata": {},
   "source": [
    "Now let’s calculate the number of anomalies in the data to find the ratio of anomalies in the data, which will be useful while using anomaly detection algorithms like isolation forest:"
   ]
  },
  {
   "cell_type": "code",
   "execution_count": 16,
   "metadata": {},
   "outputs": [
    {
     "name": "stdout",
     "output_type": "stream",
     "text": [
      "0.02\n"
     ]
    }
   ],
   "source": [
    "# Calculate the number of anomalies\n",
    "num_anomalies = data['Is_Anomaly'].sum()\n",
    "\n",
    "# Calculate the total number of instances in the dataset\n",
    "total_instances = data.shape[0]\n",
    "\n",
    "# Calculate the ratio of anomalies\n",
    "anomaly_ratio = num_anomalies / total_instances\n",
    "print(anomaly_ratio)"
   ]
  },
  {
   "cell_type": "markdown",
   "metadata": {},
   "source": [
    "Machine Learning Model :"
   ]
  },
  {
   "cell_type": "code",
   "execution_count": 18,
   "metadata": {},
   "outputs": [
    {
     "data": {
      "text/html": [
       "<style>#sk-container-id-1 {\n",
       "  /* Definition of color scheme common for light and dark mode */\n",
       "  --sklearn-color-text: #000;\n",
       "  --sklearn-color-text-muted: #666;\n",
       "  --sklearn-color-line: gray;\n",
       "  /* Definition of color scheme for unfitted estimators */\n",
       "  --sklearn-color-unfitted-level-0: #fff5e6;\n",
       "  --sklearn-color-unfitted-level-1: #f6e4d2;\n",
       "  --sklearn-color-unfitted-level-2: #ffe0b3;\n",
       "  --sklearn-color-unfitted-level-3: chocolate;\n",
       "  /* Definition of color scheme for fitted estimators */\n",
       "  --sklearn-color-fitted-level-0: #f0f8ff;\n",
       "  --sklearn-color-fitted-level-1: #d4ebff;\n",
       "  --sklearn-color-fitted-level-2: #b3dbfd;\n",
       "  --sklearn-color-fitted-level-3: cornflowerblue;\n",
       "\n",
       "  /* Specific color for light theme */\n",
       "  --sklearn-color-text-on-default-background: var(--sg-text-color, var(--theme-code-foreground, var(--jp-content-font-color1, black)));\n",
       "  --sklearn-color-background: var(--sg-background-color, var(--theme-background, var(--jp-layout-color0, white)));\n",
       "  --sklearn-color-border-box: var(--sg-text-color, var(--theme-code-foreground, var(--jp-content-font-color1, black)));\n",
       "  --sklearn-color-icon: #696969;\n",
       "\n",
       "  @media (prefers-color-scheme: dark) {\n",
       "    /* Redefinition of color scheme for dark theme */\n",
       "    --sklearn-color-text-on-default-background: var(--sg-text-color, var(--theme-code-foreground, var(--jp-content-font-color1, white)));\n",
       "    --sklearn-color-background: var(--sg-background-color, var(--theme-background, var(--jp-layout-color0, #111)));\n",
       "    --sklearn-color-border-box: var(--sg-text-color, var(--theme-code-foreground, var(--jp-content-font-color1, white)));\n",
       "    --sklearn-color-icon: #878787;\n",
       "  }\n",
       "}\n",
       "\n",
       "#sk-container-id-1 {\n",
       "  color: var(--sklearn-color-text);\n",
       "}\n",
       "\n",
       "#sk-container-id-1 pre {\n",
       "  padding: 0;\n",
       "}\n",
       "\n",
       "#sk-container-id-1 input.sk-hidden--visually {\n",
       "  border: 0;\n",
       "  clip: rect(1px 1px 1px 1px);\n",
       "  clip: rect(1px, 1px, 1px, 1px);\n",
       "  height: 1px;\n",
       "  margin: -1px;\n",
       "  overflow: hidden;\n",
       "  padding: 0;\n",
       "  position: absolute;\n",
       "  width: 1px;\n",
       "}\n",
       "\n",
       "#sk-container-id-1 div.sk-dashed-wrapped {\n",
       "  border: 1px dashed var(--sklearn-color-line);\n",
       "  margin: 0 0.4em 0.5em 0.4em;\n",
       "  box-sizing: border-box;\n",
       "  padding-bottom: 0.4em;\n",
       "  background-color: var(--sklearn-color-background);\n",
       "}\n",
       "\n",
       "#sk-container-id-1 div.sk-container {\n",
       "  /* jupyter's `normalize.less` sets `[hidden] { display: none; }`\n",
       "     but bootstrap.min.css set `[hidden] { display: none !important; }`\n",
       "     so we also need the `!important` here to be able to override the\n",
       "     default hidden behavior on the sphinx rendered scikit-learn.org.\n",
       "     See: https://github.com/scikit-learn/scikit-learn/issues/21755 */\n",
       "  display: inline-block !important;\n",
       "  position: relative;\n",
       "}\n",
       "\n",
       "#sk-container-id-1 div.sk-text-repr-fallback {\n",
       "  display: none;\n",
       "}\n",
       "\n",
       "div.sk-parallel-item,\n",
       "div.sk-serial,\n",
       "div.sk-item {\n",
       "  /* draw centered vertical line to link estimators */\n",
       "  background-image: linear-gradient(var(--sklearn-color-text-on-default-background), var(--sklearn-color-text-on-default-background));\n",
       "  background-size: 2px 100%;\n",
       "  background-repeat: no-repeat;\n",
       "  background-position: center center;\n",
       "}\n",
       "\n",
       "/* Parallel-specific style estimator block */\n",
       "\n",
       "#sk-container-id-1 div.sk-parallel-item::after {\n",
       "  content: \"\";\n",
       "  width: 100%;\n",
       "  border-bottom: 2px solid var(--sklearn-color-text-on-default-background);\n",
       "  flex-grow: 1;\n",
       "}\n",
       "\n",
       "#sk-container-id-1 div.sk-parallel {\n",
       "  display: flex;\n",
       "  align-items: stretch;\n",
       "  justify-content: center;\n",
       "  background-color: var(--sklearn-color-background);\n",
       "  position: relative;\n",
       "}\n",
       "\n",
       "#sk-container-id-1 div.sk-parallel-item {\n",
       "  display: flex;\n",
       "  flex-direction: column;\n",
       "}\n",
       "\n",
       "#sk-container-id-1 div.sk-parallel-item:first-child::after {\n",
       "  align-self: flex-end;\n",
       "  width: 50%;\n",
       "}\n",
       "\n",
       "#sk-container-id-1 div.sk-parallel-item:last-child::after {\n",
       "  align-self: flex-start;\n",
       "  width: 50%;\n",
       "}\n",
       "\n",
       "#sk-container-id-1 div.sk-parallel-item:only-child::after {\n",
       "  width: 0;\n",
       "}\n",
       "\n",
       "/* Serial-specific style estimator block */\n",
       "\n",
       "#sk-container-id-1 div.sk-serial {\n",
       "  display: flex;\n",
       "  flex-direction: column;\n",
       "  align-items: center;\n",
       "  background-color: var(--sklearn-color-background);\n",
       "  padding-right: 1em;\n",
       "  padding-left: 1em;\n",
       "}\n",
       "\n",
       "\n",
       "/* Toggleable style: style used for estimator/Pipeline/ColumnTransformer box that is\n",
       "clickable and can be expanded/collapsed.\n",
       "- Pipeline and ColumnTransformer use this feature and define the default style\n",
       "- Estimators will overwrite some part of the style using the `sk-estimator` class\n",
       "*/\n",
       "\n",
       "/* Pipeline and ColumnTransformer style (default) */\n",
       "\n",
       "#sk-container-id-1 div.sk-toggleable {\n",
       "  /* Default theme specific background. It is overwritten whether we have a\n",
       "  specific estimator or a Pipeline/ColumnTransformer */\n",
       "  background-color: var(--sklearn-color-background);\n",
       "}\n",
       "\n",
       "/* Toggleable label */\n",
       "#sk-container-id-1 label.sk-toggleable__label {\n",
       "  cursor: pointer;\n",
       "  display: flex;\n",
       "  width: 100%;\n",
       "  margin-bottom: 0;\n",
       "  padding: 0.5em;\n",
       "  box-sizing: border-box;\n",
       "  text-align: center;\n",
       "  align-items: start;\n",
       "  justify-content: space-between;\n",
       "  gap: 0.5em;\n",
       "}\n",
       "\n",
       "#sk-container-id-1 label.sk-toggleable__label .caption {\n",
       "  font-size: 0.6rem;\n",
       "  font-weight: lighter;\n",
       "  color: var(--sklearn-color-text-muted);\n",
       "}\n",
       "\n",
       "#sk-container-id-1 label.sk-toggleable__label-arrow:before {\n",
       "  /* Arrow on the left of the label */\n",
       "  content: \"▸\";\n",
       "  float: left;\n",
       "  margin-right: 0.25em;\n",
       "  color: var(--sklearn-color-icon);\n",
       "}\n",
       "\n",
       "#sk-container-id-1 label.sk-toggleable__label-arrow:hover:before {\n",
       "  color: var(--sklearn-color-text);\n",
       "}\n",
       "\n",
       "/* Toggleable content - dropdown */\n",
       "\n",
       "#sk-container-id-1 div.sk-toggleable__content {\n",
       "  display: none;\n",
       "  text-align: left;\n",
       "  /* unfitted */\n",
       "  background-color: var(--sklearn-color-unfitted-level-0);\n",
       "}\n",
       "\n",
       "#sk-container-id-1 div.sk-toggleable__content.fitted {\n",
       "  /* fitted */\n",
       "  background-color: var(--sklearn-color-fitted-level-0);\n",
       "}\n",
       "\n",
       "#sk-container-id-1 div.sk-toggleable__content pre {\n",
       "  margin: 0.2em;\n",
       "  border-radius: 0.25em;\n",
       "  color: var(--sklearn-color-text);\n",
       "  /* unfitted */\n",
       "  background-color: var(--sklearn-color-unfitted-level-0);\n",
       "}\n",
       "\n",
       "#sk-container-id-1 div.sk-toggleable__content.fitted pre {\n",
       "  /* unfitted */\n",
       "  background-color: var(--sklearn-color-fitted-level-0);\n",
       "}\n",
       "\n",
       "#sk-container-id-1 input.sk-toggleable__control:checked~div.sk-toggleable__content {\n",
       "  /* Expand drop-down */\n",
       "  display: block;\n",
       "  width: 100%;\n",
       "  overflow: visible;\n",
       "}\n",
       "\n",
       "#sk-container-id-1 input.sk-toggleable__control:checked~label.sk-toggleable__label-arrow:before {\n",
       "  content: \"▾\";\n",
       "}\n",
       "\n",
       "/* Pipeline/ColumnTransformer-specific style */\n",
       "\n",
       "#sk-container-id-1 div.sk-label input.sk-toggleable__control:checked~label.sk-toggleable__label {\n",
       "  color: var(--sklearn-color-text);\n",
       "  background-color: var(--sklearn-color-unfitted-level-2);\n",
       "}\n",
       "\n",
       "#sk-container-id-1 div.sk-label.fitted input.sk-toggleable__control:checked~label.sk-toggleable__label {\n",
       "  background-color: var(--sklearn-color-fitted-level-2);\n",
       "}\n",
       "\n",
       "/* Estimator-specific style */\n",
       "\n",
       "/* Colorize estimator box */\n",
       "#sk-container-id-1 div.sk-estimator input.sk-toggleable__control:checked~label.sk-toggleable__label {\n",
       "  /* unfitted */\n",
       "  background-color: var(--sklearn-color-unfitted-level-2);\n",
       "}\n",
       "\n",
       "#sk-container-id-1 div.sk-estimator.fitted input.sk-toggleable__control:checked~label.sk-toggleable__label {\n",
       "  /* fitted */\n",
       "  background-color: var(--sklearn-color-fitted-level-2);\n",
       "}\n",
       "\n",
       "#sk-container-id-1 div.sk-label label.sk-toggleable__label,\n",
       "#sk-container-id-1 div.sk-label label {\n",
       "  /* The background is the default theme color */\n",
       "  color: var(--sklearn-color-text-on-default-background);\n",
       "}\n",
       "\n",
       "/* On hover, darken the color of the background */\n",
       "#sk-container-id-1 div.sk-label:hover label.sk-toggleable__label {\n",
       "  color: var(--sklearn-color-text);\n",
       "  background-color: var(--sklearn-color-unfitted-level-2);\n",
       "}\n",
       "\n",
       "/* Label box, darken color on hover, fitted */\n",
       "#sk-container-id-1 div.sk-label.fitted:hover label.sk-toggleable__label.fitted {\n",
       "  color: var(--sklearn-color-text);\n",
       "  background-color: var(--sklearn-color-fitted-level-2);\n",
       "}\n",
       "\n",
       "/* Estimator label */\n",
       "\n",
       "#sk-container-id-1 div.sk-label label {\n",
       "  font-family: monospace;\n",
       "  font-weight: bold;\n",
       "  display: inline-block;\n",
       "  line-height: 1.2em;\n",
       "}\n",
       "\n",
       "#sk-container-id-1 div.sk-label-container {\n",
       "  text-align: center;\n",
       "}\n",
       "\n",
       "/* Estimator-specific */\n",
       "#sk-container-id-1 div.sk-estimator {\n",
       "  font-family: monospace;\n",
       "  border: 1px dotted var(--sklearn-color-border-box);\n",
       "  border-radius: 0.25em;\n",
       "  box-sizing: border-box;\n",
       "  margin-bottom: 0.5em;\n",
       "  /* unfitted */\n",
       "  background-color: var(--sklearn-color-unfitted-level-0);\n",
       "}\n",
       "\n",
       "#sk-container-id-1 div.sk-estimator.fitted {\n",
       "  /* fitted */\n",
       "  background-color: var(--sklearn-color-fitted-level-0);\n",
       "}\n",
       "\n",
       "/* on hover */\n",
       "#sk-container-id-1 div.sk-estimator:hover {\n",
       "  /* unfitted */\n",
       "  background-color: var(--sklearn-color-unfitted-level-2);\n",
       "}\n",
       "\n",
       "#sk-container-id-1 div.sk-estimator.fitted:hover {\n",
       "  /* fitted */\n",
       "  background-color: var(--sklearn-color-fitted-level-2);\n",
       "}\n",
       "\n",
       "/* Specification for estimator info (e.g. \"i\" and \"?\") */\n",
       "\n",
       "/* Common style for \"i\" and \"?\" */\n",
       "\n",
       ".sk-estimator-doc-link,\n",
       "a:link.sk-estimator-doc-link,\n",
       "a:visited.sk-estimator-doc-link {\n",
       "  float: right;\n",
       "  font-size: smaller;\n",
       "  line-height: 1em;\n",
       "  font-family: monospace;\n",
       "  background-color: var(--sklearn-color-background);\n",
       "  border-radius: 1em;\n",
       "  height: 1em;\n",
       "  width: 1em;\n",
       "  text-decoration: none !important;\n",
       "  margin-left: 0.5em;\n",
       "  text-align: center;\n",
       "  /* unfitted */\n",
       "  border: var(--sklearn-color-unfitted-level-1) 1pt solid;\n",
       "  color: var(--sklearn-color-unfitted-level-1);\n",
       "}\n",
       "\n",
       ".sk-estimator-doc-link.fitted,\n",
       "a:link.sk-estimator-doc-link.fitted,\n",
       "a:visited.sk-estimator-doc-link.fitted {\n",
       "  /* fitted */\n",
       "  border: var(--sklearn-color-fitted-level-1) 1pt solid;\n",
       "  color: var(--sklearn-color-fitted-level-1);\n",
       "}\n",
       "\n",
       "/* On hover */\n",
       "div.sk-estimator:hover .sk-estimator-doc-link:hover,\n",
       ".sk-estimator-doc-link:hover,\n",
       "div.sk-label-container:hover .sk-estimator-doc-link:hover,\n",
       ".sk-estimator-doc-link:hover {\n",
       "  /* unfitted */\n",
       "  background-color: var(--sklearn-color-unfitted-level-3);\n",
       "  color: var(--sklearn-color-background);\n",
       "  text-decoration: none;\n",
       "}\n",
       "\n",
       "div.sk-estimator.fitted:hover .sk-estimator-doc-link.fitted:hover,\n",
       ".sk-estimator-doc-link.fitted:hover,\n",
       "div.sk-label-container:hover .sk-estimator-doc-link.fitted:hover,\n",
       ".sk-estimator-doc-link.fitted:hover {\n",
       "  /* fitted */\n",
       "  background-color: var(--sklearn-color-fitted-level-3);\n",
       "  color: var(--sklearn-color-background);\n",
       "  text-decoration: none;\n",
       "}\n",
       "\n",
       "/* Span, style for the box shown on hovering the info icon */\n",
       ".sk-estimator-doc-link span {\n",
       "  display: none;\n",
       "  z-index: 9999;\n",
       "  position: relative;\n",
       "  font-weight: normal;\n",
       "  right: .2ex;\n",
       "  padding: .5ex;\n",
       "  margin: .5ex;\n",
       "  width: min-content;\n",
       "  min-width: 20ex;\n",
       "  max-width: 50ex;\n",
       "  color: var(--sklearn-color-text);\n",
       "  box-shadow: 2pt 2pt 4pt #999;\n",
       "  /* unfitted */\n",
       "  background: var(--sklearn-color-unfitted-level-0);\n",
       "  border: .5pt solid var(--sklearn-color-unfitted-level-3);\n",
       "}\n",
       "\n",
       ".sk-estimator-doc-link.fitted span {\n",
       "  /* fitted */\n",
       "  background: var(--sklearn-color-fitted-level-0);\n",
       "  border: var(--sklearn-color-fitted-level-3);\n",
       "}\n",
       "\n",
       ".sk-estimator-doc-link:hover span {\n",
       "  display: block;\n",
       "}\n",
       "\n",
       "/* \"?\"-specific style due to the `<a>` HTML tag */\n",
       "\n",
       "#sk-container-id-1 a.estimator_doc_link {\n",
       "  float: right;\n",
       "  font-size: 1rem;\n",
       "  line-height: 1em;\n",
       "  font-family: monospace;\n",
       "  background-color: var(--sklearn-color-background);\n",
       "  border-radius: 1rem;\n",
       "  height: 1rem;\n",
       "  width: 1rem;\n",
       "  text-decoration: none;\n",
       "  /* unfitted */\n",
       "  color: var(--sklearn-color-unfitted-level-1);\n",
       "  border: var(--sklearn-color-unfitted-level-1) 1pt solid;\n",
       "}\n",
       "\n",
       "#sk-container-id-1 a.estimator_doc_link.fitted {\n",
       "  /* fitted */\n",
       "  border: var(--sklearn-color-fitted-level-1) 1pt solid;\n",
       "  color: var(--sklearn-color-fitted-level-1);\n",
       "}\n",
       "\n",
       "/* On hover */\n",
       "#sk-container-id-1 a.estimator_doc_link:hover {\n",
       "  /* unfitted */\n",
       "  background-color: var(--sklearn-color-unfitted-level-3);\n",
       "  color: var(--sklearn-color-background);\n",
       "  text-decoration: none;\n",
       "}\n",
       "\n",
       "#sk-container-id-1 a.estimator_doc_link.fitted:hover {\n",
       "  /* fitted */\n",
       "  background-color: var(--sklearn-color-fitted-level-3);\n",
       "}\n",
       "\n",
       ".estimator-table summary {\n",
       "    padding: .5rem;\n",
       "    font-family: monospace;\n",
       "    cursor: pointer;\n",
       "}\n",
       "\n",
       ".estimator-table details[open] {\n",
       "    padding-left: 0.1rem;\n",
       "    padding-right: 0.1rem;\n",
       "    padding-bottom: 0.3rem;\n",
       "}\n",
       "\n",
       ".estimator-table .parameters-table {\n",
       "    margin-left: auto !important;\n",
       "    margin-right: auto !important;\n",
       "}\n",
       "\n",
       ".estimator-table .parameters-table tr:nth-child(odd) {\n",
       "    background-color: #fff;\n",
       "}\n",
       "\n",
       ".estimator-table .parameters-table tr:nth-child(even) {\n",
       "    background-color: #f6f6f6;\n",
       "}\n",
       "\n",
       ".estimator-table .parameters-table tr:hover {\n",
       "    background-color: #e0e0e0;\n",
       "}\n",
       "\n",
       ".estimator-table table td {\n",
       "    border: 1px solid rgba(106, 105, 104, 0.232);\n",
       "}\n",
       "\n",
       ".user-set td {\n",
       "    color:rgb(255, 94, 0);\n",
       "    text-align: left;\n",
       "}\n",
       "\n",
       ".user-set td.value pre {\n",
       "    color:rgb(255, 94, 0) !important;\n",
       "    background-color: transparent !important;\n",
       "}\n",
       "\n",
       ".default td {\n",
       "    color: black;\n",
       "    text-align: left;\n",
       "}\n",
       "\n",
       ".user-set td i,\n",
       ".default td i {\n",
       "    color: black;\n",
       "}\n",
       "\n",
       ".copy-paste-icon {\n",
       "    background-image: url(data:image/svg+xml;base64,PHN2ZyB4bWxucz0iaHR0cDovL3d3dy53My5vcmcvMjAwMC9zdmciIHZpZXdCb3g9IjAgMCA0NDggNTEyIj48IS0tIUZvbnQgQXdlc29tZSBGcmVlIDYuNy4yIGJ5IEBmb250YXdlc29tZSAtIGh0dHBzOi8vZm9udGF3ZXNvbWUuY29tIExpY2Vuc2UgLSBodHRwczovL2ZvbnRhd2Vzb21lLmNvbS9saWNlbnNlL2ZyZWUgQ29weXJpZ2h0IDIwMjUgRm9udGljb25zLCBJbmMuLS0+PHBhdGggZD0iTTIwOCAwTDMzMi4xIDBjMTIuNyAwIDI0LjkgNS4xIDMzLjkgMTQuMWw2Ny45IDY3LjljOSA5IDE0LjEgMjEuMiAxNC4xIDMzLjlMNDQ4IDMzNmMwIDI2LjUtMjEuNSA0OC00OCA0OGwtMTkyIDBjLTI2LjUgMC00OC0yMS41LTQ4LTQ4bDAtMjg4YzAtMjYuNSAyMS41LTQ4IDQ4LTQ4ek00OCAxMjhsODAgMCAwIDY0LTY0IDAgMCAyNTYgMTkyIDAgMC0zMiA2NCAwIDAgNDhjMCAyNi41LTIxLjUgNDgtNDggNDhMNDggNTEyYy0yNi41IDAtNDgtMjEuNS00OC00OEwwIDE3NmMwLTI2LjUgMjEuNS00OCA0OC00OHoiLz48L3N2Zz4=);\n",
       "    background-repeat: no-repeat;\n",
       "    background-size: 14px 14px;\n",
       "    background-position: 0;\n",
       "    display: inline-block;\n",
       "    width: 14px;\n",
       "    height: 14px;\n",
       "    cursor: pointer;\n",
       "}\n",
       "</style><body><div id=\"sk-container-id-1\" class=\"sk-top-container\"><div class=\"sk-text-repr-fallback\"><pre>IsolationForest(contamination=0.02, random_state=42)</pre><b>In a Jupyter environment, please rerun this cell to show the HTML representation or trust the notebook. <br />On GitHub, the HTML representation is unable to render, please try loading this page with nbviewer.org.</b></div><div class=\"sk-container\" hidden><div class=\"sk-item\"><div class=\"sk-estimator fitted sk-toggleable\"><input class=\"sk-toggleable__control sk-hidden--visually\" id=\"sk-estimator-id-1\" type=\"checkbox\" checked><label for=\"sk-estimator-id-1\" class=\"sk-toggleable__label fitted sk-toggleable__label-arrow\"><div><div>IsolationForest</div></div><div><a class=\"sk-estimator-doc-link fitted\" rel=\"noreferrer\" target=\"_blank\" href=\"https://scikit-learn.org/1.7/modules/generated/sklearn.ensemble.IsolationForest.html\">?<span>Documentation for IsolationForest</span></a><span class=\"sk-estimator-doc-link fitted\">i<span>Fitted</span></span></div></label><div class=\"sk-toggleable__content fitted\" data-param-prefix=\"\">\n",
       "        <div class=\"estimator-table\">\n",
       "            <details>\n",
       "                <summary>Parameters</summary>\n",
       "                <table class=\"parameters-table\">\n",
       "                  <tbody>\n",
       "                    \n",
       "        <tr class=\"default\">\n",
       "            <td><i class=\"copy-paste-icon\"\n",
       "                 onclick=\"copyToClipboard('n_estimators',\n",
       "                          this.parentElement.nextElementSibling)\"\n",
       "            ></i></td>\n",
       "            <td class=\"param\">n_estimators&nbsp;</td>\n",
       "            <td class=\"value\">100</td>\n",
       "        </tr>\n",
       "    \n",
       "\n",
       "        <tr class=\"default\">\n",
       "            <td><i class=\"copy-paste-icon\"\n",
       "                 onclick=\"copyToClipboard('max_samples',\n",
       "                          this.parentElement.nextElementSibling)\"\n",
       "            ></i></td>\n",
       "            <td class=\"param\">max_samples&nbsp;</td>\n",
       "            <td class=\"value\">&#x27;auto&#x27;</td>\n",
       "        </tr>\n",
       "    \n",
       "\n",
       "        <tr class=\"user-set\">\n",
       "            <td><i class=\"copy-paste-icon\"\n",
       "                 onclick=\"copyToClipboard('contamination',\n",
       "                          this.parentElement.nextElementSibling)\"\n",
       "            ></i></td>\n",
       "            <td class=\"param\">contamination&nbsp;</td>\n",
       "            <td class=\"value\">0.02</td>\n",
       "        </tr>\n",
       "    \n",
       "\n",
       "        <tr class=\"default\">\n",
       "            <td><i class=\"copy-paste-icon\"\n",
       "                 onclick=\"copyToClipboard('max_features',\n",
       "                          this.parentElement.nextElementSibling)\"\n",
       "            ></i></td>\n",
       "            <td class=\"param\">max_features&nbsp;</td>\n",
       "            <td class=\"value\">1.0</td>\n",
       "        </tr>\n",
       "    \n",
       "\n",
       "        <tr class=\"default\">\n",
       "            <td><i class=\"copy-paste-icon\"\n",
       "                 onclick=\"copyToClipboard('bootstrap',\n",
       "                          this.parentElement.nextElementSibling)\"\n",
       "            ></i></td>\n",
       "            <td class=\"param\">bootstrap&nbsp;</td>\n",
       "            <td class=\"value\">False</td>\n",
       "        </tr>\n",
       "    \n",
       "\n",
       "        <tr class=\"default\">\n",
       "            <td><i class=\"copy-paste-icon\"\n",
       "                 onclick=\"copyToClipboard('n_jobs',\n",
       "                          this.parentElement.nextElementSibling)\"\n",
       "            ></i></td>\n",
       "            <td class=\"param\">n_jobs&nbsp;</td>\n",
       "            <td class=\"value\">None</td>\n",
       "        </tr>\n",
       "    \n",
       "\n",
       "        <tr class=\"user-set\">\n",
       "            <td><i class=\"copy-paste-icon\"\n",
       "                 onclick=\"copyToClipboard('random_state',\n",
       "                          this.parentElement.nextElementSibling)\"\n",
       "            ></i></td>\n",
       "            <td class=\"param\">random_state&nbsp;</td>\n",
       "            <td class=\"value\">42</td>\n",
       "        </tr>\n",
       "    \n",
       "\n",
       "        <tr class=\"default\">\n",
       "            <td><i class=\"copy-paste-icon\"\n",
       "                 onclick=\"copyToClipboard('verbose',\n",
       "                          this.parentElement.nextElementSibling)\"\n",
       "            ></i></td>\n",
       "            <td class=\"param\">verbose&nbsp;</td>\n",
       "            <td class=\"value\">0</td>\n",
       "        </tr>\n",
       "    \n",
       "\n",
       "        <tr class=\"default\">\n",
       "            <td><i class=\"copy-paste-icon\"\n",
       "                 onclick=\"copyToClipboard('warm_start',\n",
       "                          this.parentElement.nextElementSibling)\"\n",
       "            ></i></td>\n",
       "            <td class=\"param\">warm_start&nbsp;</td>\n",
       "            <td class=\"value\">False</td>\n",
       "        </tr>\n",
       "    \n",
       "                  </tbody>\n",
       "                </table>\n",
       "            </details>\n",
       "        </div>\n",
       "    </div></div></div></div></div><script>function copyToClipboard(text, element) {\n",
       "    // Get the parameter prefix from the closest toggleable content\n",
       "    const toggleableContent = element.closest('.sk-toggleable__content');\n",
       "    const paramPrefix = toggleableContent ? toggleableContent.dataset.paramPrefix : '';\n",
       "    const fullParamName = paramPrefix ? `${paramPrefix}${text}` : text;\n",
       "\n",
       "    const originalStyle = element.style;\n",
       "    const computedStyle = window.getComputedStyle(element);\n",
       "    const originalWidth = computedStyle.width;\n",
       "    const originalHTML = element.innerHTML.replace('Copied!', '');\n",
       "\n",
       "    navigator.clipboard.writeText(fullParamName)\n",
       "        .then(() => {\n",
       "            element.style.width = originalWidth;\n",
       "            element.style.color = 'green';\n",
       "            element.innerHTML = \"Copied!\";\n",
       "\n",
       "            setTimeout(() => {\n",
       "                element.innerHTML = originalHTML;\n",
       "                element.style = originalStyle;\n",
       "            }, 2000);\n",
       "        })\n",
       "        .catch(err => {\n",
       "            console.error('Failed to copy:', err);\n",
       "            element.style.color = 'red';\n",
       "            element.innerHTML = \"Failed!\";\n",
       "            setTimeout(() => {\n",
       "                element.innerHTML = originalHTML;\n",
       "                element.style = originalStyle;\n",
       "            }, 2000);\n",
       "        });\n",
       "    return false;\n",
       "}\n",
       "\n",
       "document.querySelectorAll('.fa-regular.fa-copy').forEach(function(element) {\n",
       "    const toggleableContent = element.closest('.sk-toggleable__content');\n",
       "    const paramPrefix = toggleableContent ? toggleableContent.dataset.paramPrefix : '';\n",
       "    const paramName = element.parentElement.nextElementSibling.textContent.trim();\n",
       "    const fullParamName = paramPrefix ? `${paramPrefix}${paramName}` : paramName;\n",
       "\n",
       "    element.setAttribute('title', fullParamName);\n",
       "});\n",
       "</script></body>"
      ],
      "text/plain": [
       "IsolationForest(contamination=0.02, random_state=42)"
      ]
     },
     "execution_count": 18,
     "metadata": {},
     "output_type": "execute_result"
    }
   ],
   "source": [
    "relevant_features = ['Transaction_Amount',\n",
    "                     'Average_Transaction_Amount',\n",
    "                     'Frequency_of_Transactions']\n",
    "\n",
    "# Split data into features (X) and target variable (y)\n",
    "X = data[relevant_features]\n",
    "y = data['Is_Anomaly']\n",
    "\n",
    "# Split data into train and test sets\n",
    "X_train, X_test, y_train, y_test = train_test_split(X, y, test_size=0.2, random_state=42)\n",
    "\n",
    "# Train the Isolation Forest model\n",
    "model = IsolationForest(contamination=0.02, random_state=42)\n",
    "model.fit(X_train)"
   ]
  },
  {
   "cell_type": "markdown",
   "metadata": {},
   "source": [
    "\n",
    "1.  **Choose the Data:** We pick three pieces of information to study: the transaction amount, the customer's average amount, and how often they make transactions.\n",
    "2.  **Separate for Training:** We divide our data into two groups:\n",
    "    *   One group has the three pieces of information (we call this `X`).\n",
    "    *   The other group has the \"answers\" that say if a transaction is normal or fraud (we call this `y`).\n",
    "3.  **Split the Data:** We take the `X` and `y` groups and split them again:\n",
    "    *   80% is used to **train** the model.\n",
    "    *   20% is saved to **test** the model later.\n",
    "4.  **Create the Model:** We set up the \"Isolation Forest\" model.\n",
    "    *   We tell it we expect only about 2% of the data to be fraud.\n",
    "    *   We set a random seed so the experiment can be repeated exactly.\n",
    "5.  **Train the Model:** Finally, we teach (or \"train\") the model using the 80% training data we set aside."
   ]
  },
  {
   "cell_type": "code",
   "execution_count": 19,
   "metadata": {},
   "outputs": [
    {
     "name": "stdout",
     "output_type": "stream",
     "text": [
      "              precision    recall  f1-score   support\n",
      "\n",
      "      Normal       1.00      1.00      1.00       196\n",
      "     Anomaly       1.00      1.00      1.00         4\n",
      "\n",
      "    accuracy                           1.00       200\n",
      "   macro avg       1.00      1.00      1.00       200\n",
      "weighted avg       1.00      1.00      1.00       200\n",
      "\n"
     ]
    }
   ],
   "source": [
    "## PERFORMANCE EVALUATION\n",
    "\n",
    "# Predict anomalies on the test set\n",
    "y_pred = model.predict(X_test)\n",
    "\n",
    "# Convert predictions to binary values (0: normal, 1: anomaly)\n",
    "y_pred_binary = [1 if pred == -1 else 0 for pred in y_pred]\n",
    "\n",
    "# Evaluate the model's performance\n",
    "report = classification_report(y_test, y_pred_binary, target_names=['Normal', 'Anomaly'])\n",
    "print(report)"
   ]
  },
  {
   "cell_type": "code",
   "execution_count": 20,
   "metadata": {},
   "outputs": [
    {
     "name": "stdout",
     "output_type": "stream",
     "text": [
      "No anomaly detected: This transaction is normal.\n"
     ]
    }
   ],
   "source": [
    "# Relevant features used during training\n",
    "relevant_features = ['Transaction_Amount', 'Average_Transaction_Amount', 'Frequency_of_Transactions']\n",
    "\n",
    "# Get user inputs for features\n",
    "user_inputs = []\n",
    "for feature in relevant_features:\n",
    "    user_input = float(input(f\"Enter the value for '{feature}': \"))\n",
    "    user_inputs.append(user_input)\n",
    "\n",
    "# Create a DataFrame from user inputs\n",
    "user_df = pd.DataFrame([user_inputs], columns=relevant_features)\n",
    "\n",
    "# Predict anomalies using the model\n",
    "user_anomaly_pred = model.predict(user_df)\n",
    "\n",
    "# Convert the prediction to binary value (0: normal, 1: anomaly)\n",
    "user_anomaly_pred_binary = 1 if user_anomaly_pred == -1 else 0\n",
    "\n",
    "if user_anomaly_pred_binary == 1:\n",
    "    print(\"Anomaly detected: This transaction is flagged as an anomaly.\")\n",
    "else:\n",
    "    print(\"No anomaly detected: This transaction is normal.\")"
   ]
  },
  {
   "cell_type": "markdown",
   "metadata": {},
   "source": [
    "RESULTS :\n",
    "\n",
    "Enter the value for 'Transaction_Amount': 10000\n",
    "\n",
    "Enter the value for 'Average_Transaction_Amount': 900\n",
    "\n",
    "Enter the value for 'Frequency_of_Transactions': 6\n",
    "\n",
    "Anomaly detected: This transaction is flagged as an anomaly."
   ]
  }
 ],
 "metadata": {
  "kernelspec": {
   "display_name": "ds",
   "language": "python",
   "name": "python3"
  },
  "language_info": {
   "codemirror_mode": {
    "name": "ipython",
    "version": 3
   },
   "file_extension": ".py",
   "mimetype": "text/x-python",
   "name": "python",
   "nbconvert_exporter": "python",
   "pygments_lexer": "ipython3",
   "version": "3.11.13"
  }
 },
 "nbformat": 4,
 "nbformat_minor": 2
}
